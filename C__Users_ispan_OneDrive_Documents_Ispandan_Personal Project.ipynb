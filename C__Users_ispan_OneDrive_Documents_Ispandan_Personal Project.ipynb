{
 "cells": [
  {
   "cell_type": "markdown",
   "metadata": {},
   "source": [
    "# Business Understanding"
   ]
  },
  {
   "cell_type": "markdown",
   "metadata": {},
   "source": [
    "This is a Sales predictive project which was one of my data analytics coursework projects I completed during my MSc Business Aanalytics at Alliance Manchester Business School. The purpose of this project is to predict the sales for different stores in the retail sector. The project involved the analysis of store-related factors and historical sales data which was collected form a range of large drug stores across Europe. \n",
    "\n",
    "As sales can be affected by many factors such as promotions, competion, holidays, seasonility and locality as a result they are difficult to accurately predict. In this project I will be predicting 6 weeks of daily sales for 1,115 drug stores. Hopefully, a reliable sales forecasts will enable the store managers to increase their overall productivity and profitibility of the retail business, improve their customer satisfaction and lower churn rate. \n",
    "\n",
    "One of the biggest challenges of this project was to effectively pre-process the training dataset, as there are a large number of missing values. Additionally, the dataset dimension is also required to be reduced through appropriate means. Additionally, range of predictive modelling techniques were also explored.  "
   ]
  },
  {
   "cell_type": "markdown",
   "metadata": {},
   "source": [
    "## Store Dataset columns breakdown"
   ]
  },
  {
   "cell_type": "markdown",
   "metadata": {},
   "source": [
    "1) Store -->\tthe anonymised store number.\n",
    "\n",
    "2) StoreType -->\t4 different store models: a, b, c, d.\n",
    "\n",
    "3) Assortment -->\tan assortment level: a = basic, b = extra, c = extended.\n",
    "\n",
    "4) CompetitionDistance -->\tdistance in meters to the nearest competitor store.\n",
    "\n",
    "5) CompetitionOpenSinceMonth -->\tthe approximate month of the time when the nearest competitor was opened.\n",
    "\n",
    "6) CompetitionOpenSinceYear --> the approximate year of the time when the nearest competitor was opened.\n",
    "\n",
    "7) Promo2 -->\ta continuing and consecutive promotion, e.g., a coupon based mailing campaign, for some stores: 0 = store is not participating, 1 = store is participating.\n",
    "\n",
    "8) Promo2SinceWeek -->\tthe calendar week when the store started participating in Promo2.\n",
    "\n",
    "9) Promo2SinceYear -->\tthe year when the store started participating in Promo2.\n",
    "\n",
    "10) PromoInterval -->\tthe consecutive intervals in which Promo2 is re-started, naming the months the promotion is started anew. e.g., \"Feb,May,Aug,Nov\" means each round of the coupon based mailing campaign starts in February, May, August, November of any given year for that store, as the coupons, mostly for a discount on certain products are usually valid for three months, and a new round of mail needs to be sent to customers just before those coupons have expired.\n"
   ]
  },
  {
   "cell_type": "markdown",
   "metadata": {},
   "source": [
    "## Train Dataset Breakdown"
   ]
  },
  {
   "cell_type": "markdown",
   "metadata": {},
   "source": [
    "1) Store --->\tthe anonymised store number.\n",
    "\n",
    "2) DayOfWeek -->\tthe day of the week: 1 = Monday, 2 = Tuesday, ….\n",
    "\n",
    "3) Date -->\tthe given date.\n",
    "\n",
    "4) Sales --> the turnover on a given day.\n",
    "\n",
    "5) Customers -->\tthe number of customers on a given day.\n",
    "\n",
    "6) Open --> \tan indicator for whether the store was open on that day: 0 = closed, 1 = open.\n",
    "\n",
    "7) Promo -->\tindicates whether a store is running a store-specific promo on that day.\n",
    "\n",
    "8) StateHoliday -->\tindicates a state holiday. Normally all stores, with few exceptions, are closed on state holidays. Note that all schools are closed on public holidays and weekends. a = public holiday, b = Easter holiday, c = Christmas, 0 = none.\n",
    "\n",
    "9) SchoolHoliday -->\tindicates if the (Store, Date) was affected by the closure of public schools\n"
   ]
  },
  {
   "cell_type": "markdown",
   "metadata": {},
   "source": [
    "## Test Dataset Breakdown"
   ]
  },
  {
   "cell_type": "markdown",
   "metadata": {},
   "source": [
    "This file is identical to train.csv, except that Sales and Customers are unknown for the period of 01/08/2015 to 17/09/2015."
   ]
  },
  {
   "cell_type": "markdown",
   "metadata": {},
   "source": [
    "## Evaluation of Forecasting accuracy"
   ]
  },
  {
   "cell_type": "markdown",
   "metadata": {},
   "source": [
    "For this project I have selected the Root Mean Suared Error(RMSE) as the metric to evaluate the performacne of the different modeling methods. "
   ]
  },
  {
   "cell_type": "markdown",
   "metadata": {},
   "source": [
    "# Data Cleaning"
   ]
  },
  {
   "cell_type": "code",
   "execution_count": 521,
   "metadata": {},
   "outputs": [],
   "source": [
    "#installing depndencies \n",
    "import pandas as pd \n",
    "import seaborn as sns \n",
    "import numpy as np \n",
    "from matplotlib import*\n",
    "import matplotlib.pyplot as plt\n",
    "from matplotlib.cm import register_cmap\n",
    "from scipy import stats\n",
    "import sklearn\n",
    "from sklearn import preprocessing\n",
    "from sklearn.decomposition import PCA as sklearnPCA\n",
    "from sklearn.preprocessing import StandardScaler\n",
    "from sklearn.preprocessing import scale\n",
    "\n",
    "from sklearn.decomposition import PCA"
   ]
  },
  {
   "cell_type": "code",
   "execution_count": 522,
   "metadata": {},
   "outputs": [
    {
     "name": "stderr",
     "output_type": "stream",
     "text": [
      "C:\\Users\\ispan\\anaconda3\\lib\\site-packages\\IPython\\core\\interactiveshell.py:3146: DtypeWarning: Columns (7) have mixed types.Specify dtype option on import or set low_memory=False.\n",
      "  has_raised = await self.run_ast_nodes(code_ast.body, cell_name,\n"
     ]
    }
   ],
   "source": [
    "#Importing the two datasets separately\n",
    "train = pd.read_csv(\"DA2021_train.csv\")\n",
    "store = pd.read_csv(\"DA2021_store.csv\")"
   ]
  },
  {
   "cell_type": "code",
   "execution_count": 523,
   "metadata": {},
   "outputs": [
    {
     "name": "stdout",
     "output_type": "stream",
     "text": [
      "<class 'pandas.core.frame.DataFrame'>\n",
      "RangeIndex: 1017209 entries, 0 to 1017208\n",
      "Data columns (total 9 columns):\n",
      " #   Column         Non-Null Count    Dtype \n",
      "---  ------         --------------    ----- \n",
      " 0   Store          1017209 non-null  int64 \n",
      " 1   DayOfWeek      1017209 non-null  int64 \n",
      " 2   Date           1017209 non-null  object\n",
      " 3   Sales          1017209 non-null  int64 \n",
      " 4   Customers      1017209 non-null  int64 \n",
      " 5   Open           1017209 non-null  int64 \n",
      " 6   Promo          1017209 non-null  int64 \n",
      " 7   StateHoliday   1017209 non-null  object\n",
      " 8   SchoolHoliday  1017209 non-null  int64 \n",
      "dtypes: int64(7), object(2)\n",
      "memory usage: 69.8+ MB\n"
     ]
    }
   ],
   "source": [
    "train.info()"
   ]
  },
  {
   "cell_type": "code",
   "execution_count": 524,
   "metadata": {},
   "outputs": [
    {
     "name": "stdout",
     "output_type": "stream",
     "text": [
      "<class 'pandas.core.frame.DataFrame'>\n",
      "RangeIndex: 1115 entries, 0 to 1114\n",
      "Data columns (total 12 columns):\n",
      " #   Column                     Non-Null Count  Dtype  \n",
      "---  ------                     --------------  -----  \n",
      " 0   Store                      1115 non-null   int64  \n",
      " 1   StoreType                  1115 non-null   object \n",
      " 2   Assortment                 1115 non-null   object \n",
      " 3   CompetitionDistance        1112 non-null   float64\n",
      " 4   CompetitionOpenSinceMonth  761 non-null    float64\n",
      " 5   CompetitionOpenSinceYear   761 non-null    float64\n",
      " 6   Promo2                     1115 non-null   int64  \n",
      " 7   Promo2SinceWeek            571 non-null    float64\n",
      " 8   Promo2SinceYear            571 non-null    float64\n",
      " 9   PromoInterval              571 non-null    object \n",
      " 10  Unnamed: 10                0 non-null      float64\n",
      " 11  Unnamed: 11                1 non-null      object \n",
      "dtypes: float64(6), int64(2), object(4)\n",
      "memory usage: 104.7+ KB\n"
     ]
    }
   ],
   "source": [
    "store.info()"
   ]
  },
  {
   "cell_type": "code",
   "execution_count": 525,
   "metadata": {},
   "outputs": [
    {
     "data": {
      "text/html": [
       "<div>\n",
       "<style scoped>\n",
       "    .dataframe tbody tr th:only-of-type {\n",
       "        vertical-align: middle;\n",
       "    }\n",
       "\n",
       "    .dataframe tbody tr th {\n",
       "        vertical-align: top;\n",
       "    }\n",
       "\n",
       "    .dataframe thead th {\n",
       "        text-align: right;\n",
       "    }\n",
       "</style>\n",
       "<table border=\"1\" class=\"dataframe\">\n",
       "  <thead>\n",
       "    <tr style=\"text-align: right;\">\n",
       "      <th></th>\n",
       "      <th>Store</th>\n",
       "      <th>DayOfWeek</th>\n",
       "      <th>Date</th>\n",
       "      <th>Sales</th>\n",
       "      <th>Customers</th>\n",
       "      <th>Open</th>\n",
       "      <th>Promo</th>\n",
       "      <th>StateHoliday</th>\n",
       "      <th>SchoolHoliday</th>\n",
       "    </tr>\n",
       "  </thead>\n",
       "  <tbody>\n",
       "    <tr>\n",
       "      <th>0</th>\n",
       "      <td>1</td>\n",
       "      <td>5</td>\n",
       "      <td>31/07/2015</td>\n",
       "      <td>5263</td>\n",
       "      <td>555</td>\n",
       "      <td>1</td>\n",
       "      <td>1</td>\n",
       "      <td>0</td>\n",
       "      <td>1</td>\n",
       "    </tr>\n",
       "    <tr>\n",
       "      <th>1</th>\n",
       "      <td>2</td>\n",
       "      <td>5</td>\n",
       "      <td>31/07/2015</td>\n",
       "      <td>6064</td>\n",
       "      <td>625</td>\n",
       "      <td>1</td>\n",
       "      <td>1</td>\n",
       "      <td>0</td>\n",
       "      <td>1</td>\n",
       "    </tr>\n",
       "    <tr>\n",
       "      <th>2</th>\n",
       "      <td>3</td>\n",
       "      <td>5</td>\n",
       "      <td>31/07/2015</td>\n",
       "      <td>8314</td>\n",
       "      <td>821</td>\n",
       "      <td>1</td>\n",
       "      <td>1</td>\n",
       "      <td>0</td>\n",
       "      <td>1</td>\n",
       "    </tr>\n",
       "    <tr>\n",
       "      <th>3</th>\n",
       "      <td>4</td>\n",
       "      <td>5</td>\n",
       "      <td>31/07/2015</td>\n",
       "      <td>13995</td>\n",
       "      <td>1498</td>\n",
       "      <td>1</td>\n",
       "      <td>1</td>\n",
       "      <td>0</td>\n",
       "      <td>1</td>\n",
       "    </tr>\n",
       "    <tr>\n",
       "      <th>4</th>\n",
       "      <td>5</td>\n",
       "      <td>5</td>\n",
       "      <td>31/07/2015</td>\n",
       "      <td>4822</td>\n",
       "      <td>559</td>\n",
       "      <td>1</td>\n",
       "      <td>1</td>\n",
       "      <td>0</td>\n",
       "      <td>1</td>\n",
       "    </tr>\n",
       "  </tbody>\n",
       "</table>\n",
       "</div>"
      ],
      "text/plain": [
       "   Store  DayOfWeek        Date  Sales  Customers  Open  Promo StateHoliday  \\\n",
       "0      1          5  31/07/2015   5263        555     1      1            0   \n",
       "1      2          5  31/07/2015   6064        625     1      1            0   \n",
       "2      3          5  31/07/2015   8314        821     1      1            0   \n",
       "3      4          5  31/07/2015  13995       1498     1      1            0   \n",
       "4      5          5  31/07/2015   4822        559     1      1            0   \n",
       "\n",
       "   SchoolHoliday  \n",
       "0              1  \n",
       "1              1  \n",
       "2              1  \n",
       "3              1  \n",
       "4              1  "
      ]
     },
     "execution_count": 525,
     "metadata": {},
     "output_type": "execute_result"
    }
   ],
   "source": [
    "train.head()"
   ]
  },
  {
   "cell_type": "code",
   "execution_count": 526,
   "metadata": {},
   "outputs": [
    {
     "data": {
      "text/html": [
       "<div>\n",
       "<style scoped>\n",
       "    .dataframe tbody tr th:only-of-type {\n",
       "        vertical-align: middle;\n",
       "    }\n",
       "\n",
       "    .dataframe tbody tr th {\n",
       "        vertical-align: top;\n",
       "    }\n",
       "\n",
       "    .dataframe thead th {\n",
       "        text-align: right;\n",
       "    }\n",
       "</style>\n",
       "<table border=\"1\" class=\"dataframe\">\n",
       "  <thead>\n",
       "    <tr style=\"text-align: right;\">\n",
       "      <th></th>\n",
       "      <th>Store</th>\n",
       "      <th>StoreType</th>\n",
       "      <th>Assortment</th>\n",
       "      <th>CompetitionDistance</th>\n",
       "      <th>CompetitionOpenSinceMonth</th>\n",
       "      <th>CompetitionOpenSinceYear</th>\n",
       "      <th>Promo2</th>\n",
       "      <th>Promo2SinceWeek</th>\n",
       "      <th>Promo2SinceYear</th>\n",
       "      <th>PromoInterval</th>\n",
       "      <th>Unnamed: 10</th>\n",
       "      <th>Unnamed: 11</th>\n",
       "    </tr>\n",
       "  </thead>\n",
       "  <tbody>\n",
       "    <tr>\n",
       "      <th>0</th>\n",
       "      <td>1</td>\n",
       "      <td>c</td>\n",
       "      <td>a</td>\n",
       "      <td>1270.0</td>\n",
       "      <td>9.0</td>\n",
       "      <td>2008.0</td>\n",
       "      <td>0</td>\n",
       "      <td>NaN</td>\n",
       "      <td>NaN</td>\n",
       "      <td>NaN</td>\n",
       "      <td>NaN</td>\n",
       "      <td></td>\n",
       "    </tr>\n",
       "    <tr>\n",
       "      <th>1</th>\n",
       "      <td>2</td>\n",
       "      <td>a</td>\n",
       "      <td>a</td>\n",
       "      <td>570.0</td>\n",
       "      <td>11.0</td>\n",
       "      <td>2007.0</td>\n",
       "      <td>1</td>\n",
       "      <td>13.0</td>\n",
       "      <td>2010.0</td>\n",
       "      <td>Jan,Apr,Jul,Oct</td>\n",
       "      <td>NaN</td>\n",
       "      <td>NaN</td>\n",
       "    </tr>\n",
       "    <tr>\n",
       "      <th>2</th>\n",
       "      <td>3</td>\n",
       "      <td>a</td>\n",
       "      <td>a</td>\n",
       "      <td>14130.0</td>\n",
       "      <td>12.0</td>\n",
       "      <td>2006.0</td>\n",
       "      <td>1</td>\n",
       "      <td>14.0</td>\n",
       "      <td>2011.0</td>\n",
       "      <td>Jan,Apr,Jul,Oct</td>\n",
       "      <td>NaN</td>\n",
       "      <td>NaN</td>\n",
       "    </tr>\n",
       "    <tr>\n",
       "      <th>3</th>\n",
       "      <td>4</td>\n",
       "      <td>c</td>\n",
       "      <td>c</td>\n",
       "      <td>620.0</td>\n",
       "      <td>9.0</td>\n",
       "      <td>2009.0</td>\n",
       "      <td>0</td>\n",
       "      <td>NaN</td>\n",
       "      <td>NaN</td>\n",
       "      <td>NaN</td>\n",
       "      <td>NaN</td>\n",
       "      <td>NaN</td>\n",
       "    </tr>\n",
       "    <tr>\n",
       "      <th>4</th>\n",
       "      <td>5</td>\n",
       "      <td>a</td>\n",
       "      <td>a</td>\n",
       "      <td>29910.0</td>\n",
       "      <td>4.0</td>\n",
       "      <td>2015.0</td>\n",
       "      <td>0</td>\n",
       "      <td>NaN</td>\n",
       "      <td>NaN</td>\n",
       "      <td>NaN</td>\n",
       "      <td>NaN</td>\n",
       "      <td>NaN</td>\n",
       "    </tr>\n",
       "  </tbody>\n",
       "</table>\n",
       "</div>"
      ],
      "text/plain": [
       "   Store StoreType Assortment  CompetitionDistance  CompetitionOpenSinceMonth  \\\n",
       "0      1         c          a               1270.0                        9.0   \n",
       "1      2         a          a                570.0                       11.0   \n",
       "2      3         a          a              14130.0                       12.0   \n",
       "3      4         c          c                620.0                        9.0   \n",
       "4      5         a          a              29910.0                        4.0   \n",
       "\n",
       "   CompetitionOpenSinceYear  Promo2  Promo2SinceWeek  Promo2SinceYear  \\\n",
       "0                    2008.0       0              NaN              NaN   \n",
       "1                    2007.0       1             13.0           2010.0   \n",
       "2                    2006.0       1             14.0           2011.0   \n",
       "3                    2009.0       0              NaN              NaN   \n",
       "4                    2015.0       0              NaN              NaN   \n",
       "\n",
       "     PromoInterval  Unnamed: 10 Unnamed: 11  \n",
       "0              NaN          NaN              \n",
       "1  Jan,Apr,Jul,Oct          NaN         NaN  \n",
       "2  Jan,Apr,Jul,Oct          NaN         NaN  \n",
       "3              NaN          NaN         NaN  \n",
       "4              NaN          NaN         NaN  "
      ]
     },
     "execution_count": 526,
     "metadata": {},
     "output_type": "execute_result"
    }
   ],
   "source": [
    "store.head()"
   ]
  },
  {
   "cell_type": "code",
   "execution_count": 527,
   "metadata": {},
   "outputs": [
    {
     "data": {
      "text/html": [
       "<div>\n",
       "<style scoped>\n",
       "    .dataframe tbody tr th:only-of-type {\n",
       "        vertical-align: middle;\n",
       "    }\n",
       "\n",
       "    .dataframe tbody tr th {\n",
       "        vertical-align: top;\n",
       "    }\n",
       "\n",
       "    .dataframe thead th {\n",
       "        text-align: right;\n",
       "    }\n",
       "</style>\n",
       "<table border=\"1\" class=\"dataframe\">\n",
       "  <thead>\n",
       "    <tr style=\"text-align: right;\">\n",
       "      <th></th>\n",
       "      <th>Store</th>\n",
       "      <th>DayOfWeek</th>\n",
       "      <th>Sales</th>\n",
       "      <th>Customers</th>\n",
       "      <th>Open</th>\n",
       "      <th>Promo</th>\n",
       "      <th>SchoolHoliday</th>\n",
       "    </tr>\n",
       "  </thead>\n",
       "  <tbody>\n",
       "    <tr>\n",
       "      <th>count</th>\n",
       "      <td>1.017209e+06</td>\n",
       "      <td>1.017209e+06</td>\n",
       "      <td>1.017209e+06</td>\n",
       "      <td>1.017209e+06</td>\n",
       "      <td>1.017209e+06</td>\n",
       "      <td>1.017209e+06</td>\n",
       "      <td>1.017209e+06</td>\n",
       "    </tr>\n",
       "    <tr>\n",
       "      <th>mean</th>\n",
       "      <td>5.584297e+02</td>\n",
       "      <td>3.998341e+00</td>\n",
       "      <td>5.773819e+03</td>\n",
       "      <td>6.331459e+02</td>\n",
       "      <td>8.301067e-01</td>\n",
       "      <td>3.815145e-01</td>\n",
       "      <td>1.786467e-01</td>\n",
       "    </tr>\n",
       "    <tr>\n",
       "      <th>std</th>\n",
       "      <td>3.219087e+02</td>\n",
       "      <td>1.997391e+00</td>\n",
       "      <td>3.849926e+03</td>\n",
       "      <td>4.644117e+02</td>\n",
       "      <td>3.755392e-01</td>\n",
       "      <td>4.857586e-01</td>\n",
       "      <td>3.830564e-01</td>\n",
       "    </tr>\n",
       "    <tr>\n",
       "      <th>min</th>\n",
       "      <td>1.000000e+00</td>\n",
       "      <td>1.000000e+00</td>\n",
       "      <td>0.000000e+00</td>\n",
       "      <td>0.000000e+00</td>\n",
       "      <td>0.000000e+00</td>\n",
       "      <td>0.000000e+00</td>\n",
       "      <td>0.000000e+00</td>\n",
       "    </tr>\n",
       "    <tr>\n",
       "      <th>25%</th>\n",
       "      <td>2.800000e+02</td>\n",
       "      <td>2.000000e+00</td>\n",
       "      <td>3.727000e+03</td>\n",
       "      <td>4.050000e+02</td>\n",
       "      <td>1.000000e+00</td>\n",
       "      <td>0.000000e+00</td>\n",
       "      <td>0.000000e+00</td>\n",
       "    </tr>\n",
       "    <tr>\n",
       "      <th>50%</th>\n",
       "      <td>5.580000e+02</td>\n",
       "      <td>4.000000e+00</td>\n",
       "      <td>5.744000e+03</td>\n",
       "      <td>6.090000e+02</td>\n",
       "      <td>1.000000e+00</td>\n",
       "      <td>0.000000e+00</td>\n",
       "      <td>0.000000e+00</td>\n",
       "    </tr>\n",
       "    <tr>\n",
       "      <th>75%</th>\n",
       "      <td>8.380000e+02</td>\n",
       "      <td>6.000000e+00</td>\n",
       "      <td>7.856000e+03</td>\n",
       "      <td>8.370000e+02</td>\n",
       "      <td>1.000000e+00</td>\n",
       "      <td>1.000000e+00</td>\n",
       "      <td>0.000000e+00</td>\n",
       "    </tr>\n",
       "    <tr>\n",
       "      <th>max</th>\n",
       "      <td>1.115000e+03</td>\n",
       "      <td>7.000000e+00</td>\n",
       "      <td>4.155100e+04</td>\n",
       "      <td>7.388000e+03</td>\n",
       "      <td>1.000000e+00</td>\n",
       "      <td>1.000000e+00</td>\n",
       "      <td>1.000000e+00</td>\n",
       "    </tr>\n",
       "  </tbody>\n",
       "</table>\n",
       "</div>"
      ],
      "text/plain": [
       "              Store     DayOfWeek         Sales     Customers          Open  \\\n",
       "count  1.017209e+06  1.017209e+06  1.017209e+06  1.017209e+06  1.017209e+06   \n",
       "mean   5.584297e+02  3.998341e+00  5.773819e+03  6.331459e+02  8.301067e-01   \n",
       "std    3.219087e+02  1.997391e+00  3.849926e+03  4.644117e+02  3.755392e-01   \n",
       "min    1.000000e+00  1.000000e+00  0.000000e+00  0.000000e+00  0.000000e+00   \n",
       "25%    2.800000e+02  2.000000e+00  3.727000e+03  4.050000e+02  1.000000e+00   \n",
       "50%    5.580000e+02  4.000000e+00  5.744000e+03  6.090000e+02  1.000000e+00   \n",
       "75%    8.380000e+02  6.000000e+00  7.856000e+03  8.370000e+02  1.000000e+00   \n",
       "max    1.115000e+03  7.000000e+00  4.155100e+04  7.388000e+03  1.000000e+00   \n",
       "\n",
       "              Promo  SchoolHoliday  \n",
       "count  1.017209e+06   1.017209e+06  \n",
       "mean   3.815145e-01   1.786467e-01  \n",
       "std    4.857586e-01   3.830564e-01  \n",
       "min    0.000000e+00   0.000000e+00  \n",
       "25%    0.000000e+00   0.000000e+00  \n",
       "50%    0.000000e+00   0.000000e+00  \n",
       "75%    1.000000e+00   0.000000e+00  \n",
       "max    1.000000e+00   1.000000e+00  "
      ]
     },
     "execution_count": 527,
     "metadata": {},
     "output_type": "execute_result"
    }
   ],
   "source": [
    "train.describe()"
   ]
  },
  {
   "cell_type": "code",
   "execution_count": 528,
   "metadata": {},
   "outputs": [
    {
     "data": {
      "text/html": [
       "<div>\n",
       "<style scoped>\n",
       "    .dataframe tbody tr th:only-of-type {\n",
       "        vertical-align: middle;\n",
       "    }\n",
       "\n",
       "    .dataframe tbody tr th {\n",
       "        vertical-align: top;\n",
       "    }\n",
       "\n",
       "    .dataframe thead th {\n",
       "        text-align: right;\n",
       "    }\n",
       "</style>\n",
       "<table border=\"1\" class=\"dataframe\">\n",
       "  <thead>\n",
       "    <tr style=\"text-align: right;\">\n",
       "      <th></th>\n",
       "      <th>Store</th>\n",
       "      <th>CompetitionDistance</th>\n",
       "      <th>CompetitionOpenSinceMonth</th>\n",
       "      <th>CompetitionOpenSinceYear</th>\n",
       "      <th>Promo2</th>\n",
       "      <th>Promo2SinceWeek</th>\n",
       "      <th>Promo2SinceYear</th>\n",
       "      <th>Unnamed: 10</th>\n",
       "    </tr>\n",
       "  </thead>\n",
       "  <tbody>\n",
       "    <tr>\n",
       "      <th>count</th>\n",
       "      <td>1115.00000</td>\n",
       "      <td>1112.000000</td>\n",
       "      <td>761.000000</td>\n",
       "      <td>761.000000</td>\n",
       "      <td>1115.000000</td>\n",
       "      <td>571.000000</td>\n",
       "      <td>571.000000</td>\n",
       "      <td>0.0</td>\n",
       "    </tr>\n",
       "    <tr>\n",
       "      <th>mean</th>\n",
       "      <td>558.00000</td>\n",
       "      <td>5404.901079</td>\n",
       "      <td>7.224704</td>\n",
       "      <td>2008.668857</td>\n",
       "      <td>0.512108</td>\n",
       "      <td>23.595447</td>\n",
       "      <td>2011.763573</td>\n",
       "      <td>NaN</td>\n",
       "    </tr>\n",
       "    <tr>\n",
       "      <th>std</th>\n",
       "      <td>322.01708</td>\n",
       "      <td>7663.174720</td>\n",
       "      <td>3.212348</td>\n",
       "      <td>6.195983</td>\n",
       "      <td>0.500078</td>\n",
       "      <td>14.141984</td>\n",
       "      <td>1.674935</td>\n",
       "      <td>NaN</td>\n",
       "    </tr>\n",
       "    <tr>\n",
       "      <th>min</th>\n",
       "      <td>1.00000</td>\n",
       "      <td>20.000000</td>\n",
       "      <td>1.000000</td>\n",
       "      <td>1900.000000</td>\n",
       "      <td>0.000000</td>\n",
       "      <td>1.000000</td>\n",
       "      <td>2009.000000</td>\n",
       "      <td>NaN</td>\n",
       "    </tr>\n",
       "    <tr>\n",
       "      <th>25%</th>\n",
       "      <td>279.50000</td>\n",
       "      <td>717.500000</td>\n",
       "      <td>4.000000</td>\n",
       "      <td>2006.000000</td>\n",
       "      <td>0.000000</td>\n",
       "      <td>13.000000</td>\n",
       "      <td>2011.000000</td>\n",
       "      <td>NaN</td>\n",
       "    </tr>\n",
       "    <tr>\n",
       "      <th>50%</th>\n",
       "      <td>558.00000</td>\n",
       "      <td>2325.000000</td>\n",
       "      <td>8.000000</td>\n",
       "      <td>2010.000000</td>\n",
       "      <td>1.000000</td>\n",
       "      <td>22.000000</td>\n",
       "      <td>2012.000000</td>\n",
       "      <td>NaN</td>\n",
       "    </tr>\n",
       "    <tr>\n",
       "      <th>75%</th>\n",
       "      <td>836.50000</td>\n",
       "      <td>6882.500000</td>\n",
       "      <td>10.000000</td>\n",
       "      <td>2013.000000</td>\n",
       "      <td>1.000000</td>\n",
       "      <td>37.000000</td>\n",
       "      <td>2013.000000</td>\n",
       "      <td>NaN</td>\n",
       "    </tr>\n",
       "    <tr>\n",
       "      <th>max</th>\n",
       "      <td>1115.00000</td>\n",
       "      <td>75860.000000</td>\n",
       "      <td>12.000000</td>\n",
       "      <td>2015.000000</td>\n",
       "      <td>1.000000</td>\n",
       "      <td>50.000000</td>\n",
       "      <td>2015.000000</td>\n",
       "      <td>NaN</td>\n",
       "    </tr>\n",
       "  </tbody>\n",
       "</table>\n",
       "</div>"
      ],
      "text/plain": [
       "            Store  CompetitionDistance  CompetitionOpenSinceMonth  \\\n",
       "count  1115.00000          1112.000000                 761.000000   \n",
       "mean    558.00000          5404.901079                   7.224704   \n",
       "std     322.01708          7663.174720                   3.212348   \n",
       "min       1.00000            20.000000                   1.000000   \n",
       "25%     279.50000           717.500000                   4.000000   \n",
       "50%     558.00000          2325.000000                   8.000000   \n",
       "75%     836.50000          6882.500000                  10.000000   \n",
       "max    1115.00000         75860.000000                  12.000000   \n",
       "\n",
       "       CompetitionOpenSinceYear       Promo2  Promo2SinceWeek  \\\n",
       "count                761.000000  1115.000000       571.000000   \n",
       "mean                2008.668857     0.512108        23.595447   \n",
       "std                    6.195983     0.500078        14.141984   \n",
       "min                 1900.000000     0.000000         1.000000   \n",
       "25%                 2006.000000     0.000000        13.000000   \n",
       "50%                 2010.000000     1.000000        22.000000   \n",
       "75%                 2013.000000     1.000000        37.000000   \n",
       "max                 2015.000000     1.000000        50.000000   \n",
       "\n",
       "       Promo2SinceYear  Unnamed: 10  \n",
       "count       571.000000          0.0  \n",
       "mean       2011.763573          NaN  \n",
       "std           1.674935          NaN  \n",
       "min        2009.000000          NaN  \n",
       "25%        2011.000000          NaN  \n",
       "50%        2012.000000          NaN  \n",
       "75%        2013.000000          NaN  \n",
       "max        2015.000000          NaN  "
      ]
     },
     "execution_count": 528,
     "metadata": {},
     "output_type": "execute_result"
    }
   ],
   "source": [
    "store.describe()"
   ]
  },
  {
   "cell_type": "code",
   "execution_count": 529,
   "metadata": {},
   "outputs": [],
   "source": [
    "#look at numeric and categorical values separately\n",
    "store_num = store[[\"CompetitionDistance\",\"CompetitionOpenSinceMonth\",\"CompetitionOpenSinceYear\", \"Promo2SinceWeek\",\"Promo2SinceYear\"]]\n",
    "store_cat = store[[\"Store\", \"StoreType\", \"Assortment\", \"Promo2\", \"PromoInterval\"]]"
   ]
  },
  {
   "cell_type": "code",
   "execution_count": 530,
   "metadata": {
    "scrolled": false
   },
   "outputs": [
    {
     "data": {
      "image/png": "[encoded data removed]",
      "text/plain": [
       "<Figure size 432x288 with 1 Axes>"
      ]
     },
     "metadata": {
      "needs_background": "light"
     },
     "output_type": "display_data"
    },
    {
     "data": {
      "image/png": "[encoded data removed]",
      "text/plain": [
       "<Figure size 432x288 with 1 Axes>"
      ]
     },
     "metadata": {
      "needs_background": "light"
     },
     "output_type": "display_data"
    },
    {
     "data": {
      "image/png": "[encoded data removed]",
      "text/plain": [
       "<Figure size 432x288 with 1 Axes>"
      ]
     },
     "metadata": {
      "needs_background": "light"
     },
     "output_type": "display_data"
    },
    {
     "data": {
      "image/png": "[encoded data removed]",
      "text/plain": [
       "<Figure size 432x288 with 1 Axes>"
      ]
     },
     "metadata": {
      "needs_background": "light"
     },
     "output_type": "display_data"
    },
    {
     "data": {
      "image/png": "[encoded data removed]",
      "text/plain": [
       "<Figure size 432x288 with 1 Axes>"
      ]
     },
     "metadata": {
      "needs_background": "light"
     },
     "output_type": "display_data"
    }
   ],
   "source": [
    "for i in store_num.columns:\n",
    "    plt.hist(store_num[i])\n",
    "    plt.title(i)\n",
    "    plt.show()"
   ]
  },
  {
   "cell_type": "code",
   "execution_count": 531,
   "metadata": {},
   "outputs": [
    {
     "name": "stderr",
     "output_type": "stream",
     "text": [
      "C:\\Users\\ispan\\anaconda3\\lib\\site-packages\\seaborn\\distributions.py:2551: FutureWarning: `distplot` is a deprecated function and will be removed in a future version. Please adapt your code to use either `displot` (a figure-level function with similar flexibility) or `histplot` (an axes-level function for histograms).\n",
      "  warnings.warn(msg, FutureWarning)\n"
     ]
    },
    {
     "data": {
      "text/plain": [
       "Text(0.5, 1.0, 'CompetitionDistance')"
      ]
     },
     "execution_count": 531,
     "metadata": {},
     "output_type": "execute_result"
    },
    {
     "data": {
      "image/png": "[encoded data removed]",
      "text/plain": [
       "<Figure size 432x288 with 1 Axes>"
      ]
     },
     "metadata": {
      "needs_background": "light"
     },
     "output_type": "display_data"
    }
   ],
   "source": [
    "sns.distplot(store_num['CompetitionDistance'], bins = 25).set_title(\"CompetitionDistance\")\n"
   ]
  },
  {
   "cell_type": "code",
   "execution_count": 532,
   "metadata": {},
   "outputs": [
    {
     "name": "stderr",
     "output_type": "stream",
     "text": [
      "C:\\Users\\ispan\\anaconda3\\lib\\site-packages\\seaborn\\distributions.py:2551: FutureWarning: `distplot` is a deprecated function and will be removed in a future version. Please adapt your code to use either `displot` (a figure-level function with similar flexibility) or `histplot` (an axes-level function for histograms).\n",
      "  warnings.warn(msg, FutureWarning)\n"
     ]
    },
    {
     "data": {
      "text/plain": [
       "Text(0.5, 1.0, 'CompetitionOpenSinceYear')"
      ]
     },
     "execution_count": 532,
     "metadata": {},
     "output_type": "execute_result"
    },
    {
     "data": {
      "image/png": "[encoded data removed]",
      "text/plain": [
       "<Figure size 432x288 with 1 Axes>"
      ]
     },
     "metadata": {
      "needs_background": "light"
     },
     "output_type": "display_data"
    }
   ],
   "source": [
    "sns.distplot(store_num['CompetitionOpenSinceYear'], bins = 25).set_title(\"CompetitionOpenSinceYear\")\n"
   ]
  },
  {
   "cell_type": "code",
   "execution_count": 533,
   "metadata": {},
   "outputs": [
    {
     "name": "stdout",
     "output_type": "stream",
     "text": [
      "                           CompetitionDistance  CompetitionOpenSinceMonth  \\\n",
      "CompetitionDistance                   1.000000                  -0.059126   \n",
      "CompetitionOpenSinceMonth            -0.059126                   1.000000   \n",
      "CompetitionOpenSinceYear              0.025124                  -0.052250   \n",
      "Promo2SinceWeek                      -0.060552                  -0.035504   \n",
      "Promo2SinceYear                      -0.109504                   0.047815   \n",
      "\n",
      "                           CompetitionOpenSinceYear  Promo2SinceWeek  \\\n",
      "CompetitionDistance                        0.025124        -0.060552   \n",
      "CompetitionOpenSinceMonth                 -0.052250        -0.035504   \n",
      "CompetitionOpenSinceYear                   1.000000        -0.079984   \n",
      "Promo2SinceWeek                           -0.079984         1.000000   \n",
      "Promo2SinceYear                            0.006354        -0.217650   \n",
      "\n",
      "                           Promo2SinceYear  \n",
      "CompetitionDistance              -0.109504  \n",
      "CompetitionOpenSinceMonth         0.047815  \n",
      "CompetitionOpenSinceYear          0.006354  \n",
      "Promo2SinceWeek                  -0.217650  \n",
      "Promo2SinceYear                   1.000000  \n"
     ]
    },
    {
     "data": {
      "text/plain": [
       "<AxesSubplot:>"
      ]
     },
     "execution_count": 533,
     "metadata": {},
     "output_type": "execute_result"
    },
    {
     "data": {
      "image/png": "[encoded data removed]",
      "text/plain": [
       "<Figure size 432x288 with 2 Axes>"
      ]
     },
     "metadata": {
      "needs_background": "light"
     },
     "output_type": "display_data"
    }
   ],
   "source": [
    "# Now looking at the correlation among the numerical values\n",
    "print(store_num.corr())\n",
    "sns.heatmap(store_num.corr())"
   ]
  },
  {
   "cell_type": "markdown",
   "metadata": {},
   "source": [
    "### From heatmap we can outline that there are no siginificant correlation between the variables"
   ]
  },
  {
   "cell_type": "code",
   "execution_count": 534,
   "metadata": {
    "scrolled": false
   },
   "outputs": [
    {
     "name": "stderr",
     "output_type": "stream",
     "text": [
      "C:\\Users\\ispan\\anaconda3\\lib\\site-packages\\seaborn\\_decorators.py:36: FutureWarning: Pass the following variables as keyword args: x, y. From version 0.12, the only valid positional argument will be `data`, and passing other arguments without an explicit keyword will result in an error or misinterpretation.\n",
      "  warnings.warn(\n"
     ]
    },
    {
     "data": {
      "image/png": "[encoded data removed]",
      "text/plain": [
       "<Figure size 432x288 with 1 Axes>"
      ]
     },
     "metadata": {
      "needs_background": "light"
     },
     "output_type": "display_data"
    },
    {
     "name": "stderr",
     "output_type": "stream",
     "text": [
      "C:\\Users\\ispan\\anaconda3\\lib\\site-packages\\seaborn\\_decorators.py:36: FutureWarning: Pass the following variables as keyword args: x, y. From version 0.12, the only valid positional argument will be `data`, and passing other arguments without an explicit keyword will result in an error or misinterpretation.\n",
      "  warnings.warn(\n"
     ]
    },
    {
     "data": {
      "image/png": "[encoded data removed]",
      "text/plain": [
       "<Figure size 432x288 with 1 Axes>"
      ]
     },
     "metadata": {
      "needs_background": "light"
     },
     "output_type": "display_data"
    },
    {
     "name": "stderr",
     "output_type": "stream",
     "text": [
      "C:\\Users\\ispan\\anaconda3\\lib\\site-packages\\seaborn\\_decorators.py:36: FutureWarning: Pass the following variables as keyword args: x, y. From version 0.12, the only valid positional argument will be `data`, and passing other arguments without an explicit keyword will result in an error or misinterpretation.\n",
      "  warnings.warn(\n"
     ]
    },
    {
     "data": {
      "image/png": "[encoded data removed]",
      "text/plain": [
       "<Figure size 432x288 with 1 Axes>"
      ]
     },
     "metadata": {
      "needs_background": "light"
     },
     "output_type": "display_data"
    },
    {
     "name": "stderr",
     "output_type": "stream",
     "text": [
      "C:\\Users\\ispan\\anaconda3\\lib\\site-packages\\seaborn\\_decorators.py:36: FutureWarning: Pass the following variables as keyword args: x, y. From version 0.12, the only valid positional argument will be `data`, and passing other arguments without an explicit keyword will result in an error or misinterpretation.\n",
      "  warnings.warn(\n"
     ]
    },
    {
     "data": {
      "image/png": "[encoded data removed]",
      "text/plain": [
       "<Figure size 432x288 with 1 Axes>"
      ]
     },
     "metadata": {
      "needs_background": "light"
     },
     "output_type": "display_data"
    },
    {
     "name": "stderr",
     "output_type": "stream",
     "text": [
      "C:\\Users\\ispan\\anaconda3\\lib\\site-packages\\seaborn\\_decorators.py:36: FutureWarning: Pass the following variables as keyword args: x, y. From version 0.12, the only valid positional argument will be `data`, and passing other arguments without an explicit keyword will result in an error or misinterpretation.\n",
      "  warnings.warn(\n"
     ]
    },
    {
     "data": {
      "image/png": "[encoded data removed]",
      "text/plain": [
       "<Figure size 432x288 with 1 Axes>"
      ]
     },
     "metadata": {
      "needs_background": "light"
     },
     "output_type": "display_data"
    }
   ],
   "source": [
    "#Now for the categoricla variables \n",
    "for i in store_cat.columns:\n",
    "    sns.barplot(store_cat[i].value_counts().index, store_cat[i].value_counts()).set_title(i)\n",
    "    plt.show()"
   ]
  },
  {
   "cell_type": "code",
   "execution_count": 535,
   "metadata": {},
   "outputs": [],
   "source": [
    "#look at numeric and categorical values separately\n",
    "train_num = train[[\"Sales\",\"Customers\"]]\n",
    "train_cat = train[[\"Store\",\"DayOfWeek\", \"Date\", \"Open\",\"Promo\", \"StateHoliday\", \"SchoolHoliday\"]]"
   ]
  },
  {
   "cell_type": "code",
   "execution_count": 536,
   "metadata": {},
   "outputs": [
    {
     "data": {
      "text/html": [
       "<div>\n",
       "<style scoped>\n",
       "    .dataframe tbody tr th:only-of-type {\n",
       "        vertical-align: middle;\n",
       "    }\n",
       "\n",
       "    .dataframe tbody tr th {\n",
       "        vertical-align: top;\n",
       "    }\n",
       "\n",
       "    .dataframe thead th {\n",
       "        text-align: right;\n",
       "    }\n",
       "</style>\n",
       "<table border=\"1\" class=\"dataframe\">\n",
       "  <thead>\n",
       "    <tr style=\"text-align: right;\">\n",
       "      <th></th>\n",
       "      <th>Store</th>\n",
       "      <th>DayOfWeek</th>\n",
       "      <th>Date</th>\n",
       "      <th>Sales</th>\n",
       "      <th>Customers</th>\n",
       "      <th>Open</th>\n",
       "      <th>Promo</th>\n",
       "      <th>StateHoliday</th>\n",
       "      <th>SchoolHoliday</th>\n",
       "    </tr>\n",
       "  </thead>\n",
       "  <tbody>\n",
       "    <tr>\n",
       "      <th>0</th>\n",
       "      <td>1</td>\n",
       "      <td>5</td>\n",
       "      <td>31/07/2015</td>\n",
       "      <td>5263</td>\n",
       "      <td>555</td>\n",
       "      <td>1</td>\n",
       "      <td>1</td>\n",
       "      <td>0</td>\n",
       "      <td>1</td>\n",
       "    </tr>\n",
       "    <tr>\n",
       "      <th>1</th>\n",
       "      <td>2</td>\n",
       "      <td>5</td>\n",
       "      <td>31/07/2015</td>\n",
       "      <td>6064</td>\n",
       "      <td>625</td>\n",
       "      <td>1</td>\n",
       "      <td>1</td>\n",
       "      <td>0</td>\n",
       "      <td>1</td>\n",
       "    </tr>\n",
       "    <tr>\n",
       "      <th>2</th>\n",
       "      <td>3</td>\n",
       "      <td>5</td>\n",
       "      <td>31/07/2015</td>\n",
       "      <td>8314</td>\n",
       "      <td>821</td>\n",
       "      <td>1</td>\n",
       "      <td>1</td>\n",
       "      <td>0</td>\n",
       "      <td>1</td>\n",
       "    </tr>\n",
       "    <tr>\n",
       "      <th>3</th>\n",
       "      <td>4</td>\n",
       "      <td>5</td>\n",
       "      <td>31/07/2015</td>\n",
       "      <td>13995</td>\n",
       "      <td>1498</td>\n",
       "      <td>1</td>\n",
       "      <td>1</td>\n",
       "      <td>0</td>\n",
       "      <td>1</td>\n",
       "    </tr>\n",
       "    <tr>\n",
       "      <th>4</th>\n",
       "      <td>5</td>\n",
       "      <td>5</td>\n",
       "      <td>31/07/2015</td>\n",
       "      <td>4822</td>\n",
       "      <td>559</td>\n",
       "      <td>1</td>\n",
       "      <td>1</td>\n",
       "      <td>0</td>\n",
       "      <td>1</td>\n",
       "    </tr>\n",
       "  </tbody>\n",
       "</table>\n",
       "</div>"
      ],
      "text/plain": [
       "   Store  DayOfWeek        Date  Sales  Customers  Open  Promo StateHoliday  \\\n",
       "0      1          5  31/07/2015   5263        555     1      1            0   \n",
       "1      2          5  31/07/2015   6064        625     1      1            0   \n",
       "2      3          5  31/07/2015   8314        821     1      1            0   \n",
       "3      4          5  31/07/2015  13995       1498     1      1            0   \n",
       "4      5          5  31/07/2015   4822        559     1      1            0   \n",
       "\n",
       "   SchoolHoliday  \n",
       "0              1  \n",
       "1              1  \n",
       "2              1  \n",
       "3              1  \n",
       "4              1  "
      ]
     },
     "execution_count": 536,
     "metadata": {},
     "output_type": "execute_result"
    }
   ],
   "source": [
    "train.head()"
   ]
  },
  {
   "cell_type": "code",
   "execution_count": 537,
   "metadata": {},
   "outputs": [
    {
     "data": {
      "image/png": "[encoded data removed]",
      "text/plain": [
       "<Figure size 432x288 with 1 Axes>"
      ]
     },
     "metadata": {
      "needs_background": "light"
     },
     "output_type": "display_data"
    },
    {
     "data": {
      "image/png": "[encoded data removed]",
      "text/plain": [
       "<Figure size 432x288 with 1 Axes>"
      ]
     },
     "metadata": {
      "needs_background": "light"
     },
     "output_type": "display_data"
    }
   ],
   "source": [
    "for i in train_num.columns:\n",
    "    plt.hist(train_num[i])\n",
    "    plt.title(i)\n",
    "    plt.show()"
   ]
  },
  {
   "cell_type": "code",
   "execution_count": 538,
   "metadata": {},
   "outputs": [
    {
     "name": "stderr",
     "output_type": "stream",
     "text": [
      "C:\\Users\\ispan\\anaconda3\\lib\\site-packages\\seaborn\\distributions.py:2551: FutureWarning: `distplot` is a deprecated function and will be removed in a future version. Please adapt your code to use either `displot` (a figure-level function with similar flexibility) or `histplot` (an axes-level function for histograms).\n",
      "  warnings.warn(msg, FutureWarning)\n"
     ]
    },
    {
     "data": {
      "text/plain": [
       "Text(0.5, 1.0, 'Sales')"
      ]
     },
     "execution_count": 538,
     "metadata": {},
     "output_type": "execute_result"
    },
    {
     "data": {
      "image/png": "[encoded data removed]",
      "text/plain": [
       "<Figure size 432x288 with 1 Axes>"
      ]
     },
     "metadata": {
      "needs_background": "light"
     },
     "output_type": "display_data"
    }
   ],
   "source": [
    "#Creating a distibution chart\n",
    "sns.distplot(train_num['Sales'], bins = 25).set_title(\"Sales\")"
   ]
  },
  {
   "cell_type": "code",
   "execution_count": 539,
   "metadata": {},
   "outputs": [
    {
     "name": "stderr",
     "output_type": "stream",
     "text": [
      "C:\\Users\\ispan\\anaconda3\\lib\\site-packages\\seaborn\\distributions.py:2551: FutureWarning: `distplot` is a deprecated function and will be removed in a future version. Please adapt your code to use either `displot` (a figure-level function with similar flexibility) or `histplot` (an axes-level function for histograms).\n",
      "  warnings.warn(msg, FutureWarning)\n"
     ]
    },
    {
     "data": {
      "text/plain": [
       "Text(0.5, 1.0, 'Customers')"
      ]
     },
     "execution_count": 539,
     "metadata": {},
     "output_type": "execute_result"
    },
    {
     "data": {
      "image/png": "[encoded data removed]",
      "text/plain": [
       "<Figure size 432x288 with 1 Axes>"
      ]
     },
     "metadata": {
      "needs_background": "light"
     },
     "output_type": "display_data"
    }
   ],
   "source": [
    "sns.distplot(train_num['Customers'], bins = 25).set_title(\"Customers\")"
   ]
  },
  {
   "cell_type": "code",
   "execution_count": 540,
   "metadata": {},
   "outputs": [
    {
     "name": "stdout",
     "output_type": "stream",
     "text": [
      "              Sales  Customers\n",
      "Sales      1.000000   0.894711\n",
      "Customers  0.894711   1.000000\n"
     ]
    },
    {
     "data": {
      "text/plain": [
       "<AxesSubplot:>"
      ]
     },
     "execution_count": 540,
     "metadata": {},
     "output_type": "execute_result"
    },
    {
     "data": {
      "image/png": "[encoded data removed]",
      "text/plain": [
       "<Figure size 432x288 with 2 Axes>"
      ]
     },
     "metadata": {
      "needs_background": "light"
     },
     "output_type": "display_data"
    }
   ],
   "source": [
    "# Now looking at the correlation among the numerical values\n",
    "print(train_num.corr())\n",
    "sns.heatmap(train_num.corr())"
   ]
  },
  {
   "cell_type": "markdown",
   "metadata": {},
   "source": [
    "##### From this we can tell that there is a positive correlation between customers and sales"
   ]
  },
  {
   "cell_type": "code",
   "execution_count": 541,
   "metadata": {},
   "outputs": [
    {
     "data": {
      "text/plain": [
       "<matplotlib.collections.PathCollection at 0x1a436742d90>"
      ]
     },
     "execution_count": 541,
     "metadata": {},
     "output_type": "execute_result"
    },
    {
     "data": {
      "image/png": "[encoded data removed]",
      "text/plain": [
       "<Figure size 432x288 with 1 Axes>"
      ]
     },
     "metadata": {
      "needs_background": "light"
     },
     "output_type": "display_data"
    }
   ],
   "source": [
    "plt.scatter(train_num[\"Sales\"],train_num[\"Customers\"])"
   ]
  },
  {
   "cell_type": "code",
   "execution_count": 542,
   "metadata": {},
   "outputs": [
    {
     "name": "stdout",
     "output_type": "stream",
     "text": [
      "[[14821931.55475776  1599698.92375404]\n",
      " [ 1599698.92375404   215678.25857159]]\n"
     ]
    }
   ],
   "source": [
    "#calcualting the covariance between Sales and customers\n",
    "covariance = np.cov(train_num[\"Sales\"],train_num[\"Customers\"])\n",
    "print(covariance)"
   ]
  },
  {
   "cell_type": "markdown",
   "metadata": {},
   "source": [
    "###### The covariance between the two variable is verry strong at 1599698.92375404, as this is a verry high number we will use Spearman's RankCorrelation to confirm this relationship"
   ]
  },
  {
   "cell_type": "code",
   "execution_count": 543,
   "metadata": {},
   "outputs": [
    {
     "name": "stdout",
     "output_type": "stream",
     "text": [
      "Spearmans correlation: 0.9034\n"
     ]
    }
   ],
   "source": [
    "#Calculating the Spearman's Rank correlation as the variable are not normally distibuted\n",
    "from scipy.stats import spearmanr\n",
    "\n",
    "corr = spearmanr(train_num[\"Sales\"],train_num[\"Customers\"])\n",
    "print(\"Spearmans correlation:\",corr[0].round(4))"
   ]
  },
  {
   "cell_type": "markdown",
   "metadata": {},
   "source": [
    "##### Spearmans Rank Correlation score of 0.9034 indicates a strong monotonic relationship between the two variables, therefore it would be sufficient to drop one of the variables.  We will carry on with the sales variable and drop customers. "
   ]
  },
  {
   "cell_type": "code",
   "execution_count": 544,
   "metadata": {
    "scrolled": false
   },
   "outputs": [
    {
     "name": "stderr",
     "output_type": "stream",
     "text": [
      "C:\\Users\\ispan\\anaconda3\\lib\\site-packages\\seaborn\\_decorators.py:36: FutureWarning: Pass the following variables as keyword args: x, y. From version 0.12, the only valid positional argument will be `data`, and passing other arguments without an explicit keyword will result in an error or misinterpretation.\n",
      "  warnings.warn(\n"
     ]
    },
    {
     "data": {
      "image/png": "[encoded data removed]",
      "text/plain": [
       "<Figure size 432x288 with 1 Axes>"
      ]
     },
     "metadata": {
      "needs_background": "light"
     },
     "output_type": "display_data"
    },
    {
     "name": "stderr",
     "output_type": "stream",
     "text": [
      "C:\\Users\\ispan\\anaconda3\\lib\\site-packages\\seaborn\\_decorators.py:36: FutureWarning: Pass the following variables as keyword args: x, y. From version 0.12, the only valid positional argument will be `data`, and passing other arguments without an explicit keyword will result in an error or misinterpretation.\n",
      "  warnings.warn(\n"
     ]
    },
    {
     "data": {
      "image/png": "[encoded data removed]",
      "text/plain": [
       "<Figure size 432x288 with 1 Axes>"
      ]
     },
     "metadata": {
      "needs_background": "light"
     },
     "output_type": "display_data"
    },
    {
     "name": "stderr",
     "output_type": "stream",
     "text": [
      "C:\\Users\\ispan\\anaconda3\\lib\\site-packages\\seaborn\\_decorators.py:36: FutureWarning: Pass the following variables as keyword args: x, y. From version 0.12, the only valid positional argument will be `data`, and passing other arguments without an explicit keyword will result in an error or misinterpretation.\n",
      "  warnings.warn(\n"
     ]
    },
    {
     "data": {
      "image/png": "[encoded data removed]",
      "text/plain": [
       "<Figure size 432x288 with 1 Axes>"
      ]
     },
     "metadata": {
      "needs_background": "light"
     },
     "output_type": "display_data"
    },
    {
     "name": "stderr",
     "output_type": "stream",
     "text": [
      "C:\\Users\\ispan\\anaconda3\\lib\\site-packages\\seaborn\\_decorators.py:36: FutureWarning: Pass the following variables as keyword args: x, y. From version 0.12, the only valid positional argument will be `data`, and passing other arguments without an explicit keyword will result in an error or misinterpretation.\n",
      "  warnings.warn(\n"
     ]
    },
    {
     "data": {
      "image/png": "[encoded data removed]",
      "text/plain": [
       "<Figure size 432x288 with 1 Axes>"
      ]
     },
     "metadata": {
      "needs_background": "light"
     },
     "output_type": "display_data"
    },
    {
     "name": "stderr",
     "output_type": "stream",
     "text": [
      "C:\\Users\\ispan\\anaconda3\\lib\\site-packages\\seaborn\\_decorators.py:36: FutureWarning: Pass the following variables as keyword args: x, y. From version 0.12, the only valid positional argument will be `data`, and passing other arguments without an explicit keyword will result in an error or misinterpretation.\n",
      "  warnings.warn(\n"
     ]
    },
    {
     "data": {
      "image/png": "[encoded data removed]",
      "text/plain": [
       "<Figure size 432x288 with 1 Axes>"
      ]
     },
     "metadata": {
      "needs_background": "light"
     },
     "output_type": "display_data"
    },
    {
     "name": "stderr",
     "output_type": "stream",
     "text": [
      "C:\\Users\\ispan\\anaconda3\\lib\\site-packages\\seaborn\\_decorators.py:36: FutureWarning: Pass the following variables as keyword args: x, y. From version 0.12, the only valid positional argument will be `data`, and passing other arguments without an explicit keyword will result in an error or misinterpretation.\n",
      "  warnings.warn(\n"
     ]
    },
    {
     "data": {
      "image/png": "[encoded data removed]",
      "text/plain": [
       "<Figure size 432x288 with 1 Axes>"
      ]
     },
     "metadata": {
      "needs_background": "light"
     },
     "output_type": "display_data"
    },
    {
     "name": "stderr",
     "output_type": "stream",
     "text": [
      "C:\\Users\\ispan\\anaconda3\\lib\\site-packages\\seaborn\\_decorators.py:36: FutureWarning: Pass the following variables as keyword args: x, y. From version 0.12, the only valid positional argument will be `data`, and passing other arguments without an explicit keyword will result in an error or misinterpretation.\n",
      "  warnings.warn(\n"
     ]
    },
    {
     "data": {
      "image/png": "[encoded data removed]",
      "text/plain": [
       "<Figure size 432x288 with 1 Axes>"
      ]
     },
     "metadata": {
      "needs_background": "light"
     },
     "output_type": "display_data"
    }
   ],
   "source": [
    "#Now for the categoricla variables \n",
    "for i in train_cat.columns:\n",
    "    sns.barplot(train_cat[i].value_counts().index, train_cat[i].value_counts()).set_title(i)\n",
    "    plt.show()"
   ]
  },
  {
   "cell_type": "markdown",
   "metadata": {},
   "source": [
    "## Data Cleaning"
   ]
  },
  {
   "cell_type": "code",
   "execution_count": 545,
   "metadata": {},
   "outputs": [
    {
     "data": {
      "text/plain": [
       "Store            0.0\n",
       "DayOfWeek        0.0\n",
       "Date             0.0\n",
       "Sales            0.0\n",
       "Customers        0.0\n",
       "Open             0.0\n",
       "Promo            0.0\n",
       "StateHoliday     0.0\n",
       "SchoolHoliday    0.0\n",
       "dtype: float64"
      ]
     },
     "execution_count": 545,
     "metadata": {},
     "output_type": "execute_result"
    }
   ],
   "source": [
    "#Finding the % of missing values\n",
    "train.isnull().mean()"
   ]
  },
  {
   "cell_type": "code",
   "execution_count": 546,
   "metadata": {},
   "outputs": [
    {
     "data": {
      "text/plain": [
       "Store                          0.000000\n",
       "StoreType                      0.000000\n",
       "Assortment                     0.000000\n",
       "CompetitionDistance            0.269058\n",
       "CompetitionOpenSinceMonth     31.748879\n",
       "CompetitionOpenSinceYear      31.748879\n",
       "Promo2                         0.000000\n",
       "Promo2SinceWeek               48.789238\n",
       "Promo2SinceYear               48.789238\n",
       "PromoInterval                 48.789238\n",
       "Unnamed: 10                  100.000000\n",
       "Unnamed: 11                   99.910314\n",
       "dtype: float64"
      ]
     },
     "execution_count": 546,
     "metadata": {},
     "output_type": "execute_result"
    }
   ],
   "source": [
    "#Finding the % of missing values in the store data set\n",
    "store.isnull().mean()*100"
   ]
  },
  {
   "cell_type": "code",
   "execution_count": 547,
   "metadata": {},
   "outputs": [],
   "source": [
    "#filling Competition Distance with mean values as the % of missing values is less than 1%\n",
    "store['CompetitionDistance'].fillna(store['CompetitionDistance'].mean(), inplace=True)"
   ]
  },
  {
   "cell_type": "code",
   "execution_count": 548,
   "metadata": {},
   "outputs": [
    {
     "data": {
      "text/plain": [
       "Store                          0.000000\n",
       "StoreType                      0.000000\n",
       "Assortment                     0.000000\n",
       "CompetitionDistance            0.000000\n",
       "CompetitionOpenSinceMonth     31.748879\n",
       "CompetitionOpenSinceYear      31.748879\n",
       "Promo2                         0.000000\n",
       "Promo2SinceWeek               48.789238\n",
       "Promo2SinceYear               48.789238\n",
       "PromoInterval                 48.789238\n",
       "Unnamed: 10                  100.000000\n",
       "Unnamed: 11                   99.910314\n",
       "dtype: float64"
      ]
     },
     "execution_count": 548,
     "metadata": {},
     "output_type": "execute_result"
    }
   ],
   "source": [
    "#Finding the % of missing values in the store data set\n",
    "store.isnull().mean()*100"
   ]
  },
  {
   "cell_type": "code",
   "execution_count": 549,
   "metadata": {},
   "outputs": [],
   "source": [
    "# Dropping unwanted variables\n",
    "store = store.drop(['Unnamed: 10','Unnamed: 11'], axis = 1)"
   ]
  },
  {
   "cell_type": "code",
   "execution_count": 550,
   "metadata": {},
   "outputs": [
    {
     "data": {
      "text/plain": [
       "Store                        0.000000\n",
       "StoreType                    0.000000\n",
       "Assortment                   0.000000\n",
       "CompetitionDistance          0.000000\n",
       "CompetitionOpenSinceMonth    0.317489\n",
       "CompetitionOpenSinceYear     0.317489\n",
       "Promo2                       0.000000\n",
       "Promo2SinceWeek              0.487892\n",
       "Promo2SinceYear              0.487892\n",
       "PromoInterval                0.487892\n",
       "dtype: float64"
      ]
     },
     "execution_count": 550,
     "metadata": {},
     "output_type": "execute_result"
    }
   ],
   "source": [
    "store.isnull().mean()"
   ]
  },
  {
   "cell_type": "code",
   "execution_count": 551,
   "metadata": {},
   "outputs": [
    {
     "data": {
      "text/plain": [
       "(1115, 10)"
      ]
     },
     "execution_count": 551,
     "metadata": {},
     "output_type": "execute_result"
    }
   ],
   "source": [
    "#Finding the dimensions of the store dataset\n",
    "store.shape"
   ]
  },
  {
   "cell_type": "code",
   "execution_count": 552,
   "metadata": {},
   "outputs": [
    {
     "data": {
      "text/plain": [
       "Index(['Store', 'StoreType', 'Assortment', 'CompetitionDistance',\n",
       "       'CompetitionOpenSinceMonth', 'CompetitionOpenSinceYear', 'Promo2',\n",
       "       'Promo2SinceWeek', 'Promo2SinceYear', 'PromoInterval'],\n",
       "      dtype='object')"
      ]
     },
     "execution_count": 552,
     "metadata": {},
     "output_type": "execute_result"
    }
   ],
   "source": [
    "#List of columns in the store dataset\n",
    "store.columns"
   ]
  },
  {
   "cell_type": "markdown",
   "metadata": {},
   "source": [
    "## Using the KNN method to impute the missing values\n",
    "I have used this method as this method will impute the most realistic missing value replacement"
   ]
  },
  {
   "cell_type": "code",
   "execution_count": 553,
   "metadata": {},
   "outputs": [],
   "source": [
    "# creating a copy as a backup\n",
    "store_knn = store.copy()"
   ]
  },
  {
   "cell_type": "code",
   "execution_count": 554,
   "metadata": {},
   "outputs": [
    {
     "data": {
      "text/plain": [
       "array([nan, 'Jan,Apr,Jul,Oct', 'Feb,May,Aug,Nov', 'Mar,Jun,Sept,Dec'],\n",
       "      dtype=object)"
      ]
     },
     "execution_count": 554,
     "metadata": {},
     "output_type": "execute_result"
    }
   ],
   "source": [
    "store['PromoInterval'].unique()"
   ]
  },
  {
   "cell_type": "code",
   "execution_count": 555,
   "metadata": {},
   "outputs": [
    {
     "data": {
      "text/plain": [
       "array(['c', 'a', 'd', 'b'], dtype=object)"
      ]
     },
     "execution_count": 555,
     "metadata": {},
     "output_type": "execute_result"
    }
   ],
   "source": [
    "store['StoreType'].unique()"
   ]
  },
  {
   "cell_type": "code",
   "execution_count": 556,
   "metadata": {},
   "outputs": [
    {
     "data": {
      "text/plain": [
       "array(['a', 'c', 'b'], dtype=object)"
      ]
     },
     "execution_count": 556,
     "metadata": {},
     "output_type": "execute_result"
    }
   ],
   "source": [
    "store['Assortment'].unique()"
   ]
  },
  {
   "cell_type": "code",
   "execution_count": 557,
   "metadata": {},
   "outputs": [],
   "source": [
    "store[\"PromoInterval\"] = store[\"PromoInterval\"].fillna('0')"
   ]
  },
  {
   "cell_type": "code",
   "execution_count": 558,
   "metadata": {},
   "outputs": [
    {
     "data": {
      "text/plain": [
       "array(['0', 'Jan,Apr,Jul,Oct', 'Feb,May,Aug,Nov', 'Mar,Jun,Sept,Dec'],\n",
       "      dtype=object)"
      ]
     },
     "execution_count": 558,
     "metadata": {},
     "output_type": "execute_result"
    }
   ],
   "source": [
    "store[\"PromoInterval\"].unique()"
   ]
  },
  {
   "cell_type": "code",
   "execution_count": 559,
   "metadata": {},
   "outputs": [],
   "source": [
    "# Import label encoder\n",
    "from sklearn import preprocessing\n",
    "  \n",
    "# label_encoder object knows how to understand word labels.\n",
    "label_encoder = preprocessing.LabelEncoder()\n",
    "  \n",
    "# Encode labels in column 'species'.\n",
    "store['PromoInterval']= label_encoder.fit_transform(store['PromoInterval'])"
   ]
  },
  {
   "cell_type": "code",
   "execution_count": 560,
   "metadata": {},
   "outputs": [],
   "source": [
    "store['StoreType']= label_encoder.fit_transform(store['StoreType'])\n",
    "store['Assortment']= label_encoder.fit_transform(store['Assortment'])"
   ]
  },
  {
   "cell_type": "code",
   "execution_count": 561,
   "metadata": {},
   "outputs": [
    {
     "data": {
      "text/plain": [
       "array([0, 2, 1, 3])"
      ]
     },
     "execution_count": 561,
     "metadata": {},
     "output_type": "execute_result"
    }
   ],
   "source": [
    "store['PromoInterval'].unique()"
   ]
  },
  {
   "cell_type": "code",
   "execution_count": 562,
   "metadata": {},
   "outputs": [
    {
     "data": {
      "text/plain": [
       "array([2, 0, 3, 1])"
      ]
     },
     "execution_count": 562,
     "metadata": {},
     "output_type": "execute_result"
    }
   ],
   "source": [
    "store['StoreType'].unique()"
   ]
  },
  {
   "cell_type": "code",
   "execution_count": 563,
   "metadata": {},
   "outputs": [
    {
     "data": {
      "text/plain": [
       "array([0, 2, 1])"
      ]
     },
     "execution_count": 563,
     "metadata": {},
     "output_type": "execute_result"
    }
   ],
   "source": [
    "store['Assortment'].unique()"
   ]
  },
  {
   "cell_type": "code",
   "execution_count": 564,
   "metadata": {},
   "outputs": [],
   "source": [
    "store[\"PromoInterval\"] = store['PromoInterval'].replace(0, np.nan)"
   ]
  },
  {
   "cell_type": "code",
   "execution_count": 565,
   "metadata": {},
   "outputs": [
    {
     "data": {
      "text/plain": [
       "array([nan,  2.,  1.,  3.])"
      ]
     },
     "execution_count": 565,
     "metadata": {},
     "output_type": "execute_result"
    }
   ],
   "source": [
    "store['PromoInterval'].unique()"
   ]
  },
  {
   "cell_type": "code",
   "execution_count": 566,
   "metadata": {},
   "outputs": [
    {
     "data": {
      "text/plain": [
       "Store                        0.000000\n",
       "StoreType                    0.000000\n",
       "Assortment                   0.000000\n",
       "CompetitionDistance          0.000000\n",
       "CompetitionOpenSinceMonth    0.317489\n",
       "CompetitionOpenSinceYear     0.317489\n",
       "Promo2                       0.000000\n",
       "Promo2SinceWeek              0.487892\n",
       "Promo2SinceYear              0.487892\n",
       "PromoInterval                0.487892\n",
       "dtype: float64"
      ]
     },
     "execution_count": 566,
     "metadata": {},
     "output_type": "execute_result"
    }
   ],
   "source": [
    "store.isnull().mean()"
   ]
  },
  {
   "cell_type": "code",
   "execution_count": 567,
   "metadata": {},
   "outputs": [
    {
     "data": {
      "text/plain": [
       "1115"
      ]
     },
     "execution_count": 567,
     "metadata": {},
     "output_type": "execute_result"
    }
   ],
   "source": [
    "store.shape[0]"
   ]
  },
  {
   "cell_type": "code",
   "execution_count": 568,
   "metadata": {},
   "outputs": [
    {
     "data": {
      "text/plain": [
       "Store                        0.000000\n",
       "StoreType                    0.000000\n",
       "Assortment                   0.000000\n",
       "CompetitionDistance          0.000000\n",
       "CompetitionOpenSinceMonth    0.317489\n",
       "CompetitionOpenSinceYear     0.317489\n",
       "Promo2                       0.000000\n",
       "Promo2SinceWeek              0.487892\n",
       "Promo2SinceYear              0.487892\n",
       "PromoInterval                0.487892\n",
       "dtype: float64"
      ]
     },
     "execution_count": 568,
     "metadata": {},
     "output_type": "execute_result"
    }
   ],
   "source": [
    "store.isnull().mean()"
   ]
  },
  {
   "cell_type": "code",
   "execution_count": 569,
   "metadata": {},
   "outputs": [
    {
     "data": {
      "text/html": [
       "<div>\n",
       "<style scoped>\n",
       "    .dataframe tbody tr th:only-of-type {\n",
       "        vertical-align: middle;\n",
       "    }\n",
       "\n",
       "    .dataframe tbody tr th {\n",
       "        vertical-align: top;\n",
       "    }\n",
       "\n",
       "    .dataframe thead th {\n",
       "        text-align: right;\n",
       "    }\n",
       "</style>\n",
       "<table border=\"1\" class=\"dataframe\">\n",
       "  <thead>\n",
       "    <tr style=\"text-align: right;\">\n",
       "      <th></th>\n",
       "      <th>Store</th>\n",
       "      <th>StoreType</th>\n",
       "      <th>Assortment</th>\n",
       "      <th>CompetitionDistance</th>\n",
       "      <th>CompetitionOpenSinceMonth</th>\n",
       "      <th>CompetitionOpenSinceYear</th>\n",
       "      <th>Promo2</th>\n",
       "      <th>Promo2SinceWeek</th>\n",
       "      <th>Promo2SinceYear</th>\n",
       "      <th>PromoInterval</th>\n",
       "    </tr>\n",
       "  </thead>\n",
       "  <tbody>\n",
       "    <tr>\n",
       "      <th>1110</th>\n",
       "      <td>1111</td>\n",
       "      <td>0</td>\n",
       "      <td>0</td>\n",
       "      <td>1900.0</td>\n",
       "      <td>6.0</td>\n",
       "      <td>2014.0</td>\n",
       "      <td>1</td>\n",
       "      <td>31.0</td>\n",
       "      <td>2013.0</td>\n",
       "      <td>2.0</td>\n",
       "    </tr>\n",
       "    <tr>\n",
       "      <th>1111</th>\n",
       "      <td>1112</td>\n",
       "      <td>2</td>\n",
       "      <td>2</td>\n",
       "      <td>1880.0</td>\n",
       "      <td>4.0</td>\n",
       "      <td>2006.0</td>\n",
       "      <td>0</td>\n",
       "      <td>NaN</td>\n",
       "      <td>NaN</td>\n",
       "      <td>NaN</td>\n",
       "    </tr>\n",
       "    <tr>\n",
       "      <th>1112</th>\n",
       "      <td>1113</td>\n",
       "      <td>0</td>\n",
       "      <td>2</td>\n",
       "      <td>9260.0</td>\n",
       "      <td>NaN</td>\n",
       "      <td>NaN</td>\n",
       "      <td>0</td>\n",
       "      <td>NaN</td>\n",
       "      <td>NaN</td>\n",
       "      <td>NaN</td>\n",
       "    </tr>\n",
       "    <tr>\n",
       "      <th>1113</th>\n",
       "      <td>1114</td>\n",
       "      <td>0</td>\n",
       "      <td>2</td>\n",
       "      <td>870.0</td>\n",
       "      <td>NaN</td>\n",
       "      <td>NaN</td>\n",
       "      <td>0</td>\n",
       "      <td>NaN</td>\n",
       "      <td>NaN</td>\n",
       "      <td>NaN</td>\n",
       "    </tr>\n",
       "    <tr>\n",
       "      <th>1114</th>\n",
       "      <td>1115</td>\n",
       "      <td>3</td>\n",
       "      <td>2</td>\n",
       "      <td>5350.0</td>\n",
       "      <td>NaN</td>\n",
       "      <td>NaN</td>\n",
       "      <td>1</td>\n",
       "      <td>22.0</td>\n",
       "      <td>2012.0</td>\n",
       "      <td>3.0</td>\n",
       "    </tr>\n",
       "  </tbody>\n",
       "</table>\n",
       "</div>"
      ],
      "text/plain": [
       "      Store  StoreType  Assortment  CompetitionDistance  \\\n",
       "1110   1111          0           0               1900.0   \n",
       "1111   1112          2           2               1880.0   \n",
       "1112   1113          0           2               9260.0   \n",
       "1113   1114          0           2                870.0   \n",
       "1114   1115          3           2               5350.0   \n",
       "\n",
       "      CompetitionOpenSinceMonth  CompetitionOpenSinceYear  Promo2  \\\n",
       "1110                        6.0                    2014.0       1   \n",
       "1111                        4.0                    2006.0       0   \n",
       "1112                        NaN                       NaN       0   \n",
       "1113                        NaN                       NaN       0   \n",
       "1114                        NaN                       NaN       1   \n",
       "\n",
       "      Promo2SinceWeek  Promo2SinceYear  PromoInterval  \n",
       "1110             31.0           2013.0            2.0  \n",
       "1111              NaN              NaN            NaN  \n",
       "1112              NaN              NaN            NaN  \n",
       "1113              NaN              NaN            NaN  \n",
       "1114             22.0           2012.0            3.0  "
      ]
     },
     "execution_count": 569,
     "metadata": {},
     "output_type": "execute_result"
    }
   ],
   "source": [
    "store.tail()"
   ]
  },
  {
   "cell_type": "code",
   "execution_count": 570,
   "metadata": {},
   "outputs": [],
   "source": [
    "store_scale = store.copy()"
   ]
  },
  {
   "cell_type": "code",
   "execution_count": 571,
   "metadata": {},
   "outputs": [
    {
     "data": {
      "text/html": [
       "<div>\n",
       "<style scoped>\n",
       "    .dataframe tbody tr th:only-of-type {\n",
       "        vertical-align: middle;\n",
       "    }\n",
       "\n",
       "    .dataframe tbody tr th {\n",
       "        vertical-align: top;\n",
       "    }\n",
       "\n",
       "    .dataframe thead th {\n",
       "        text-align: right;\n",
       "    }\n",
       "</style>\n",
       "<table border=\"1\" class=\"dataframe\">\n",
       "  <thead>\n",
       "    <tr style=\"text-align: right;\">\n",
       "      <th></th>\n",
       "      <th>Store</th>\n",
       "      <th>StoreType</th>\n",
       "      <th>Assortment</th>\n",
       "      <th>CompetitionDistance</th>\n",
       "      <th>CompetitionOpenSinceMonth</th>\n",
       "      <th>CompetitionOpenSinceYear</th>\n",
       "      <th>Promo2</th>\n",
       "      <th>Promo2SinceWeek</th>\n",
       "      <th>Promo2SinceYear</th>\n",
       "      <th>PromoInterval</th>\n",
       "    </tr>\n",
       "  </thead>\n",
       "  <tbody>\n",
       "    <tr>\n",
       "      <th>0</th>\n",
       "      <td>1</td>\n",
       "      <td>2</td>\n",
       "      <td>0</td>\n",
       "      <td>1270.0</td>\n",
       "      <td>9.0</td>\n",
       "      <td>2008.0</td>\n",
       "      <td>0</td>\n",
       "      <td>NaN</td>\n",
       "      <td>NaN</td>\n",
       "      <td>NaN</td>\n",
       "    </tr>\n",
       "    <tr>\n",
       "      <th>1</th>\n",
       "      <td>2</td>\n",
       "      <td>0</td>\n",
       "      <td>0</td>\n",
       "      <td>570.0</td>\n",
       "      <td>11.0</td>\n",
       "      <td>2007.0</td>\n",
       "      <td>1</td>\n",
       "      <td>13.0</td>\n",
       "      <td>2010.0</td>\n",
       "      <td>2.0</td>\n",
       "    </tr>\n",
       "    <tr>\n",
       "      <th>2</th>\n",
       "      <td>3</td>\n",
       "      <td>0</td>\n",
       "      <td>0</td>\n",
       "      <td>14130.0</td>\n",
       "      <td>12.0</td>\n",
       "      <td>2006.0</td>\n",
       "      <td>1</td>\n",
       "      <td>14.0</td>\n",
       "      <td>2011.0</td>\n",
       "      <td>2.0</td>\n",
       "    </tr>\n",
       "    <tr>\n",
       "      <th>3</th>\n",
       "      <td>4</td>\n",
       "      <td>2</td>\n",
       "      <td>2</td>\n",
       "      <td>620.0</td>\n",
       "      <td>9.0</td>\n",
       "      <td>2009.0</td>\n",
       "      <td>0</td>\n",
       "      <td>NaN</td>\n",
       "      <td>NaN</td>\n",
       "      <td>NaN</td>\n",
       "    </tr>\n",
       "    <tr>\n",
       "      <th>4</th>\n",
       "      <td>5</td>\n",
       "      <td>0</td>\n",
       "      <td>0</td>\n",
       "      <td>29910.0</td>\n",
       "      <td>4.0</td>\n",
       "      <td>2015.0</td>\n",
       "      <td>0</td>\n",
       "      <td>NaN</td>\n",
       "      <td>NaN</td>\n",
       "      <td>NaN</td>\n",
       "    </tr>\n",
       "  </tbody>\n",
       "</table>\n",
       "</div>"
      ],
      "text/plain": [
       "   Store  StoreType  Assortment  CompetitionDistance  \\\n",
       "0      1          2           0               1270.0   \n",
       "1      2          0           0                570.0   \n",
       "2      3          0           0              14130.0   \n",
       "3      4          2           2                620.0   \n",
       "4      5          0           0              29910.0   \n",
       "\n",
       "   CompetitionOpenSinceMonth  CompetitionOpenSinceYear  Promo2  \\\n",
       "0                        9.0                    2008.0       0   \n",
       "1                       11.0                    2007.0       1   \n",
       "2                       12.0                    2006.0       1   \n",
       "3                        9.0                    2009.0       0   \n",
       "4                        4.0                    2015.0       0   \n",
       "\n",
       "   Promo2SinceWeek  Promo2SinceYear  PromoInterval  \n",
       "0              NaN              NaN            NaN  \n",
       "1             13.0           2010.0            2.0  \n",
       "2             14.0           2011.0            2.0  \n",
       "3              NaN              NaN            NaN  \n",
       "4              NaN              NaN            NaN  "
      ]
     },
     "execution_count": 571,
     "metadata": {},
     "output_type": "execute_result"
    }
   ],
   "source": [
    "store_scale.head()"
   ]
  },
  {
   "cell_type": "code",
   "execution_count": 572,
   "metadata": {},
   "outputs": [
    {
     "data": {
      "text/html": [
       "<div>\n",
       "<style scoped>\n",
       "    .dataframe tbody tr th:only-of-type {\n",
       "        vertical-align: middle;\n",
       "    }\n",
       "\n",
       "    .dataframe tbody tr th {\n",
       "        vertical-align: top;\n",
       "    }\n",
       "\n",
       "    .dataframe thead th {\n",
       "        text-align: right;\n",
       "    }\n",
       "</style>\n",
       "<table border=\"1\" class=\"dataframe\">\n",
       "  <thead>\n",
       "    <tr style=\"text-align: right;\">\n",
       "      <th></th>\n",
       "      <th>Store</th>\n",
       "      <th>StoreType</th>\n",
       "      <th>Assortment</th>\n",
       "      <th>CompetitionDistance</th>\n",
       "      <th>CompetitionOpenSinceMonth</th>\n",
       "      <th>CompetitionOpenSinceYear</th>\n",
       "      <th>Promo2</th>\n",
       "      <th>Promo2SinceWeek</th>\n",
       "      <th>Promo2SinceYear</th>\n",
       "      <th>PromoInterval</th>\n",
       "    </tr>\n",
       "  </thead>\n",
       "  <tbody>\n",
       "    <tr>\n",
       "      <th>0</th>\n",
       "      <td>0.000000</td>\n",
       "      <td>0.666667</td>\n",
       "      <td>0.0</td>\n",
       "      <td>0.016482</td>\n",
       "      <td>0.727273</td>\n",
       "      <td>0.939130</td>\n",
       "      <td>0.0</td>\n",
       "      <td>NaN</td>\n",
       "      <td>NaN</td>\n",
       "      <td>NaN</td>\n",
       "    </tr>\n",
       "    <tr>\n",
       "      <th>1</th>\n",
       "      <td>0.000898</td>\n",
       "      <td>0.000000</td>\n",
       "      <td>0.0</td>\n",
       "      <td>0.007252</td>\n",
       "      <td>0.909091</td>\n",
       "      <td>0.930435</td>\n",
       "      <td>1.0</td>\n",
       "      <td>0.244898</td>\n",
       "      <td>0.166667</td>\n",
       "      <td>0.5</td>\n",
       "    </tr>\n",
       "    <tr>\n",
       "      <th>2</th>\n",
       "      <td>0.001795</td>\n",
       "      <td>0.000000</td>\n",
       "      <td>0.0</td>\n",
       "      <td>0.186050</td>\n",
       "      <td>1.000000</td>\n",
       "      <td>0.921739</td>\n",
       "      <td>1.0</td>\n",
       "      <td>0.265306</td>\n",
       "      <td>0.333333</td>\n",
       "      <td>0.5</td>\n",
       "    </tr>\n",
       "    <tr>\n",
       "      <th>3</th>\n",
       "      <td>0.002693</td>\n",
       "      <td>0.666667</td>\n",
       "      <td>1.0</td>\n",
       "      <td>0.007911</td>\n",
       "      <td>0.727273</td>\n",
       "      <td>0.947826</td>\n",
       "      <td>0.0</td>\n",
       "      <td>NaN</td>\n",
       "      <td>NaN</td>\n",
       "      <td>NaN</td>\n",
       "    </tr>\n",
       "    <tr>\n",
       "      <th>4</th>\n",
       "      <td>0.003591</td>\n",
       "      <td>0.000000</td>\n",
       "      <td>0.0</td>\n",
       "      <td>0.394119</td>\n",
       "      <td>0.272727</td>\n",
       "      <td>1.000000</td>\n",
       "      <td>0.0</td>\n",
       "      <td>NaN</td>\n",
       "      <td>NaN</td>\n",
       "      <td>NaN</td>\n",
       "    </tr>\n",
       "  </tbody>\n",
       "</table>\n",
       "</div>"
      ],
      "text/plain": [
       "      Store  StoreType  Assortment  CompetitionDistance  \\\n",
       "0  0.000000   0.666667         0.0             0.016482   \n",
       "1  0.000898   0.000000         0.0             0.007252   \n",
       "2  0.001795   0.000000         0.0             0.186050   \n",
       "3  0.002693   0.666667         1.0             0.007911   \n",
       "4  0.003591   0.000000         0.0             0.394119   \n",
       "\n",
       "   CompetitionOpenSinceMonth  CompetitionOpenSinceYear  Promo2  \\\n",
       "0                   0.727273                  0.939130     0.0   \n",
       "1                   0.909091                  0.930435     1.0   \n",
       "2                   1.000000                  0.921739     1.0   \n",
       "3                   0.727273                  0.947826     0.0   \n",
       "4                   0.272727                  1.000000     0.0   \n",
       "\n",
       "   Promo2SinceWeek  Promo2SinceYear  PromoInterval  \n",
       "0              NaN              NaN            NaN  \n",
       "1         0.244898         0.166667            0.5  \n",
       "2         0.265306         0.333333            0.5  \n",
       "3              NaN              NaN            NaN  \n",
       "4              NaN              NaN            NaN  "
      ]
     },
     "execution_count": 572,
     "metadata": {},
     "output_type": "execute_result"
    }
   ],
   "source": [
    "#Using the min-max method to ensure that the accuracy of imputation increases\n",
    "from sklearn.preprocessing import MinMaxScaler\n",
    "scaler = MinMaxScaler()\n",
    "store_scale = pd.DataFrame(scaler.fit_transform(store_scale), columns = store_scale.columns)\n",
    "store_scale.head()"
   ]
  },
  {
   "cell_type": "code",
   "execution_count": 573,
   "metadata": {},
   "outputs": [
    {
     "data": {
      "text/html": [
       "<div>\n",
       "<style scoped>\n",
       "    .dataframe tbody tr th:only-of-type {\n",
       "        vertical-align: middle;\n",
       "    }\n",
       "\n",
       "    .dataframe tbody tr th {\n",
       "        vertical-align: top;\n",
       "    }\n",
       "\n",
       "    .dataframe thead th {\n",
       "        text-align: right;\n",
       "    }\n",
       "</style>\n",
       "<table border=\"1\" class=\"dataframe\">\n",
       "  <thead>\n",
       "    <tr style=\"text-align: right;\">\n",
       "      <th></th>\n",
       "      <th>Store</th>\n",
       "      <th>StoreType</th>\n",
       "      <th>Assortment</th>\n",
       "      <th>CompetitionDistance</th>\n",
       "      <th>CompetitionOpenSinceMonth</th>\n",
       "      <th>CompetitionOpenSinceYear</th>\n",
       "      <th>Promo2</th>\n",
       "      <th>Promo2SinceWeek</th>\n",
       "      <th>Promo2SinceYear</th>\n",
       "      <th>PromoInterval</th>\n",
       "    </tr>\n",
       "  </thead>\n",
       "  <tbody>\n",
       "    <tr>\n",
       "      <th>0</th>\n",
       "      <td>0.000000</td>\n",
       "      <td>0.666667</td>\n",
       "      <td>0.0</td>\n",
       "      <td>0.016482</td>\n",
       "      <td>0.727273</td>\n",
       "      <td>0.939130</td>\n",
       "      <td>0.0</td>\n",
       "      <td>NaN</td>\n",
       "      <td>NaN</td>\n",
       "      <td>NaN</td>\n",
       "    </tr>\n",
       "    <tr>\n",
       "      <th>1</th>\n",
       "      <td>0.000898</td>\n",
       "      <td>0.000000</td>\n",
       "      <td>0.0</td>\n",
       "      <td>0.007252</td>\n",
       "      <td>0.909091</td>\n",
       "      <td>0.930435</td>\n",
       "      <td>1.0</td>\n",
       "      <td>0.244898</td>\n",
       "      <td>0.166667</td>\n",
       "      <td>0.5</td>\n",
       "    </tr>\n",
       "    <tr>\n",
       "      <th>2</th>\n",
       "      <td>0.001795</td>\n",
       "      <td>0.000000</td>\n",
       "      <td>0.0</td>\n",
       "      <td>0.186050</td>\n",
       "      <td>1.000000</td>\n",
       "      <td>0.921739</td>\n",
       "      <td>1.0</td>\n",
       "      <td>0.265306</td>\n",
       "      <td>0.333333</td>\n",
       "      <td>0.5</td>\n",
       "    </tr>\n",
       "    <tr>\n",
       "      <th>3</th>\n",
       "      <td>0.002693</td>\n",
       "      <td>0.666667</td>\n",
       "      <td>1.0</td>\n",
       "      <td>0.007911</td>\n",
       "      <td>0.727273</td>\n",
       "      <td>0.947826</td>\n",
       "      <td>0.0</td>\n",
       "      <td>NaN</td>\n",
       "      <td>NaN</td>\n",
       "      <td>NaN</td>\n",
       "    </tr>\n",
       "    <tr>\n",
       "      <th>4</th>\n",
       "      <td>0.003591</td>\n",
       "      <td>0.000000</td>\n",
       "      <td>0.0</td>\n",
       "      <td>0.394119</td>\n",
       "      <td>0.272727</td>\n",
       "      <td>1.000000</td>\n",
       "      <td>0.0</td>\n",
       "      <td>NaN</td>\n",
       "      <td>NaN</td>\n",
       "      <td>NaN</td>\n",
       "    </tr>\n",
       "  </tbody>\n",
       "</table>\n",
       "</div>"
      ],
      "text/plain": [
       "      Store  StoreType  Assortment  CompetitionDistance  \\\n",
       "0  0.000000   0.666667         0.0             0.016482   \n",
       "1  0.000898   0.000000         0.0             0.007252   \n",
       "2  0.001795   0.000000         0.0             0.186050   \n",
       "3  0.002693   0.666667         1.0             0.007911   \n",
       "4  0.003591   0.000000         0.0             0.394119   \n",
       "\n",
       "   CompetitionOpenSinceMonth  CompetitionOpenSinceYear  Promo2  \\\n",
       "0                   0.727273                  0.939130     0.0   \n",
       "1                   0.909091                  0.930435     1.0   \n",
       "2                   1.000000                  0.921739     1.0   \n",
       "3                   0.727273                  0.947826     0.0   \n",
       "4                   0.272727                  1.000000     0.0   \n",
       "\n",
       "   Promo2SinceWeek  Promo2SinceYear  PromoInterval  \n",
       "0              NaN              NaN            NaN  \n",
       "1         0.244898         0.166667            0.5  \n",
       "2         0.265306         0.333333            0.5  \n",
       "3              NaN              NaN            NaN  \n",
       "4              NaN              NaN            NaN  "
      ]
     },
     "execution_count": 573,
     "metadata": {},
     "output_type": "execute_result"
    }
   ],
   "source": [
    "# Outlining the first 5 store details\n",
    "store_scale.head()"
   ]
  },
  {
   "cell_type": "code",
   "execution_count": 574,
   "metadata": {},
   "outputs": [],
   "source": [
    "#KNN method used to impute the missing value \n",
    "from sklearn.impute import KNNImputer\n",
    "impute_knn = KNNImputer()\n",
    "store_imputed = pd.DataFrame(impute_knn.fit_transform(store_scale))"
   ]
  },
  {
   "cell_type": "code",
   "execution_count": 575,
   "metadata": {},
   "outputs": [
    {
     "data": {
      "text/html": [
       "<div>\n",
       "<style scoped>\n",
       "    .dataframe tbody tr th:only-of-type {\n",
       "        vertical-align: middle;\n",
       "    }\n",
       "\n",
       "    .dataframe tbody tr th {\n",
       "        vertical-align: top;\n",
       "    }\n",
       "\n",
       "    .dataframe thead th {\n",
       "        text-align: right;\n",
       "    }\n",
       "</style>\n",
       "<table border=\"1\" class=\"dataframe\">\n",
       "  <thead>\n",
       "    <tr style=\"text-align: right;\">\n",
       "      <th></th>\n",
       "      <th>0</th>\n",
       "      <th>1</th>\n",
       "      <th>2</th>\n",
       "      <th>3</th>\n",
       "      <th>4</th>\n",
       "      <th>5</th>\n",
       "      <th>6</th>\n",
       "      <th>7</th>\n",
       "      <th>8</th>\n",
       "      <th>9</th>\n",
       "    </tr>\n",
       "  </thead>\n",
       "  <tbody>\n",
       "    <tr>\n",
       "      <th>1110</th>\n",
       "      <td>0.996409</td>\n",
       "      <td>0.000000</td>\n",
       "      <td>0.0</td>\n",
       "      <td>0.024789</td>\n",
       "      <td>0.454545</td>\n",
       "      <td>0.991304</td>\n",
       "      <td>1.0</td>\n",
       "      <td>0.612245</td>\n",
       "      <td>0.666667</td>\n",
       "      <td>0.5</td>\n",
       "    </tr>\n",
       "    <tr>\n",
       "      <th>1111</th>\n",
       "      <td>0.997307</td>\n",
       "      <td>0.666667</td>\n",
       "      <td>1.0</td>\n",
       "      <td>0.024525</td>\n",
       "      <td>0.272727</td>\n",
       "      <td>0.921739</td>\n",
       "      <td>0.0</td>\n",
       "      <td>0.236735</td>\n",
       "      <td>0.466667</td>\n",
       "      <td>0.6</td>\n",
       "    </tr>\n",
       "    <tr>\n",
       "      <th>1112</th>\n",
       "      <td>0.998205</td>\n",
       "      <td>0.000000</td>\n",
       "      <td>1.0</td>\n",
       "      <td>0.121835</td>\n",
       "      <td>0.509091</td>\n",
       "      <td>0.960000</td>\n",
       "      <td>0.0</td>\n",
       "      <td>0.563265</td>\n",
       "      <td>0.566667</td>\n",
       "      <td>0.1</td>\n",
       "    </tr>\n",
       "    <tr>\n",
       "      <th>1113</th>\n",
       "      <td>0.999102</td>\n",
       "      <td>0.000000</td>\n",
       "      <td>1.0</td>\n",
       "      <td>0.011208</td>\n",
       "      <td>0.672727</td>\n",
       "      <td>0.949565</td>\n",
       "      <td>0.0</td>\n",
       "      <td>0.404082</td>\n",
       "      <td>0.566667</td>\n",
       "      <td>0.7</td>\n",
       "    </tr>\n",
       "    <tr>\n",
       "      <th>1114</th>\n",
       "      <td>1.000000</td>\n",
       "      <td>1.000000</td>\n",
       "      <td>1.0</td>\n",
       "      <td>0.070280</td>\n",
       "      <td>0.654545</td>\n",
       "      <td>0.953043</td>\n",
       "      <td>1.0</td>\n",
       "      <td>0.428571</td>\n",
       "      <td>0.500000</td>\n",
       "      <td>1.0</td>\n",
       "    </tr>\n",
       "  </tbody>\n",
       "</table>\n",
       "</div>"
      ],
      "text/plain": [
       "             0         1    2         3         4         5    6         7  \\\n",
       "1110  0.996409  0.000000  0.0  0.024789  0.454545  0.991304  1.0  0.612245   \n",
       "1111  0.997307  0.666667  1.0  0.024525  0.272727  0.921739  0.0  0.236735   \n",
       "1112  0.998205  0.000000  1.0  0.121835  0.509091  0.960000  0.0  0.563265   \n",
       "1113  0.999102  0.000000  1.0  0.011208  0.672727  0.949565  0.0  0.404082   \n",
       "1114  1.000000  1.000000  1.0  0.070280  0.654545  0.953043  1.0  0.428571   \n",
       "\n",
       "             8    9  \n",
       "1110  0.666667  0.5  \n",
       "1111  0.466667  0.6  \n",
       "1112  0.566667  0.1  \n",
       "1113  0.566667  0.7  \n",
       "1114  0.500000  1.0  "
      ]
     },
     "execution_count": 575,
     "metadata": {},
     "output_type": "execute_result"
    }
   ],
   "source": [
    "store_imputed.tail()"
   ]
  },
  {
   "cell_type": "code",
   "execution_count": 576,
   "metadata": {},
   "outputs": [],
   "source": [
    "# Transforming the imputed values back into original data format\n",
    "store_imputed = pd.DataFrame(scaler.inverse_transform(store_imputed))"
   ]
  },
  {
   "cell_type": "code",
   "execution_count": 577,
   "metadata": {},
   "outputs": [
    {
     "data": {
      "text/html": [
       "<div>\n",
       "<style scoped>\n",
       "    .dataframe tbody tr th:only-of-type {\n",
       "        vertical-align: middle;\n",
       "    }\n",
       "\n",
       "    .dataframe tbody tr th {\n",
       "        vertical-align: top;\n",
       "    }\n",
       "\n",
       "    .dataframe thead th {\n",
       "        text-align: right;\n",
       "    }\n",
       "</style>\n",
       "<table border=\"1\" class=\"dataframe\">\n",
       "  <thead>\n",
       "    <tr style=\"text-align: right;\">\n",
       "      <th></th>\n",
       "      <th>0</th>\n",
       "      <th>1</th>\n",
       "      <th>2</th>\n",
       "      <th>3</th>\n",
       "      <th>4</th>\n",
       "      <th>5</th>\n",
       "      <th>6</th>\n",
       "      <th>7</th>\n",
       "      <th>8</th>\n",
       "      <th>9</th>\n",
       "    </tr>\n",
       "  </thead>\n",
       "  <tbody>\n",
       "    <tr>\n",
       "      <th>0</th>\n",
       "      <td>1.0</td>\n",
       "      <td>2.0</td>\n",
       "      <td>0.0</td>\n",
       "      <td>1270.0</td>\n",
       "      <td>9.0</td>\n",
       "      <td>2008.0</td>\n",
       "      <td>0.0</td>\n",
       "      <td>14.8</td>\n",
       "      <td>2011.0</td>\n",
       "      <td>1.8</td>\n",
       "    </tr>\n",
       "    <tr>\n",
       "      <th>1</th>\n",
       "      <td>2.0</td>\n",
       "      <td>0.0</td>\n",
       "      <td>0.0</td>\n",
       "      <td>570.0</td>\n",
       "      <td>11.0</td>\n",
       "      <td>2007.0</td>\n",
       "      <td>1.0</td>\n",
       "      <td>13.0</td>\n",
       "      <td>2010.0</td>\n",
       "      <td>2.0</td>\n",
       "    </tr>\n",
       "    <tr>\n",
       "      <th>2</th>\n",
       "      <td>3.0</td>\n",
       "      <td>0.0</td>\n",
       "      <td>0.0</td>\n",
       "      <td>14130.0</td>\n",
       "      <td>12.0</td>\n",
       "      <td>2006.0</td>\n",
       "      <td>1.0</td>\n",
       "      <td>14.0</td>\n",
       "      <td>2011.0</td>\n",
       "      <td>2.0</td>\n",
       "    </tr>\n",
       "    <tr>\n",
       "      <th>3</th>\n",
       "      <td>4.0</td>\n",
       "      <td>2.0</td>\n",
       "      <td>2.0</td>\n",
       "      <td>620.0</td>\n",
       "      <td>9.0</td>\n",
       "      <td>2009.0</td>\n",
       "      <td>0.0</td>\n",
       "      <td>21.0</td>\n",
       "      <td>2011.8</td>\n",
       "      <td>2.2</td>\n",
       "    </tr>\n",
       "    <tr>\n",
       "      <th>4</th>\n",
       "      <td>5.0</td>\n",
       "      <td>0.0</td>\n",
       "      <td>0.0</td>\n",
       "      <td>29910.0</td>\n",
       "      <td>4.0</td>\n",
       "      <td>2015.0</td>\n",
       "      <td>0.0</td>\n",
       "      <td>32.4</td>\n",
       "      <td>2009.4</td>\n",
       "      <td>2.0</td>\n",
       "    </tr>\n",
       "  </tbody>\n",
       "</table>\n",
       "</div>"
      ],
      "text/plain": [
       "     0    1    2        3     4       5    6     7       8    9\n",
       "0  1.0  2.0  0.0   1270.0   9.0  2008.0  0.0  14.8  2011.0  1.8\n",
       "1  2.0  0.0  0.0    570.0  11.0  2007.0  1.0  13.0  2010.0  2.0\n",
       "2  3.0  0.0  0.0  14130.0  12.0  2006.0  1.0  14.0  2011.0  2.0\n",
       "3  4.0  2.0  2.0    620.0   9.0  2009.0  0.0  21.0  2011.8  2.2\n",
       "4  5.0  0.0  0.0  29910.0   4.0  2015.0  0.0  32.4  2009.4  2.0"
      ]
     },
     "execution_count": 577,
     "metadata": {},
     "output_type": "execute_result"
    }
   ],
   "source": [
    "store_imputed.head()"
   ]
  },
  {
   "cell_type": "code",
   "execution_count": 578,
   "metadata": {},
   "outputs": [
    {
     "data": {
      "text/plain": [
       "0    0.0\n",
       "1    0.0\n",
       "2    0.0\n",
       "3    0.0\n",
       "4    0.0\n",
       "5    0.0\n",
       "6    0.0\n",
       "7    0.0\n",
       "8    0.0\n",
       "9    0.0\n",
       "dtype: float64"
      ]
     },
     "execution_count": 578,
     "metadata": {},
     "output_type": "execute_result"
    }
   ],
   "source": [
    "#Ensuring that all the values have been fully imputed\n",
    "store_imputed.isnull().mean()"
   ]
  },
  {
   "cell_type": "code",
   "execution_count": 579,
   "metadata": {},
   "outputs": [
    {
     "data": {
      "text/html": [
       "<div>\n",
       "<style scoped>\n",
       "    .dataframe tbody tr th:only-of-type {\n",
       "        vertical-align: middle;\n",
       "    }\n",
       "\n",
       "    .dataframe tbody tr th {\n",
       "        vertical-align: top;\n",
       "    }\n",
       "\n",
       "    .dataframe thead th {\n",
       "        text-align: right;\n",
       "    }\n",
       "</style>\n",
       "<table border=\"1\" class=\"dataframe\">\n",
       "  <thead>\n",
       "    <tr style=\"text-align: right;\">\n",
       "      <th></th>\n",
       "      <th>0</th>\n",
       "      <th>1</th>\n",
       "      <th>2</th>\n",
       "      <th>3</th>\n",
       "      <th>4</th>\n",
       "      <th>5</th>\n",
       "      <th>6</th>\n",
       "      <th>7</th>\n",
       "      <th>8</th>\n",
       "      <th>9</th>\n",
       "    </tr>\n",
       "  </thead>\n",
       "  <tbody>\n",
       "    <tr>\n",
       "      <th>1110</th>\n",
       "      <td>1111.0</td>\n",
       "      <td>0.0</td>\n",
       "      <td>0.0</td>\n",
       "      <td>1900.0</td>\n",
       "      <td>6.0</td>\n",
       "      <td>2014.0</td>\n",
       "      <td>1.0</td>\n",
       "      <td>31.0</td>\n",
       "      <td>2013.0</td>\n",
       "      <td>2.0</td>\n",
       "    </tr>\n",
       "    <tr>\n",
       "      <th>1111</th>\n",
       "      <td>1112.0</td>\n",
       "      <td>2.0</td>\n",
       "      <td>2.0</td>\n",
       "      <td>1880.0</td>\n",
       "      <td>4.0</td>\n",
       "      <td>2006.0</td>\n",
       "      <td>0.0</td>\n",
       "      <td>12.6</td>\n",
       "      <td>2011.8</td>\n",
       "      <td>2.2</td>\n",
       "    </tr>\n",
       "    <tr>\n",
       "      <th>1112</th>\n",
       "      <td>1113.0</td>\n",
       "      <td>0.0</td>\n",
       "      <td>2.0</td>\n",
       "      <td>9260.0</td>\n",
       "      <td>6.6</td>\n",
       "      <td>2010.4</td>\n",
       "      <td>0.0</td>\n",
       "      <td>28.6</td>\n",
       "      <td>2012.4</td>\n",
       "      <td>1.2</td>\n",
       "    </tr>\n",
       "    <tr>\n",
       "      <th>1113</th>\n",
       "      <td>1114.0</td>\n",
       "      <td>0.0</td>\n",
       "      <td>2.0</td>\n",
       "      <td>870.0</td>\n",
       "      <td>8.4</td>\n",
       "      <td>2009.2</td>\n",
       "      <td>0.0</td>\n",
       "      <td>20.8</td>\n",
       "      <td>2012.4</td>\n",
       "      <td>2.4</td>\n",
       "    </tr>\n",
       "    <tr>\n",
       "      <th>1114</th>\n",
       "      <td>1115.0</td>\n",
       "      <td>3.0</td>\n",
       "      <td>2.0</td>\n",
       "      <td>5350.0</td>\n",
       "      <td>8.2</td>\n",
       "      <td>2009.6</td>\n",
       "      <td>1.0</td>\n",
       "      <td>22.0</td>\n",
       "      <td>2012.0</td>\n",
       "      <td>3.0</td>\n",
       "    </tr>\n",
       "  </tbody>\n",
       "</table>\n",
       "</div>"
      ],
      "text/plain": [
       "           0    1    2       3    4       5    6     7       8    9\n",
       "1110  1111.0  0.0  0.0  1900.0  6.0  2014.0  1.0  31.0  2013.0  2.0\n",
       "1111  1112.0  2.0  2.0  1880.0  4.0  2006.0  0.0  12.6  2011.8  2.2\n",
       "1112  1113.0  0.0  2.0  9260.0  6.6  2010.4  0.0  28.6  2012.4  1.2\n",
       "1113  1114.0  0.0  2.0   870.0  8.4  2009.2  0.0  20.8  2012.4  2.4\n",
       "1114  1115.0  3.0  2.0  5350.0  8.2  2009.6  1.0  22.0  2012.0  3.0"
      ]
     },
     "execution_count": 579,
     "metadata": {},
     "output_type": "execute_result"
    }
   ],
   "source": [
    "store_imputed.tail()"
   ]
  },
  {
   "cell_type": "code",
   "execution_count": 580,
   "metadata": {},
   "outputs": [
    {
     "data": {
      "text/html": [
       "<div>\n",
       "<style scoped>\n",
       "    .dataframe tbody tr th:only-of-type {\n",
       "        vertical-align: middle;\n",
       "    }\n",
       "\n",
       "    .dataframe tbody tr th {\n",
       "        vertical-align: top;\n",
       "    }\n",
       "\n",
       "    .dataframe thead th {\n",
       "        text-align: right;\n",
       "    }\n",
       "</style>\n",
       "<table border=\"1\" class=\"dataframe\">\n",
       "  <thead>\n",
       "    <tr style=\"text-align: right;\">\n",
       "      <th></th>\n",
       "      <th>0</th>\n",
       "      <th>1</th>\n",
       "      <th>2</th>\n",
       "      <th>3</th>\n",
       "      <th>4</th>\n",
       "      <th>5</th>\n",
       "      <th>6</th>\n",
       "      <th>7</th>\n",
       "      <th>8</th>\n",
       "      <th>9</th>\n",
       "    </tr>\n",
       "  </thead>\n",
       "  <tbody>\n",
       "    <tr>\n",
       "      <th>0</th>\n",
       "      <td>1.0</td>\n",
       "      <td>2.0</td>\n",
       "      <td>0.0</td>\n",
       "      <td>1270.0</td>\n",
       "      <td>9.0</td>\n",
       "      <td>2008.0</td>\n",
       "      <td>0.0</td>\n",
       "      <td>14.8</td>\n",
       "      <td>2011.0</td>\n",
       "      <td>1.8</td>\n",
       "    </tr>\n",
       "    <tr>\n",
       "      <th>1</th>\n",
       "      <td>2.0</td>\n",
       "      <td>0.0</td>\n",
       "      <td>0.0</td>\n",
       "      <td>570.0</td>\n",
       "      <td>11.0</td>\n",
       "      <td>2007.0</td>\n",
       "      <td>1.0</td>\n",
       "      <td>13.0</td>\n",
       "      <td>2010.0</td>\n",
       "      <td>2.0</td>\n",
       "    </tr>\n",
       "    <tr>\n",
       "      <th>2</th>\n",
       "      <td>3.0</td>\n",
       "      <td>0.0</td>\n",
       "      <td>0.0</td>\n",
       "      <td>14130.0</td>\n",
       "      <td>12.0</td>\n",
       "      <td>2006.0</td>\n",
       "      <td>1.0</td>\n",
       "      <td>14.0</td>\n",
       "      <td>2011.0</td>\n",
       "      <td>2.0</td>\n",
       "    </tr>\n",
       "    <tr>\n",
       "      <th>3</th>\n",
       "      <td>4.0</td>\n",
       "      <td>2.0</td>\n",
       "      <td>2.0</td>\n",
       "      <td>620.0</td>\n",
       "      <td>9.0</td>\n",
       "      <td>2009.0</td>\n",
       "      <td>0.0</td>\n",
       "      <td>21.0</td>\n",
       "      <td>2011.8</td>\n",
       "      <td>2.2</td>\n",
       "    </tr>\n",
       "    <tr>\n",
       "      <th>4</th>\n",
       "      <td>5.0</td>\n",
       "      <td>0.0</td>\n",
       "      <td>0.0</td>\n",
       "      <td>29910.0</td>\n",
       "      <td>4.0</td>\n",
       "      <td>2015.0</td>\n",
       "      <td>0.0</td>\n",
       "      <td>32.4</td>\n",
       "      <td>2009.4</td>\n",
       "      <td>2.0</td>\n",
       "    </tr>\n",
       "  </tbody>\n",
       "</table>\n",
       "</div>"
      ],
      "text/plain": [
       "     0    1    2        3     4       5    6     7       8    9\n",
       "0  1.0  2.0  0.0   1270.0   9.0  2008.0  0.0  14.8  2011.0  1.8\n",
       "1  2.0  0.0  0.0    570.0  11.0  2007.0  1.0  13.0  2010.0  2.0\n",
       "2  3.0  0.0  0.0  14130.0  12.0  2006.0  1.0  14.0  2011.0  2.0\n",
       "3  4.0  2.0  2.0    620.0   9.0  2009.0  0.0  21.0  2011.8  2.2\n",
       "4  5.0  0.0  0.0  29910.0   4.0  2015.0  0.0  32.4  2009.4  2.0"
      ]
     },
     "execution_count": 580,
     "metadata": {},
     "output_type": "execute_result"
    }
   ],
   "source": [
    "store_imputed.head()"
   ]
  },
  {
   "cell_type": "code",
   "execution_count": 581,
   "metadata": {},
   "outputs": [],
   "source": [
    "#labelling the heading for the datset \n",
    "store_imputed.columns = ['Store','StoreType','Assortment','CompetitionDistance','CompetitionOpenSinceMonth','CompetitionOpenSinceYear','Promo2','Promo2SinceWeek','Promo2SinceYear','PromoInterval']"
   ]
  },
  {
   "cell_type": "code",
   "execution_count": 582,
   "metadata": {},
   "outputs": [
    {
     "data": {
      "text/html": [
       "<div>\n",
       "<style scoped>\n",
       "    .dataframe tbody tr th:only-of-type {\n",
       "        vertical-align: middle;\n",
       "    }\n",
       "\n",
       "    .dataframe tbody tr th {\n",
       "        vertical-align: top;\n",
       "    }\n",
       "\n",
       "    .dataframe thead th {\n",
       "        text-align: right;\n",
       "    }\n",
       "</style>\n",
       "<table border=\"1\" class=\"dataframe\">\n",
       "  <thead>\n",
       "    <tr style=\"text-align: right;\">\n",
       "      <th></th>\n",
       "      <th>Store</th>\n",
       "      <th>StoreType</th>\n",
       "      <th>Assortment</th>\n",
       "      <th>CompetitionDistance</th>\n",
       "      <th>CompetitionOpenSinceMonth</th>\n",
       "      <th>CompetitionOpenSinceYear</th>\n",
       "      <th>Promo2</th>\n",
       "      <th>Promo2SinceWeek</th>\n",
       "      <th>Promo2SinceYear</th>\n",
       "      <th>PromoInterval</th>\n",
       "    </tr>\n",
       "  </thead>\n",
       "  <tbody>\n",
       "    <tr>\n",
       "      <th>1110</th>\n",
       "      <td>1111.0</td>\n",
       "      <td>0.0</td>\n",
       "      <td>0.0</td>\n",
       "      <td>1900.0</td>\n",
       "      <td>6.0</td>\n",
       "      <td>2014.0</td>\n",
       "      <td>1.0</td>\n",
       "      <td>31.0</td>\n",
       "      <td>2013.0</td>\n",
       "      <td>2.0</td>\n",
       "    </tr>\n",
       "    <tr>\n",
       "      <th>1111</th>\n",
       "      <td>1112.0</td>\n",
       "      <td>2.0</td>\n",
       "      <td>2.0</td>\n",
       "      <td>1880.0</td>\n",
       "      <td>4.0</td>\n",
       "      <td>2006.0</td>\n",
       "      <td>0.0</td>\n",
       "      <td>12.6</td>\n",
       "      <td>2011.8</td>\n",
       "      <td>2.2</td>\n",
       "    </tr>\n",
       "    <tr>\n",
       "      <th>1112</th>\n",
       "      <td>1113.0</td>\n",
       "      <td>0.0</td>\n",
       "      <td>2.0</td>\n",
       "      <td>9260.0</td>\n",
       "      <td>6.6</td>\n",
       "      <td>2010.4</td>\n",
       "      <td>0.0</td>\n",
       "      <td>28.6</td>\n",
       "      <td>2012.4</td>\n",
       "      <td>1.2</td>\n",
       "    </tr>\n",
       "    <tr>\n",
       "      <th>1113</th>\n",
       "      <td>1114.0</td>\n",
       "      <td>0.0</td>\n",
       "      <td>2.0</td>\n",
       "      <td>870.0</td>\n",
       "      <td>8.4</td>\n",
       "      <td>2009.2</td>\n",
       "      <td>0.0</td>\n",
       "      <td>20.8</td>\n",
       "      <td>2012.4</td>\n",
       "      <td>2.4</td>\n",
       "    </tr>\n",
       "    <tr>\n",
       "      <th>1114</th>\n",
       "      <td>1115.0</td>\n",
       "      <td>3.0</td>\n",
       "      <td>2.0</td>\n",
       "      <td>5350.0</td>\n",
       "      <td>8.2</td>\n",
       "      <td>2009.6</td>\n",
       "      <td>1.0</td>\n",
       "      <td>22.0</td>\n",
       "      <td>2012.0</td>\n",
       "      <td>3.0</td>\n",
       "    </tr>\n",
       "  </tbody>\n",
       "</table>\n",
       "</div>"
      ],
      "text/plain": [
       "       Store  StoreType  Assortment  CompetitionDistance  \\\n",
       "1110  1111.0        0.0         0.0               1900.0   \n",
       "1111  1112.0        2.0         2.0               1880.0   \n",
       "1112  1113.0        0.0         2.0               9260.0   \n",
       "1113  1114.0        0.0         2.0                870.0   \n",
       "1114  1115.0        3.0         2.0               5350.0   \n",
       "\n",
       "      CompetitionOpenSinceMonth  CompetitionOpenSinceYear  Promo2  \\\n",
       "1110                        6.0                    2014.0     1.0   \n",
       "1111                        4.0                    2006.0     0.0   \n",
       "1112                        6.6                    2010.4     0.0   \n",
       "1113                        8.4                    2009.2     0.0   \n",
       "1114                        8.2                    2009.6     1.0   \n",
       "\n",
       "      Promo2SinceWeek  Promo2SinceYear  PromoInterval  \n",
       "1110             31.0           2013.0            2.0  \n",
       "1111             12.6           2011.8            2.2  \n",
       "1112             28.6           2012.4            1.2  \n",
       "1113             20.8           2012.4            2.4  \n",
       "1114             22.0           2012.0            3.0  "
      ]
     },
     "execution_count": 582,
     "metadata": {},
     "output_type": "execute_result"
    }
   ],
   "source": [
    "store_imputed.tail()"
   ]
  },
  {
   "cell_type": "code",
   "execution_count": 583,
   "metadata": {},
   "outputs": [],
   "source": [
    "#Ensuring that the variables have the correct data type\n",
    "store_imputed['Store'] = store_imputed['Store'].astype(int)\n",
    "store_imputed['StoreType'] = store_imputed['StoreType'].astype(int)\n",
    "store_imputed['Assortment'] = store_imputed['Assortment'].astype(int)\n",
    "store_imputed['CompetitionDistance'] = store_imputed['CompetitionDistance'].astype(int)\n",
    "store_imputed['CompetitionOpenSinceMonth'] = store_imputed['CompetitionOpenSinceMonth'].astype(int)\n",
    "store_imputed['CompetitionOpenSinceYear'] = store_imputed['CompetitionOpenSinceYear'].astype(int)\n",
    "store_imputed['Promo2'] = store_imputed['Promo2'].astype(int)\n",
    "store_imputed['Promo2SinceWeek'] = store_imputed['Promo2SinceWeek'].astype(int)\n",
    "store_imputed['Promo2SinceYear'] = store_imputed['Promo2SinceYear'].astype(int)\n",
    "store_imputed['PromoInterval'] = store_imputed['PromoInterval'].astype(int)"
   ]
  },
  {
   "cell_type": "code",
   "execution_count": 584,
   "metadata": {},
   "outputs": [
    {
     "name": "stdout",
     "output_type": "stream",
     "text": [
      "<class 'pandas.core.frame.DataFrame'>\n",
      "RangeIndex: 1115 entries, 0 to 1114\n",
      "Data columns (total 10 columns):\n",
      " #   Column                     Non-Null Count  Dtype\n",
      "---  ------                     --------------  -----\n",
      " 0   Store                      1115 non-null   int32\n",
      " 1   StoreType                  1115 non-null   int32\n",
      " 2   Assortment                 1115 non-null   int32\n",
      " 3   CompetitionDistance        1115 non-null   int32\n",
      " 4   CompetitionOpenSinceMonth  1115 non-null   int32\n",
      " 5   CompetitionOpenSinceYear   1115 non-null   int32\n",
      " 6   Promo2                     1115 non-null   int32\n",
      " 7   Promo2SinceWeek            1115 non-null   int32\n",
      " 8   Promo2SinceYear            1115 non-null   int32\n",
      " 9   PromoInterval              1115 non-null   int32\n",
      "dtypes: int32(10)\n",
      "memory usage: 43.7 KB\n"
     ]
    }
   ],
   "source": [
    "#checking that the we have the correct datatypes for the variables\n",
    "store_imputed.info()"
   ]
  },
  {
   "cell_type": "code",
   "execution_count": 585,
   "metadata": {},
   "outputs": [
    {
     "data": {
      "text/html": [
       "<div>\n",
       "<style scoped>\n",
       "    .dataframe tbody tr th:only-of-type {\n",
       "        vertical-align: middle;\n",
       "    }\n",
       "\n",
       "    .dataframe tbody tr th {\n",
       "        vertical-align: top;\n",
       "    }\n",
       "\n",
       "    .dataframe thead th {\n",
       "        text-align: right;\n",
       "    }\n",
       "</style>\n",
       "<table border=\"1\" class=\"dataframe\">\n",
       "  <thead>\n",
       "    <tr style=\"text-align: right;\">\n",
       "      <th></th>\n",
       "      <th>Store</th>\n",
       "      <th>StoreType</th>\n",
       "      <th>Assortment</th>\n",
       "      <th>CompetitionDistance</th>\n",
       "      <th>CompetitionOpenSinceMonth</th>\n",
       "      <th>CompetitionOpenSinceYear</th>\n",
       "      <th>Promo2</th>\n",
       "      <th>Promo2SinceWeek</th>\n",
       "      <th>Promo2SinceYear</th>\n",
       "      <th>PromoInterval</th>\n",
       "    </tr>\n",
       "  </thead>\n",
       "  <tbody>\n",
       "    <tr>\n",
       "      <th>0</th>\n",
       "      <td>1</td>\n",
       "      <td>2</td>\n",
       "      <td>0</td>\n",
       "      <td>1270</td>\n",
       "      <td>9</td>\n",
       "      <td>2007</td>\n",
       "      <td>0</td>\n",
       "      <td>14</td>\n",
       "      <td>2010</td>\n",
       "      <td>1</td>\n",
       "    </tr>\n",
       "    <tr>\n",
       "      <th>1</th>\n",
       "      <td>2</td>\n",
       "      <td>0</td>\n",
       "      <td>0</td>\n",
       "      <td>570</td>\n",
       "      <td>11</td>\n",
       "      <td>2006</td>\n",
       "      <td>1</td>\n",
       "      <td>13</td>\n",
       "      <td>2010</td>\n",
       "      <td>2</td>\n",
       "    </tr>\n",
       "    <tr>\n",
       "      <th>2</th>\n",
       "      <td>3</td>\n",
       "      <td>0</td>\n",
       "      <td>0</td>\n",
       "      <td>14130</td>\n",
       "      <td>11</td>\n",
       "      <td>2006</td>\n",
       "      <td>1</td>\n",
       "      <td>14</td>\n",
       "      <td>2010</td>\n",
       "      <td>2</td>\n",
       "    </tr>\n",
       "    <tr>\n",
       "      <th>3</th>\n",
       "      <td>4</td>\n",
       "      <td>2</td>\n",
       "      <td>2</td>\n",
       "      <td>620</td>\n",
       "      <td>9</td>\n",
       "      <td>2009</td>\n",
       "      <td>0</td>\n",
       "      <td>20</td>\n",
       "      <td>2011</td>\n",
       "      <td>2</td>\n",
       "    </tr>\n",
       "    <tr>\n",
       "      <th>4</th>\n",
       "      <td>5</td>\n",
       "      <td>0</td>\n",
       "      <td>0</td>\n",
       "      <td>29910</td>\n",
       "      <td>4</td>\n",
       "      <td>2014</td>\n",
       "      <td>0</td>\n",
       "      <td>32</td>\n",
       "      <td>2009</td>\n",
       "      <td>2</td>\n",
       "    </tr>\n",
       "  </tbody>\n",
       "</table>\n",
       "</div>"
      ],
      "text/plain": [
       "   Store  StoreType  Assortment  CompetitionDistance  \\\n",
       "0      1          2           0                 1270   \n",
       "1      2          0           0                  570   \n",
       "2      3          0           0                14130   \n",
       "3      4          2           2                  620   \n",
       "4      5          0           0                29910   \n",
       "\n",
       "   CompetitionOpenSinceMonth  CompetitionOpenSinceYear  Promo2  \\\n",
       "0                          9                      2007       0   \n",
       "1                         11                      2006       1   \n",
       "2                         11                      2006       1   \n",
       "3                          9                      2009       0   \n",
       "4                          4                      2014       0   \n",
       "\n",
       "   Promo2SinceWeek  Promo2SinceYear  PromoInterval  \n",
       "0               14             2010              1  \n",
       "1               13             2010              2  \n",
       "2               14             2010              2  \n",
       "3               20             2011              2  \n",
       "4               32             2009              2  "
      ]
     },
     "execution_count": 585,
     "metadata": {},
     "output_type": "execute_result"
    }
   ],
   "source": [
    "store_imputed.head()"
   ]
  },
  {
   "cell_type": "code",
   "execution_count": 586,
   "metadata": {},
   "outputs": [
    {
     "data": {
      "text/plain": [
       "array([0, 2, 1])"
      ]
     },
     "execution_count": 586,
     "metadata": {},
     "output_type": "execute_result"
    }
   ],
   "source": [
    "store_imputed['Assortment'].unique()"
   ]
  },
  {
   "cell_type": "code",
   "execution_count": 587,
   "metadata": {},
   "outputs": [],
   "source": [
    "#converting the decoded values back to there original values. This is important as the current labelling s are not ranks, but differnt options\n",
    "store_imputed[\"PromoInterval\"] = store_imputed['PromoInterval'].replace(1, 'Feb,May,Aug,Nov')\n",
    "store_imputed[\"PromoInterval\"] = store_imputed['PromoInterval'].replace(2, 'Jan,Apr,Jul,Oct')\n",
    "store_imputed[\"PromoInterval\"] = store_imputed['PromoInterval'].replace(3, 'Mar,Jun,Sept,Dec')\n",
    "store_imputed[\"StoreType\"] = store_imputed['StoreType'].replace(0, 'a')\n",
    "store_imputed[\"StoreType\"] = store_imputed['StoreType'].replace(1, 'b')\n",
    "store_imputed[\"StoreType\"] = store_imputed['StoreType'].replace(2, 'c')\n",
    "store_imputed[\"StoreType\"] = store_imputed['StoreType'].replace(3, 'd')\n",
    "store_imputed[\"Assortment\"] = store_imputed['Assortment'].replace(0, 'a')\n",
    "store_imputed[\"Assortment\"] = store_imputed['Assortment'].replace(1, 'b')\n",
    "store_imputed[\"Assortment\"] = store_imputed['Assortment'].replace(2, 'c')"
   ]
  },
  {
   "cell_type": "code",
   "execution_count": 588,
   "metadata": {},
   "outputs": [
    {
     "data": {
      "text/plain": [
       "array(['Feb,May,Aug,Nov', 'Jan,Apr,Jul,Oct', 'Mar,Jun,Sept,Dec'],\n",
       "      dtype=object)"
      ]
     },
     "execution_count": 588,
     "metadata": {},
     "output_type": "execute_result"
    }
   ],
   "source": [
    "store_imputed[\"PromoInterval\"].unique()"
   ]
  },
  {
   "cell_type": "code",
   "execution_count": 589,
   "metadata": {},
   "outputs": [
    {
     "data": {
      "text/html": [
       "<div>\n",
       "<style scoped>\n",
       "    .dataframe tbody tr th:only-of-type {\n",
       "        vertical-align: middle;\n",
       "    }\n",
       "\n",
       "    .dataframe tbody tr th {\n",
       "        vertical-align: top;\n",
       "    }\n",
       "\n",
       "    .dataframe thead th {\n",
       "        text-align: right;\n",
       "    }\n",
       "</style>\n",
       "<table border=\"1\" class=\"dataframe\">\n",
       "  <thead>\n",
       "    <tr style=\"text-align: right;\">\n",
       "      <th></th>\n",
       "      <th>Store</th>\n",
       "      <th>StoreType</th>\n",
       "      <th>Assortment</th>\n",
       "      <th>CompetitionDistance</th>\n",
       "      <th>CompetitionOpenSinceMonth</th>\n",
       "      <th>CompetitionOpenSinceYear</th>\n",
       "      <th>Promo2</th>\n",
       "      <th>Promo2SinceWeek</th>\n",
       "      <th>Promo2SinceYear</th>\n",
       "      <th>PromoInterval</th>\n",
       "    </tr>\n",
       "  </thead>\n",
       "  <tbody>\n",
       "    <tr>\n",
       "      <th>0</th>\n",
       "      <td>1</td>\n",
       "      <td>c</td>\n",
       "      <td>a</td>\n",
       "      <td>1270</td>\n",
       "      <td>9</td>\n",
       "      <td>2007</td>\n",
       "      <td>0</td>\n",
       "      <td>14</td>\n",
       "      <td>2010</td>\n",
       "      <td>Feb,May,Aug,Nov</td>\n",
       "    </tr>\n",
       "    <tr>\n",
       "      <th>1</th>\n",
       "      <td>2</td>\n",
       "      <td>a</td>\n",
       "      <td>a</td>\n",
       "      <td>570</td>\n",
       "      <td>11</td>\n",
       "      <td>2006</td>\n",
       "      <td>1</td>\n",
       "      <td>13</td>\n",
       "      <td>2010</td>\n",
       "      <td>Jan,Apr,Jul,Oct</td>\n",
       "    </tr>\n",
       "    <tr>\n",
       "      <th>2</th>\n",
       "      <td>3</td>\n",
       "      <td>a</td>\n",
       "      <td>a</td>\n",
       "      <td>14130</td>\n",
       "      <td>11</td>\n",
       "      <td>2006</td>\n",
       "      <td>1</td>\n",
       "      <td>14</td>\n",
       "      <td>2010</td>\n",
       "      <td>Jan,Apr,Jul,Oct</td>\n",
       "    </tr>\n",
       "    <tr>\n",
       "      <th>3</th>\n",
       "      <td>4</td>\n",
       "      <td>c</td>\n",
       "      <td>c</td>\n",
       "      <td>620</td>\n",
       "      <td>9</td>\n",
       "      <td>2009</td>\n",
       "      <td>0</td>\n",
       "      <td>20</td>\n",
       "      <td>2011</td>\n",
       "      <td>Jan,Apr,Jul,Oct</td>\n",
       "    </tr>\n",
       "    <tr>\n",
       "      <th>4</th>\n",
       "      <td>5</td>\n",
       "      <td>a</td>\n",
       "      <td>a</td>\n",
       "      <td>29910</td>\n",
       "      <td>4</td>\n",
       "      <td>2014</td>\n",
       "      <td>0</td>\n",
       "      <td>32</td>\n",
       "      <td>2009</td>\n",
       "      <td>Jan,Apr,Jul,Oct</td>\n",
       "    </tr>\n",
       "  </tbody>\n",
       "</table>\n",
       "</div>"
      ],
      "text/plain": [
       "   Store StoreType Assortment  CompetitionDistance  CompetitionOpenSinceMonth  \\\n",
       "0      1         c          a                 1270                          9   \n",
       "1      2         a          a                  570                         11   \n",
       "2      3         a          a                14130                         11   \n",
       "3      4         c          c                  620                          9   \n",
       "4      5         a          a                29910                          4   \n",
       "\n",
       "   CompetitionOpenSinceYear  Promo2  Promo2SinceWeek  Promo2SinceYear  \\\n",
       "0                      2007       0               14             2010   \n",
       "1                      2006       1               13             2010   \n",
       "2                      2006       1               14             2010   \n",
       "3                      2009       0               20             2011   \n",
       "4                      2014       0               32             2009   \n",
       "\n",
       "     PromoInterval  \n",
       "0  Feb,May,Aug,Nov  \n",
       "1  Jan,Apr,Jul,Oct  \n",
       "2  Jan,Apr,Jul,Oct  \n",
       "3  Jan,Apr,Jul,Oct  \n",
       "4  Jan,Apr,Jul,Oct  "
      ]
     },
     "execution_count": 589,
     "metadata": {},
     "output_type": "execute_result"
    }
   ],
   "source": [
    "store_imputed.head()"
   ]
  },
  {
   "cell_type": "code",
   "execution_count": 590,
   "metadata": {},
   "outputs": [
    {
     "data": {
      "text/html": [
       "<div>\n",
       "<style scoped>\n",
       "    .dataframe tbody tr th:only-of-type {\n",
       "        vertical-align: middle;\n",
       "    }\n",
       "\n",
       "    .dataframe tbody tr th {\n",
       "        vertical-align: top;\n",
       "    }\n",
       "\n",
       "    .dataframe thead th {\n",
       "        text-align: right;\n",
       "    }\n",
       "</style>\n",
       "<table border=\"1\" class=\"dataframe\">\n",
       "  <thead>\n",
       "    <tr style=\"text-align: right;\">\n",
       "      <th></th>\n",
       "      <th>Store</th>\n",
       "      <th>DayOfWeek</th>\n",
       "      <th>Date</th>\n",
       "      <th>Sales</th>\n",
       "      <th>Customers</th>\n",
       "      <th>Open</th>\n",
       "      <th>Promo</th>\n",
       "      <th>StateHoliday</th>\n",
       "      <th>SchoolHoliday</th>\n",
       "    </tr>\n",
       "  </thead>\n",
       "  <tbody>\n",
       "    <tr>\n",
       "      <th>0</th>\n",
       "      <td>1</td>\n",
       "      <td>5</td>\n",
       "      <td>31/07/2015</td>\n",
       "      <td>5263</td>\n",
       "      <td>555</td>\n",
       "      <td>1</td>\n",
       "      <td>1</td>\n",
       "      <td>0</td>\n",
       "      <td>1</td>\n",
       "    </tr>\n",
       "    <tr>\n",
       "      <th>1</th>\n",
       "      <td>2</td>\n",
       "      <td>5</td>\n",
       "      <td>31/07/2015</td>\n",
       "      <td>6064</td>\n",
       "      <td>625</td>\n",
       "      <td>1</td>\n",
       "      <td>1</td>\n",
       "      <td>0</td>\n",
       "      <td>1</td>\n",
       "    </tr>\n",
       "    <tr>\n",
       "      <th>2</th>\n",
       "      <td>3</td>\n",
       "      <td>5</td>\n",
       "      <td>31/07/2015</td>\n",
       "      <td>8314</td>\n",
       "      <td>821</td>\n",
       "      <td>1</td>\n",
       "      <td>1</td>\n",
       "      <td>0</td>\n",
       "      <td>1</td>\n",
       "    </tr>\n",
       "    <tr>\n",
       "      <th>3</th>\n",
       "      <td>4</td>\n",
       "      <td>5</td>\n",
       "      <td>31/07/2015</td>\n",
       "      <td>13995</td>\n",
       "      <td>1498</td>\n",
       "      <td>1</td>\n",
       "      <td>1</td>\n",
       "      <td>0</td>\n",
       "      <td>1</td>\n",
       "    </tr>\n",
       "    <tr>\n",
       "      <th>4</th>\n",
       "      <td>5</td>\n",
       "      <td>5</td>\n",
       "      <td>31/07/2015</td>\n",
       "      <td>4822</td>\n",
       "      <td>559</td>\n",
       "      <td>1</td>\n",
       "      <td>1</td>\n",
       "      <td>0</td>\n",
       "      <td>1</td>\n",
       "    </tr>\n",
       "  </tbody>\n",
       "</table>\n",
       "</div>"
      ],
      "text/plain": [
       "   Store  DayOfWeek        Date  Sales  Customers  Open  Promo StateHoliday  \\\n",
       "0      1          5  31/07/2015   5263        555     1      1            0   \n",
       "1      2          5  31/07/2015   6064        625     1      1            0   \n",
       "2      3          5  31/07/2015   8314        821     1      1            0   \n",
       "3      4          5  31/07/2015  13995       1498     1      1            0   \n",
       "4      5          5  31/07/2015   4822        559     1      1            0   \n",
       "\n",
       "   SchoolHoliday  \n",
       "0              1  \n",
       "1              1  \n",
       "2              1  \n",
       "3              1  \n",
       "4              1  "
      ]
     },
     "execution_count": 590,
     "metadata": {},
     "output_type": "execute_result"
    }
   ],
   "source": [
    "train.head()"
   ]
  },
  {
   "cell_type": "code",
   "execution_count": 591,
   "metadata": {},
   "outputs": [
    {
     "data": {
      "text/plain": [
       "Store                        0.0\n",
       "StoreType                    0.0\n",
       "Assortment                   0.0\n",
       "CompetitionDistance          0.0\n",
       "CompetitionOpenSinceMonth    0.0\n",
       "CompetitionOpenSinceYear     0.0\n",
       "Promo2                       0.0\n",
       "Promo2SinceWeek              0.0\n",
       "Promo2SinceYear              0.0\n",
       "PromoInterval                0.0\n",
       "dtype: float64"
      ]
     },
     "execution_count": 591,
     "metadata": {},
     "output_type": "execute_result"
    }
   ],
   "source": [
    "store_imputed.isnull().mean()"
   ]
  },
  {
   "cell_type": "code",
   "execution_count": 592,
   "metadata": {},
   "outputs": [
    {
     "data": {
      "text/plain": [
       "Store                        0.000000\n",
       "StoreType                    0.000000\n",
       "Assortment                   0.000000\n",
       "CompetitionDistance          0.000000\n",
       "CompetitionOpenSinceMonth    0.317489\n",
       "CompetitionOpenSinceYear     0.317489\n",
       "Promo2                       0.000000\n",
       "Promo2SinceWeek              0.487892\n",
       "Promo2SinceYear              0.487892\n",
       "PromoInterval                0.487892\n",
       "dtype: float64"
      ]
     },
     "execution_count": 592,
     "metadata": {},
     "output_type": "execute_result"
    }
   ],
   "source": [
    "store.isnull().mean()"
   ]
  },
  {
   "cell_type": "code",
   "execution_count": 593,
   "metadata": {},
   "outputs": [],
   "source": [
    "#Merging the train and store dataset on Store. \n",
    "full_imputed_df = pd.merge(left=train, right=store_imputed, left_on=\"Store\", right_on=\"Store\")"
   ]
  },
  {
   "cell_type": "code",
   "execution_count": 594,
   "metadata": {},
   "outputs": [
    {
     "data": {
      "text/plain": [
       "(1017762, 18)"
      ]
     },
     "execution_count": 594,
     "metadata": {},
     "output_type": "execute_result"
    }
   ],
   "source": [
    "full_imputed_df.shape"
   ]
  },
  {
   "cell_type": "code",
   "execution_count": 595,
   "metadata": {},
   "outputs": [
    {
     "name": "stdout",
     "output_type": "stream",
     "text": [
      "<class 'pandas.core.frame.DataFrame'>\n",
      "Int64Index: 1017762 entries, 0 to 1017761\n",
      "Data columns (total 18 columns):\n",
      " #   Column                     Non-Null Count    Dtype \n",
      "---  ------                     --------------    ----- \n",
      " 0   Store                      1017762 non-null  int64 \n",
      " 1   DayOfWeek                  1017762 non-null  int64 \n",
      " 2   Date                       1017762 non-null  object\n",
      " 3   Sales                      1017762 non-null  int64 \n",
      " 4   Customers                  1017762 non-null  int64 \n",
      " 5   Open                       1017762 non-null  int64 \n",
      " 6   Promo                      1017762 non-null  int64 \n",
      " 7   StateHoliday               1017762 non-null  object\n",
      " 8   SchoolHoliday              1017762 non-null  int64 \n",
      " 9   StoreType                  1017762 non-null  object\n",
      " 10  Assortment                 1017762 non-null  object\n",
      " 11  CompetitionDistance        1017762 non-null  int32 \n",
      " 12  CompetitionOpenSinceMonth  1017762 non-null  int32 \n",
      " 13  CompetitionOpenSinceYear   1017762 non-null  int32 \n",
      " 14  Promo2                     1017762 non-null  int32 \n",
      " 15  Promo2SinceWeek            1017762 non-null  int32 \n",
      " 16  Promo2SinceYear            1017762 non-null  int32 \n",
      " 17  PromoInterval              1017762 non-null  object\n",
      "dtypes: int32(6), int64(7), object(5)\n",
      "memory usage: 124.2+ MB\n"
     ]
    }
   ],
   "source": [
    "full_imputed_df.info()"
   ]
  },
  {
   "cell_type": "code",
   "execution_count": 596,
   "metadata": {},
   "outputs": [],
   "source": [
    "#This is the fully imputed datafrme, \n",
    "full_imputed_df.to_csv(\"fully_imputed.csv\")"
   ]
  },
  {
   "cell_type": "code",
   "execution_count": 597,
   "metadata": {},
   "outputs": [
    {
     "data": {
      "text/html": [
       "<div>\n",
       "<style scoped>\n",
       "    .dataframe tbody tr th:only-of-type {\n",
       "        vertical-align: middle;\n",
       "    }\n",
       "\n",
       "    .dataframe tbody tr th {\n",
       "        vertical-align: top;\n",
       "    }\n",
       "\n",
       "    .dataframe thead th {\n",
       "        text-align: right;\n",
       "    }\n",
       "</style>\n",
       "<table border=\"1\" class=\"dataframe\">\n",
       "  <thead>\n",
       "    <tr style=\"text-align: right;\">\n",
       "      <th></th>\n",
       "      <th>Store</th>\n",
       "      <th>DayOfWeek</th>\n",
       "      <th>Date</th>\n",
       "      <th>Sales</th>\n",
       "      <th>Customers</th>\n",
       "      <th>Open</th>\n",
       "      <th>Promo</th>\n",
       "      <th>StateHoliday</th>\n",
       "      <th>SchoolHoliday</th>\n",
       "      <th>StoreType</th>\n",
       "      <th>Assortment</th>\n",
       "      <th>CompetitionDistance</th>\n",
       "      <th>CompetitionOpenSinceMonth</th>\n",
       "      <th>CompetitionOpenSinceYear</th>\n",
       "      <th>Promo2</th>\n",
       "      <th>Promo2SinceWeek</th>\n",
       "      <th>Promo2SinceYear</th>\n",
       "      <th>PromoInterval</th>\n",
       "    </tr>\n",
       "  </thead>\n",
       "  <tbody>\n",
       "    <tr>\n",
       "      <th>0</th>\n",
       "      <td>1</td>\n",
       "      <td>5</td>\n",
       "      <td>31/07/2015</td>\n",
       "      <td>5263</td>\n",
       "      <td>555</td>\n",
       "      <td>1</td>\n",
       "      <td>1</td>\n",
       "      <td>0</td>\n",
       "      <td>1</td>\n",
       "      <td>c</td>\n",
       "      <td>a</td>\n",
       "      <td>1270</td>\n",
       "      <td>9</td>\n",
       "      <td>2007</td>\n",
       "      <td>0</td>\n",
       "      <td>14</td>\n",
       "      <td>2010</td>\n",
       "      <td>Feb,May,Aug,Nov</td>\n",
       "    </tr>\n",
       "    <tr>\n",
       "      <th>1</th>\n",
       "      <td>1</td>\n",
       "      <td>4</td>\n",
       "      <td>30/07/2015</td>\n",
       "      <td>5020</td>\n",
       "      <td>546</td>\n",
       "      <td>1</td>\n",
       "      <td>1</td>\n",
       "      <td>0</td>\n",
       "      <td>1</td>\n",
       "      <td>c</td>\n",
       "      <td>a</td>\n",
       "      <td>1270</td>\n",
       "      <td>9</td>\n",
       "      <td>2007</td>\n",
       "      <td>0</td>\n",
       "      <td>14</td>\n",
       "      <td>2010</td>\n",
       "      <td>Feb,May,Aug,Nov</td>\n",
       "    </tr>\n",
       "    <tr>\n",
       "      <th>2</th>\n",
       "      <td>1</td>\n",
       "      <td>3</td>\n",
       "      <td>29/07/2015</td>\n",
       "      <td>4782</td>\n",
       "      <td>523</td>\n",
       "      <td>1</td>\n",
       "      <td>1</td>\n",
       "      <td>0</td>\n",
       "      <td>1</td>\n",
       "      <td>c</td>\n",
       "      <td>a</td>\n",
       "      <td>1270</td>\n",
       "      <td>9</td>\n",
       "      <td>2007</td>\n",
       "      <td>0</td>\n",
       "      <td>14</td>\n",
       "      <td>2010</td>\n",
       "      <td>Feb,May,Aug,Nov</td>\n",
       "    </tr>\n",
       "    <tr>\n",
       "      <th>3</th>\n",
       "      <td>1</td>\n",
       "      <td>2</td>\n",
       "      <td>28/07/2015</td>\n",
       "      <td>5011</td>\n",
       "      <td>560</td>\n",
       "      <td>1</td>\n",
       "      <td>1</td>\n",
       "      <td>0</td>\n",
       "      <td>1</td>\n",
       "      <td>c</td>\n",
       "      <td>a</td>\n",
       "      <td>1270</td>\n",
       "      <td>9</td>\n",
       "      <td>2007</td>\n",
       "      <td>0</td>\n",
       "      <td>14</td>\n",
       "      <td>2010</td>\n",
       "      <td>Feb,May,Aug,Nov</td>\n",
       "    </tr>\n",
       "    <tr>\n",
       "      <th>4</th>\n",
       "      <td>1</td>\n",
       "      <td>1</td>\n",
       "      <td>27/07/2015</td>\n",
       "      <td>6102</td>\n",
       "      <td>612</td>\n",
       "      <td>1</td>\n",
       "      <td>1</td>\n",
       "      <td>0</td>\n",
       "      <td>1</td>\n",
       "      <td>c</td>\n",
       "      <td>a</td>\n",
       "      <td>1270</td>\n",
       "      <td>9</td>\n",
       "      <td>2007</td>\n",
       "      <td>0</td>\n",
       "      <td>14</td>\n",
       "      <td>2010</td>\n",
       "      <td>Feb,May,Aug,Nov</td>\n",
       "    </tr>\n",
       "  </tbody>\n",
       "</table>\n",
       "</div>"
      ],
      "text/plain": [
       "   Store  DayOfWeek        Date  Sales  Customers  Open  Promo StateHoliday  \\\n",
       "0      1          5  31/07/2015   5263        555     1      1            0   \n",
       "1      1          4  30/07/2015   5020        546     1      1            0   \n",
       "2      1          3  29/07/2015   4782        523     1      1            0   \n",
       "3      1          2  28/07/2015   5011        560     1      1            0   \n",
       "4      1          1  27/07/2015   6102        612     1      1            0   \n",
       "\n",
       "   SchoolHoliday StoreType Assortment  CompetitionDistance  \\\n",
       "0              1         c          a                 1270   \n",
       "1              1         c          a                 1270   \n",
       "2              1         c          a                 1270   \n",
       "3              1         c          a                 1270   \n",
       "4              1         c          a                 1270   \n",
       "\n",
       "   CompetitionOpenSinceMonth  CompetitionOpenSinceYear  Promo2  \\\n",
       "0                          9                      2007       0   \n",
       "1                          9                      2007       0   \n",
       "2                          9                      2007       0   \n",
       "3                          9                      2007       0   \n",
       "4                          9                      2007       0   \n",
       "\n",
       "   Promo2SinceWeek  Promo2SinceYear    PromoInterval  \n",
       "0               14             2010  Feb,May,Aug,Nov  \n",
       "1               14             2010  Feb,May,Aug,Nov  \n",
       "2               14             2010  Feb,May,Aug,Nov  \n",
       "3               14             2010  Feb,May,Aug,Nov  \n",
       "4               14             2010  Feb,May,Aug,Nov  "
      ]
     },
     "execution_count": 597,
     "metadata": {},
     "output_type": "execute_result"
    }
   ],
   "source": [
    "full_imputed_df.head()"
   ]
  },
  {
   "cell_type": "code",
   "execution_count": 598,
   "metadata": {},
   "outputs": [],
   "source": [
    "#Creating a copy of the fully imputed dataframe\n",
    "second_df = full_imputed_df.copy()"
   ]
  },
  {
   "cell_type": "code",
   "execution_count": 599,
   "metadata": {},
   "outputs": [
    {
     "name": "stdout",
     "output_type": "stream",
     "text": [
      "<class 'pandas.core.frame.DataFrame'>\n",
      "Int64Index: 1017762 entries, 0 to 1017761\n",
      "Data columns (total 18 columns):\n",
      " #   Column                     Non-Null Count    Dtype \n",
      "---  ------                     --------------    ----- \n",
      " 0   Store                      1017762 non-null  int64 \n",
      " 1   DayOfWeek                  1017762 non-null  int64 \n",
      " 2   Date                       1017762 non-null  object\n",
      " 3   Sales                      1017762 non-null  int64 \n",
      " 4   Customers                  1017762 non-null  int64 \n",
      " 5   Open                       1017762 non-null  int64 \n",
      " 6   Promo                      1017762 non-null  int64 \n",
      " 7   StateHoliday               1017762 non-null  object\n",
      " 8   SchoolHoliday              1017762 non-null  int64 \n",
      " 9   StoreType                  1017762 non-null  object\n",
      " 10  Assortment                 1017762 non-null  object\n",
      " 11  CompetitionDistance        1017762 non-null  int32 \n",
      " 12  CompetitionOpenSinceMonth  1017762 non-null  int32 \n",
      " 13  CompetitionOpenSinceYear   1017762 non-null  int32 \n",
      " 14  Promo2                     1017762 non-null  int32 \n",
      " 15  Promo2SinceWeek            1017762 non-null  int32 \n",
      " 16  Promo2SinceYear            1017762 non-null  int32 \n",
      " 17  PromoInterval              1017762 non-null  object\n",
      "dtypes: int32(6), int64(7), object(5)\n",
      "memory usage: 124.2+ MB\n"
     ]
    }
   ],
   "source": [
    "second_df.info()"
   ]
  },
  {
   "cell_type": "code",
   "execution_count": 600,
   "metadata": {},
   "outputs": [],
   "source": [
    "#Converting the data column into the correct format\n",
    "second_df['Date'] = pd.to_datetime(second_df[\"Date\"])"
   ]
  },
  {
   "cell_type": "code",
   "execution_count": 601,
   "metadata": {},
   "outputs": [
    {
     "name": "stdout",
     "output_type": "stream",
     "text": [
      "<class 'pandas.core.frame.DataFrame'>\n",
      "Int64Index: 1017762 entries, 0 to 1017761\n",
      "Data columns (total 18 columns):\n",
      " #   Column                     Non-Null Count    Dtype         \n",
      "---  ------                     --------------    -----         \n",
      " 0   Store                      1017762 non-null  int64         \n",
      " 1   DayOfWeek                  1017762 non-null  int64         \n",
      " 2   Date                       1017762 non-null  datetime64[ns]\n",
      " 3   Sales                      1017762 non-null  int64         \n",
      " 4   Customers                  1017762 non-null  int64         \n",
      " 5   Open                       1017762 non-null  int64         \n",
      " 6   Promo                      1017762 non-null  int64         \n",
      " 7   StateHoliday               1017762 non-null  object        \n",
      " 8   SchoolHoliday              1017762 non-null  int64         \n",
      " 9   StoreType                  1017762 non-null  object        \n",
      " 10  Assortment                 1017762 non-null  object        \n",
      " 11  CompetitionDistance        1017762 non-null  int32         \n",
      " 12  CompetitionOpenSinceMonth  1017762 non-null  int32         \n",
      " 13  CompetitionOpenSinceYear   1017762 non-null  int32         \n",
      " 14  Promo2                     1017762 non-null  int32         \n",
      " 15  Promo2SinceWeek            1017762 non-null  int32         \n",
      " 16  Promo2SinceYear            1017762 non-null  int32         \n",
      " 17  PromoInterval              1017762 non-null  object        \n",
      "dtypes: datetime64[ns](1), int32(6), int64(7), object(4)\n",
      "memory usage: 124.2+ MB\n"
     ]
    }
   ],
   "source": [
    "second_df.info()"
   ]
  },
  {
   "cell_type": "code",
   "execution_count": 602,
   "metadata": {},
   "outputs": [],
   "source": [
    "#spliting the date into seperate columns for day, month, year. \n",
    "second_df['Day'] = second_df['Date'].dt.day\n",
    "second_df['Month'] = second_df['Date'].dt.month\n",
    "second_df['Year'] = second_df['Date'].dt.year"
   ]
  },
  {
   "cell_type": "code",
   "execution_count": 603,
   "metadata": {},
   "outputs": [
    {
     "name": "stdout",
     "output_type": "stream",
     "text": [
      "<class 'pandas.core.frame.DataFrame'>\n",
      "Int64Index: 1017762 entries, 0 to 1017761\n",
      "Data columns (total 21 columns):\n",
      " #   Column                     Non-Null Count    Dtype         \n",
      "---  ------                     --------------    -----         \n",
      " 0   Store                      1017762 non-null  int64         \n",
      " 1   DayOfWeek                  1017762 non-null  int64         \n",
      " 2   Date                       1017762 non-null  datetime64[ns]\n",
      " 3   Sales                      1017762 non-null  int64         \n",
      " 4   Customers                  1017762 non-null  int64         \n",
      " 5   Open                       1017762 non-null  int64         \n",
      " 6   Promo                      1017762 non-null  int64         \n",
      " 7   StateHoliday               1017762 non-null  object        \n",
      " 8   SchoolHoliday              1017762 non-null  int64         \n",
      " 9   StoreType                  1017762 non-null  object        \n",
      " 10  Assortment                 1017762 non-null  object        \n",
      " 11  CompetitionDistance        1017762 non-null  int32         \n",
      " 12  CompetitionOpenSinceMonth  1017762 non-null  int32         \n",
      " 13  CompetitionOpenSinceYear   1017762 non-null  int32         \n",
      " 14  Promo2                     1017762 non-null  int32         \n",
      " 15  Promo2SinceWeek            1017762 non-null  int32         \n",
      " 16  Promo2SinceYear            1017762 non-null  int32         \n",
      " 17  PromoInterval              1017762 non-null  object        \n",
      " 18  Day                        1017762 non-null  int64         \n",
      " 19  Month                      1017762 non-null  int64         \n",
      " 20  Year                       1017762 non-null  int64         \n",
      "dtypes: datetime64[ns](1), int32(6), int64(10), object(4)\n",
      "memory usage: 147.5+ MB\n"
     ]
    }
   ],
   "source": [
    "second_df.info()"
   ]
  },
  {
   "cell_type": "code",
   "execution_count": 604,
   "metadata": {},
   "outputs": [
    {
     "data": {
      "text/html": [
       "<div>\n",
       "<style scoped>\n",
       "    .dataframe tbody tr th:only-of-type {\n",
       "        vertical-align: middle;\n",
       "    }\n",
       "\n",
       "    .dataframe tbody tr th {\n",
       "        vertical-align: top;\n",
       "    }\n",
       "\n",
       "    .dataframe thead th {\n",
       "        text-align: right;\n",
       "    }\n",
       "</style>\n",
       "<table border=\"1\" class=\"dataframe\">\n",
       "  <thead>\n",
       "    <tr style=\"text-align: right;\">\n",
       "      <th></th>\n",
       "      <th>Store</th>\n",
       "      <th>DayOfWeek</th>\n",
       "      <th>Date</th>\n",
       "      <th>Sales</th>\n",
       "      <th>Customers</th>\n",
       "      <th>Open</th>\n",
       "      <th>Promo</th>\n",
       "      <th>StateHoliday</th>\n",
       "      <th>SchoolHoliday</th>\n",
       "      <th>StoreType</th>\n",
       "      <th>...</th>\n",
       "      <th>CompetitionDistance</th>\n",
       "      <th>CompetitionOpenSinceMonth</th>\n",
       "      <th>CompetitionOpenSinceYear</th>\n",
       "      <th>Promo2</th>\n",
       "      <th>Promo2SinceWeek</th>\n",
       "      <th>Promo2SinceYear</th>\n",
       "      <th>PromoInterval</th>\n",
       "      <th>Day</th>\n",
       "      <th>Month</th>\n",
       "      <th>Year</th>\n",
       "    </tr>\n",
       "  </thead>\n",
       "  <tbody>\n",
       "    <tr>\n",
       "      <th>0</th>\n",
       "      <td>1</td>\n",
       "      <td>5</td>\n",
       "      <td>2015-07-31</td>\n",
       "      <td>5263</td>\n",
       "      <td>555</td>\n",
       "      <td>1</td>\n",
       "      <td>1</td>\n",
       "      <td>0</td>\n",
       "      <td>1</td>\n",
       "      <td>c</td>\n",
       "      <td>...</td>\n",
       "      <td>1270</td>\n",
       "      <td>9</td>\n",
       "      <td>2007</td>\n",
       "      <td>0</td>\n",
       "      <td>14</td>\n",
       "      <td>2010</td>\n",
       "      <td>Feb,May,Aug,Nov</td>\n",
       "      <td>31</td>\n",
       "      <td>7</td>\n",
       "      <td>2015</td>\n",
       "    </tr>\n",
       "    <tr>\n",
       "      <th>1</th>\n",
       "      <td>1</td>\n",
       "      <td>4</td>\n",
       "      <td>2015-07-30</td>\n",
       "      <td>5020</td>\n",
       "      <td>546</td>\n",
       "      <td>1</td>\n",
       "      <td>1</td>\n",
       "      <td>0</td>\n",
       "      <td>1</td>\n",
       "      <td>c</td>\n",
       "      <td>...</td>\n",
       "      <td>1270</td>\n",
       "      <td>9</td>\n",
       "      <td>2007</td>\n",
       "      <td>0</td>\n",
       "      <td>14</td>\n",
       "      <td>2010</td>\n",
       "      <td>Feb,May,Aug,Nov</td>\n",
       "      <td>30</td>\n",
       "      <td>7</td>\n",
       "      <td>2015</td>\n",
       "    </tr>\n",
       "    <tr>\n",
       "      <th>2</th>\n",
       "      <td>1</td>\n",
       "      <td>3</td>\n",
       "      <td>2015-07-29</td>\n",
       "      <td>4782</td>\n",
       "      <td>523</td>\n",
       "      <td>1</td>\n",
       "      <td>1</td>\n",
       "      <td>0</td>\n",
       "      <td>1</td>\n",
       "      <td>c</td>\n",
       "      <td>...</td>\n",
       "      <td>1270</td>\n",
       "      <td>9</td>\n",
       "      <td>2007</td>\n",
       "      <td>0</td>\n",
       "      <td>14</td>\n",
       "      <td>2010</td>\n",
       "      <td>Feb,May,Aug,Nov</td>\n",
       "      <td>29</td>\n",
       "      <td>7</td>\n",
       "      <td>2015</td>\n",
       "    </tr>\n",
       "    <tr>\n",
       "      <th>3</th>\n",
       "      <td>1</td>\n",
       "      <td>2</td>\n",
       "      <td>2015-07-28</td>\n",
       "      <td>5011</td>\n",
       "      <td>560</td>\n",
       "      <td>1</td>\n",
       "      <td>1</td>\n",
       "      <td>0</td>\n",
       "      <td>1</td>\n",
       "      <td>c</td>\n",
       "      <td>...</td>\n",
       "      <td>1270</td>\n",
       "      <td>9</td>\n",
       "      <td>2007</td>\n",
       "      <td>0</td>\n",
       "      <td>14</td>\n",
       "      <td>2010</td>\n",
       "      <td>Feb,May,Aug,Nov</td>\n",
       "      <td>28</td>\n",
       "      <td>7</td>\n",
       "      <td>2015</td>\n",
       "    </tr>\n",
       "    <tr>\n",
       "      <th>4</th>\n",
       "      <td>1</td>\n",
       "      <td>1</td>\n",
       "      <td>2015-07-27</td>\n",
       "      <td>6102</td>\n",
       "      <td>612</td>\n",
       "      <td>1</td>\n",
       "      <td>1</td>\n",
       "      <td>0</td>\n",
       "      <td>1</td>\n",
       "      <td>c</td>\n",
       "      <td>...</td>\n",
       "      <td>1270</td>\n",
       "      <td>9</td>\n",
       "      <td>2007</td>\n",
       "      <td>0</td>\n",
       "      <td>14</td>\n",
       "      <td>2010</td>\n",
       "      <td>Feb,May,Aug,Nov</td>\n",
       "      <td>27</td>\n",
       "      <td>7</td>\n",
       "      <td>2015</td>\n",
       "    </tr>\n",
       "  </tbody>\n",
       "</table>\n",
       "<p>5 rows × 21 columns</p>\n",
       "</div>"
      ],
      "text/plain": [
       "   Store  DayOfWeek       Date  Sales  Customers  Open  Promo StateHoliday  \\\n",
       "0      1          5 2015-07-31   5263        555     1      1            0   \n",
       "1      1          4 2015-07-30   5020        546     1      1            0   \n",
       "2      1          3 2015-07-29   4782        523     1      1            0   \n",
       "3      1          2 2015-07-28   5011        560     1      1            0   \n",
       "4      1          1 2015-07-27   6102        612     1      1            0   \n",
       "\n",
       "   SchoolHoliday StoreType  ... CompetitionDistance  \\\n",
       "0              1         c  ...                1270   \n",
       "1              1         c  ...                1270   \n",
       "2              1         c  ...                1270   \n",
       "3              1         c  ...                1270   \n",
       "4              1         c  ...                1270   \n",
       "\n",
       "   CompetitionOpenSinceMonth  CompetitionOpenSinceYear  Promo2  \\\n",
       "0                          9                      2007       0   \n",
       "1                          9                      2007       0   \n",
       "2                          9                      2007       0   \n",
       "3                          9                      2007       0   \n",
       "4                          9                      2007       0   \n",
       "\n",
       "   Promo2SinceWeek  Promo2SinceYear    PromoInterval Day  Month  Year  \n",
       "0               14             2010  Feb,May,Aug,Nov  31      7  2015  \n",
       "1               14             2010  Feb,May,Aug,Nov  30      7  2015  \n",
       "2               14             2010  Feb,May,Aug,Nov  29      7  2015  \n",
       "3               14             2010  Feb,May,Aug,Nov  28      7  2015  \n",
       "4               14             2010  Feb,May,Aug,Nov  27      7  2015  \n",
       "\n",
       "[5 rows x 21 columns]"
      ]
     },
     "execution_count": 604,
     "metadata": {},
     "output_type": "execute_result"
    }
   ],
   "source": [
    "second_df.head()"
   ]
  },
  {
   "cell_type": "markdown",
   "metadata": {},
   "source": [
    "### Outliers "
   ]
  },
  {
   "cell_type": "markdown",
   "metadata": {},
   "source": [
    "#####  I have decided not to do anything with the outliers as the data points collected are a true reflection of the store's performance. Therefore, removing outliers will remove the unpredictability and uncertainty of store sales, and make the model predictable and likely lead to poor model performance. "
   ]
  },
  {
   "cell_type": "markdown",
   "metadata": {},
   "source": [
    "#  Data Exploration "
   ]
  },
  {
   "cell_type": "code",
   "execution_count": 605,
   "metadata": {},
   "outputs": [
    {
     "name": "stdout",
     "output_type": "stream",
     "text": [
      "<class 'pandas.core.frame.DataFrame'>\n",
      "Int64Index: 1017762 entries, 0 to 1017761\n",
      "Data columns (total 21 columns):\n",
      " #   Column                     Non-Null Count    Dtype         \n",
      "---  ------                     --------------    -----         \n",
      " 0   Store                      1017762 non-null  int64         \n",
      " 1   DayOfWeek                  1017762 non-null  int64         \n",
      " 2   Date                       1017762 non-null  datetime64[ns]\n",
      " 3   Sales                      1017762 non-null  int64         \n",
      " 4   Customers                  1017762 non-null  int64         \n",
      " 5   Open                       1017762 non-null  int64         \n",
      " 6   Promo                      1017762 non-null  int64         \n",
      " 7   StateHoliday               1017762 non-null  object        \n",
      " 8   SchoolHoliday              1017762 non-null  int64         \n",
      " 9   StoreType                  1017762 non-null  object        \n",
      " 10  Assortment                 1017762 non-null  object        \n",
      " 11  CompetitionDistance        1017762 non-null  int32         \n",
      " 12  CompetitionOpenSinceMonth  1017762 non-null  int32         \n",
      " 13  CompetitionOpenSinceYear   1017762 non-null  int32         \n",
      " 14  Promo2                     1017762 non-null  int32         \n",
      " 15  Promo2SinceWeek            1017762 non-null  int32         \n",
      " 16  Promo2SinceYear            1017762 non-null  int32         \n",
      " 17  PromoInterval              1017762 non-null  object        \n",
      " 18  Day                        1017762 non-null  int64         \n",
      " 19  Month                      1017762 non-null  int64         \n",
      " 20  Year                       1017762 non-null  int64         \n",
      "dtypes: datetime64[ns](1), int32(6), int64(10), object(4)\n",
      "memory usage: 147.5+ MB\n"
     ]
    }
   ],
   "source": [
    "second_df.info()"
   ]
  },
  {
   "cell_type": "code",
   "execution_count": 606,
   "metadata": {},
   "outputs": [
    {
     "data": {
      "text/plain": [
       "Text(0.5, 1.0, 'Sales for Days of the Week')"
      ]
     },
     "execution_count": 606,
     "metadata": {},
     "output_type": "execute_result"
    },
    {
     "data": {
      "image/png": "[encoded data removed]",
      "text/plain": [
       "<Figure size 432x288 with 1 Axes>"
      ]
     },
     "metadata": {
      "needs_background": "light"
     },
     "output_type": "display_data"
    }
   ],
   "source": [
    "sns.boxplot(x=\"DayOfWeek\", y=\"Sales\", data=second_df)\n",
    "plt.title(\"Sales for Days of the Week\")"
   ]
  },
  {
   "cell_type": "code",
   "execution_count": 607,
   "metadata": {},
   "outputs": [
    {
     "data": {
      "text/plain": [
       "Text(0.5, 1.0, 'Sales for different Store Types')"
      ]
     },
     "execution_count": 607,
     "metadata": {},
     "output_type": "execute_result"
    },
    {
     "data": {
      "image/png": "[encoded data removed]",
      "text/plain": [
       "<Figure size 432x288 with 1 Axes>"
      ]
     },
     "metadata": {
      "needs_background": "light"
     },
     "output_type": "display_data"
    }
   ],
   "source": [
    "sns.violinplot(x=\"StoreType\", y=\"Sales\", hue=\"Promo\",order=[\"a\",\"b\",\"c\",\"d\"], data=second_df, split =True)\n",
    "plt.title(\"Sales for different Store Types\")"
   ]
  },
  {
   "cell_type": "code",
   "execution_count": 608,
   "metadata": {},
   "outputs": [
    {
     "data": {
      "text/plain": [
       "Text(0.5, 1.0, \"Sales for different StateHoliday's\")"
      ]
     },
     "execution_count": 608,
     "metadata": {},
     "output_type": "execute_result"
    },
    {
     "data": {
      "image/png": "[encoded data removed]",
      "text/plain": [
       "<Figure size 432x288 with 1 Axes>"
      ]
     },
     "metadata": {
      "needs_background": "light"
     },
     "output_type": "display_data"
    }
   ],
   "source": [
    "sns.violinplot(x=\"StateHoliday\", y=\"Sales\", hue=\"Promo\", data=second_df, split =True)\n",
    "plt.title(\"Sales for different StateHoliday's\")"
   ]
  },
  {
   "cell_type": "code",
   "execution_count": 609,
   "metadata": {},
   "outputs": [
    {
     "data": {
      "text/plain": [
       "Text(0.5, 1.0, 'Sales for different SchoolHoliday')"
      ]
     },
     "execution_count": 609,
     "metadata": {},
     "output_type": "execute_result"
    },
    {
     "data": {
      "image/png": "[encoded data removed]",
      "text/plain": [
       "<Figure size 432x288 with 1 Axes>"
      ]
     },
     "metadata": {
      "needs_background": "light"
     },
     "output_type": "display_data"
    }
   ],
   "source": [
    "sns.violinplot(x=\"SchoolHoliday\", y=\"Sales\", hue=\"Promo\", data=second_df, split =True)\n",
    "plt.title(\"Sales for different SchoolHoliday\")"
   ]
  },
  {
   "cell_type": "code",
   "execution_count": 610,
   "metadata": {},
   "outputs": [
    {
     "data": {
      "text/plain": [
       "Text(0.5, 1.0, 'Sales for different SchoolHoliday')"
      ]
     },
     "execution_count": 610,
     "metadata": {},
     "output_type": "execute_result"
    },
    {
     "data": {
      "image/png": "[encoded data removed]",
      "text/plain": [
       "<Figure size 432x288 with 1 Axes>"
      ]
     },
     "metadata": {
      "needs_background": "light"
     },
     "output_type": "display_data"
    }
   ],
   "source": [
    "sns.violinplot(x=\"Open\", y=\"Sales\", hue=\"Promo\", data=second_df, split =True)\n",
    "plt.title(\"Sales for different SchoolHoliday\")"
   ]
  },
  {
   "cell_type": "code",
   "execution_count": 611,
   "metadata": {},
   "outputs": [
    {
     "data": {
      "text/plain": [
       "Text(0.5, 1.0, 'Sales for Days of the Week')"
      ]
     },
     "execution_count": 611,
     "metadata": {},
     "output_type": "execute_result"
    },
    {
     "data": {
      "image/png": "[encoded data removed]",
      "text/plain": [
       "<Figure size 432x288 with 1 Axes>"
      ]
     },
     "metadata": {
      "needs_background": "light"
     },
     "output_type": "display_data"
    }
   ],
   "source": [
    "sns.boxplot(x=\"Open\", y=\"Sales\", data=second_df)\n",
    "plt.title(\"Sales for Days of the Week\")"
   ]
  },
  {
   "cell_type": "code",
   "execution_count": 612,
   "metadata": {},
   "outputs": [
    {
     "data": {
      "text/plain": [
       "Text(0.5, 1.0, 'Sales for Assortment Types')"
      ]
     },
     "execution_count": 612,
     "metadata": {},
     "output_type": "execute_result"
    },
    {
     "data": {
      "image/png": "[encoded data removed]",
      "text/plain": [
       "<Figure size 432x288 with 1 Axes>"
      ]
     },
     "metadata": {
      "needs_background": "light"
     },
     "output_type": "display_data"
    }
   ],
   "source": [
    "sns.boxplot(x=\"Assortment\", y=\"Sales\",order=[\"a\",\"b\",\"c\"] ,data=second_df)\n",
    "plt.title(\"Sales for Assortment Types\")"
   ]
  },
  {
   "cell_type": "code",
   "execution_count": 613,
   "metadata": {},
   "outputs": [
    {
     "data": {
      "text/plain": [
       "Text(0.5, 1.0, 'Sales for Days of the Week')"
      ]
     },
     "execution_count": 613,
     "metadata": {},
     "output_type": "execute_result"
    },
    {
     "data": {
      "image/png": "[encoded data removed]",
      "text/plain": [
       "<Figure size 432x288 with 1 Axes>"
      ]
     },
     "metadata": {
      "needs_background": "light"
     },
     "output_type": "display_data"
    }
   ],
   "source": [
    "sns.boxplot(x=\"Promo\", y=\"Sales\", data=second_df)\n",
    "plt.title(\"Sales for Days of the Week\")"
   ]
  },
  {
   "cell_type": "code",
   "execution_count": 614,
   "metadata": {},
   "outputs": [
    {
     "data": {
      "text/plain": [
       "Text(0.5, 1.0, 'Sales for Days of the Week')"
      ]
     },
     "execution_count": 614,
     "metadata": {},
     "output_type": "execute_result"
    },
    {
     "data": {
      "image/png": "[encoded data removed]",
      "text/plain": [
       "<Figure size 432x288 with 1 Axes>"
      ]
     },
     "metadata": {
      "needs_background": "light"
     },
     "output_type": "display_data"
    }
   ],
   "source": [
    "sns.boxplot(x=\"Promo2\", y=\"Sales\", data=second_df)\n",
    "plt.title(\"Sales for Days of the Week\")"
   ]
  },
  {
   "cell_type": "markdown",
   "metadata": {},
   "source": [
    "# Feature Engineering -  Variable Reduction"
   ]
  },
  {
   "cell_type": "markdown",
   "metadata": {},
   "source": [
    "##  Multicollinearity"
   ]
  },
  {
   "cell_type": "markdown",
   "metadata": {},
   "source": [
    "Removing multicollinearity helps to remove any strongly correlating variables, which could impact on the performance of our models to do this I will be using the Variance Inflaction Factor(VIF) we pick each feature and regress it against all of the other features. For each regression\n",
    "\n",
    "Where, R-squared is the coefficient of determination in linear regression. Its value lies between 0 and 1. For more information go to:\n",
    "https://www.geeksforgeeks.org/detecting-multicollinearity-with-vif-python/ \n",
    "\n",
    "As we see from the formula, greater the value of R-squared, greater is the VIF. Hence, greater VIF denotes greater correlation. This is in agreement with the fact that a higher R-squared value denotes a stronger collinearity. Generally, a VIF above 5 indicates a high multicollinearity. \n"
   ]
  },
  {
   "cell_type": "code",
   "execution_count": 615,
   "metadata": {},
   "outputs": [],
   "source": [
    "#Have to drop categorical variables\n",
    "vif_reduce = second_df.drop(['StateHoliday','StoreType','Assortment','PromoInterval'], axis =1)"
   ]
  },
  {
   "cell_type": "code",
   "execution_count": 616,
   "metadata": {},
   "outputs": [],
   "source": [
    "# Date also is required to be dropped\n",
    "vif_reduce = vif_reduce.drop(['Date'], axis = 1)"
   ]
  },
  {
   "cell_type": "code",
   "execution_count": 617,
   "metadata": {},
   "outputs": [
    {
     "name": "stdout",
     "output_type": "stream",
     "text": [
      "<class 'pandas.core.frame.DataFrame'>\n",
      "Int64Index: 1017762 entries, 0 to 1017761\n",
      "Data columns (total 16 columns):\n",
      " #   Column                     Non-Null Count    Dtype\n",
      "---  ------                     --------------    -----\n",
      " 0   Store                      1017762 non-null  int64\n",
      " 1   DayOfWeek                  1017762 non-null  int64\n",
      " 2   Sales                      1017762 non-null  int64\n",
      " 3   Customers                  1017762 non-null  int64\n",
      " 4   Open                       1017762 non-null  int64\n",
      " 5   Promo                      1017762 non-null  int64\n",
      " 6   SchoolHoliday              1017762 non-null  int64\n",
      " 7   CompetitionDistance        1017762 non-null  int32\n",
      " 8   CompetitionOpenSinceMonth  1017762 non-null  int32\n",
      " 9   CompetitionOpenSinceYear   1017762 non-null  int32\n",
      " 10  Promo2                     1017762 non-null  int32\n",
      " 11  Promo2SinceWeek            1017762 non-null  int32\n",
      " 12  Promo2SinceYear            1017762 non-null  int32\n",
      " 13  Day                        1017762 non-null  int64\n",
      " 14  Month                      1017762 non-null  int64\n",
      " 15  Year                       1017762 non-null  int64\n",
      "dtypes: int32(6), int64(10)\n",
      "memory usage: 108.7 MB\n"
     ]
    }
   ],
   "source": [
    "# Dealing with multicollinearity through the Variance Inflation Factor(VIF) method. \n",
    "vif_reduce.info()"
   ]
  },
  {
   "cell_type": "code",
   "execution_count": 618,
   "metadata": {},
   "outputs": [],
   "source": [
    "from statsmodels.stats.outliers_influence import variance_inflation_factor\n",
    "\n",
    "vif_data = pd.DataFrame()\n",
    "vif_data[\"features\"] = vif_reduce.columns\n",
    "\n",
    "vif_data[\"VIF\"] = [variance_inflation_factor(vif_reduce.values, i)\n",
    "                        for i in range(len(vif_reduce.columns))]\n"
   ]
  },
  {
   "cell_type": "code",
   "execution_count": 619,
   "metadata": {},
   "outputs": [
    {
     "data": {
      "text/html": [
       "<div>\n",
       "<style scoped>\n",
       "    .dataframe tbody tr th:only-of-type {\n",
       "        vertical-align: middle;\n",
       "    }\n",
       "\n",
       "    .dataframe tbody tr th {\n",
       "        vertical-align: top;\n",
       "    }\n",
       "\n",
       "    .dataframe thead th {\n",
       "        text-align: right;\n",
       "    }\n",
       "</style>\n",
       "<table border=\"1\" class=\"dataframe\">\n",
       "  <thead>\n",
       "    <tr style=\"text-align: right;\">\n",
       "      <th></th>\n",
       "      <th>features</th>\n",
       "      <th>VIF</th>\n",
       "    </tr>\n",
       "  </thead>\n",
       "  <tbody>\n",
       "    <tr>\n",
       "      <th>0</th>\n",
       "      <td>Store</td>\n",
       "      <td>4.024360e+00</td>\n",
       "    </tr>\n",
       "    <tr>\n",
       "      <th>1</th>\n",
       "      <td>DayOfWeek</td>\n",
       "      <td>7.918760e+00</td>\n",
       "    </tr>\n",
       "    <tr>\n",
       "      <th>2</th>\n",
       "      <td>Sales</td>\n",
       "      <td>2.287952e+01</td>\n",
       "    </tr>\n",
       "    <tr>\n",
       "      <th>3</th>\n",
       "      <td>Customers</td>\n",
       "      <td>1.659186e+01</td>\n",
       "    </tr>\n",
       "    <tr>\n",
       "      <th>4</th>\n",
       "      <td>Open</td>\n",
       "      <td>1.245247e+01</td>\n",
       "    </tr>\n",
       "    <tr>\n",
       "      <th>5</th>\n",
       "      <td>Promo</td>\n",
       "      <td>2.337198e+00</td>\n",
       "    </tr>\n",
       "    <tr>\n",
       "      <th>6</th>\n",
       "      <td>SchoolHoliday</td>\n",
       "      <td>1.283840e+00</td>\n",
       "    </tr>\n",
       "    <tr>\n",
       "      <th>7</th>\n",
       "      <td>CompetitionDistance</td>\n",
       "      <td>1.639368e+00</td>\n",
       "    </tr>\n",
       "    <tr>\n",
       "      <th>8</th>\n",
       "      <td>CompetitionOpenSinceMonth</td>\n",
       "      <td>7.220426e+00</td>\n",
       "    </tr>\n",
       "    <tr>\n",
       "      <th>9</th>\n",
       "      <td>CompetitionOpenSinceYear</td>\n",
       "      <td>1.524043e+05</td>\n",
       "    </tr>\n",
       "    <tr>\n",
       "      <th>10</th>\n",
       "      <td>Promo2</td>\n",
       "      <td>2.166088e+00</td>\n",
       "    </tr>\n",
       "    <tr>\n",
       "      <th>11</th>\n",
       "      <td>Promo2SinceWeek</td>\n",
       "      <td>5.615953e+00</td>\n",
       "    </tr>\n",
       "    <tr>\n",
       "      <th>12</th>\n",
       "      <td>Promo2SinceYear</td>\n",
       "      <td>1.871882e+06</td>\n",
       "    </tr>\n",
       "    <tr>\n",
       "      <th>13</th>\n",
       "      <td>Day</td>\n",
       "      <td>3.974026e+00</td>\n",
       "    </tr>\n",
       "    <tr>\n",
       "      <th>14</th>\n",
       "      <td>Month</td>\n",
       "      <td>4.439357e+00</td>\n",
       "    </tr>\n",
       "    <tr>\n",
       "      <th>15</th>\n",
       "      <td>Year</td>\n",
       "      <td>1.929149e+06</td>\n",
       "    </tr>\n",
       "  </tbody>\n",
       "</table>\n",
       "</div>"
      ],
      "text/plain": [
       "                     features           VIF\n",
       "0                       Store  4.024360e+00\n",
       "1                   DayOfWeek  7.918760e+00\n",
       "2                       Sales  2.287952e+01\n",
       "3                   Customers  1.659186e+01\n",
       "4                        Open  1.245247e+01\n",
       "5                       Promo  2.337198e+00\n",
       "6               SchoolHoliday  1.283840e+00\n",
       "7         CompetitionDistance  1.639368e+00\n",
       "8   CompetitionOpenSinceMonth  7.220426e+00\n",
       "9    CompetitionOpenSinceYear  1.524043e+05\n",
       "10                     Promo2  2.166088e+00\n",
       "11            Promo2SinceWeek  5.615953e+00\n",
       "12            Promo2SinceYear  1.871882e+06\n",
       "13                        Day  3.974026e+00\n",
       "14                      Month  4.439357e+00\n",
       "15                       Year  1.929149e+06"
      ]
     },
     "execution_count": 619,
     "metadata": {},
     "output_type": "execute_result"
    }
   ],
   "source": [
    "vif_data"
   ]
  },
  {
   "cell_type": "code",
   "execution_count": 620,
   "metadata": {},
   "outputs": [
    {
     "data": {
      "text/plain": [
       "<AxesSubplot:xlabel='VIF', ylabel='features'>"
      ]
     },
     "execution_count": 620,
     "metadata": {},
     "output_type": "execute_result"
    },
    {
     "data": {
      "image/png": "[encoded data removed]",
      "text/plain": [
       "<Figure size 648x1080 with 1 Axes>"
      ]
     },
     "metadata": {
      "needs_background": "light"
     },
     "output_type": "display_data"
    }
   ],
   "source": [
    "fig_dims = (9, 15)\n",
    "fig, ax = plt.subplots(figsize=fig_dims)\n",
    "sns.barplot(x=\"VIF\", y=\"features\", data=vif_data)"
   ]
  },
  {
   "cell_type": "code",
   "execution_count": 621,
   "metadata": {},
   "outputs": [],
   "source": [
    "#Dropping variables with high multicollinearity\n",
    "vif_reduce = vif_reduce.drop(['CompetitionOpenSinceYear','Promo2SinceYear','Year'], axis = 1)"
   ]
  },
  {
   "cell_type": "code",
   "execution_count": 622,
   "metadata": {},
   "outputs": [
    {
     "name": "stdout",
     "output_type": "stream",
     "text": [
      "<class 'pandas.core.frame.DataFrame'>\n",
      "Int64Index: 1017762 entries, 0 to 1017761\n",
      "Data columns (total 13 columns):\n",
      " #   Column                     Non-Null Count    Dtype\n",
      "---  ------                     --------------    -----\n",
      " 0   Store                      1017762 non-null  int64\n",
      " 1   DayOfWeek                  1017762 non-null  int64\n",
      " 2   Sales                      1017762 non-null  int64\n",
      " 3   Customers                  1017762 non-null  int64\n",
      " 4   Open                       1017762 non-null  int64\n",
      " 5   Promo                      1017762 non-null  int64\n",
      " 6   SchoolHoliday              1017762 non-null  int64\n",
      " 7   CompetitionDistance        1017762 non-null  int32\n",
      " 8   CompetitionOpenSinceMonth  1017762 non-null  int32\n",
      " 9   Promo2                     1017762 non-null  int32\n",
      " 10  Promo2SinceWeek            1017762 non-null  int32\n",
      " 11  Day                        1017762 non-null  int64\n",
      " 12  Month                      1017762 non-null  int64\n",
      "dtypes: int32(4), int64(9)\n",
      "memory usage: 93.2 MB\n"
     ]
    }
   ],
   "source": [
    "vif_reduce.info()"
   ]
  },
  {
   "cell_type": "code",
   "execution_count": 623,
   "metadata": {},
   "outputs": [],
   "source": [
    "from statsmodels.stats.outliers_influence import variance_inflation_factor\n",
    "\n",
    "vif_data = pd.DataFrame()\n",
    "vif_data[\"features\"] = vif_reduce.columns\n",
    "\n",
    "vif_data[\"VIF\"] = [variance_inflation_factor(vif_reduce.values, i)\n",
    "                        for i in range(len(vif_reduce.columns))]"
   ]
  },
  {
   "cell_type": "code",
   "execution_count": 624,
   "metadata": {},
   "outputs": [
    {
     "data": {
      "text/html": [
       "<div>\n",
       "<style scoped>\n",
       "    .dataframe tbody tr th:only-of-type {\n",
       "        vertical-align: middle;\n",
       "    }\n",
       "\n",
       "    .dataframe tbody tr th {\n",
       "        vertical-align: top;\n",
       "    }\n",
       "\n",
       "    .dataframe thead th {\n",
       "        text-align: right;\n",
       "    }\n",
       "</style>\n",
       "<table border=\"1\" class=\"dataframe\">\n",
       "  <thead>\n",
       "    <tr style=\"text-align: right;\">\n",
       "      <th></th>\n",
       "      <th>features</th>\n",
       "      <th>VIF</th>\n",
       "    </tr>\n",
       "  </thead>\n",
       "  <tbody>\n",
       "    <tr>\n",
       "      <th>0</th>\n",
       "      <td>Store</td>\n",
       "      <td>3.731253</td>\n",
       "    </tr>\n",
       "    <tr>\n",
       "      <th>1</th>\n",
       "      <td>DayOfWeek</td>\n",
       "      <td>5.064199</td>\n",
       "    </tr>\n",
       "    <tr>\n",
       "      <th>2</th>\n",
       "      <td>Sales</td>\n",
       "      <td>22.718754</td>\n",
       "    </tr>\n",
       "    <tr>\n",
       "      <th>3</th>\n",
       "      <td>Customers</td>\n",
       "      <td>16.460914</td>\n",
       "    </tr>\n",
       "    <tr>\n",
       "      <th>4</th>\n",
       "      <td>Open</td>\n",
       "      <td>10.537808</td>\n",
       "    </tr>\n",
       "    <tr>\n",
       "      <th>5</th>\n",
       "      <td>Promo</td>\n",
       "      <td>2.218540</td>\n",
       "    </tr>\n",
       "    <tr>\n",
       "      <th>6</th>\n",
       "      <td>SchoolHoliday</td>\n",
       "      <td>1.266183</td>\n",
       "    </tr>\n",
       "    <tr>\n",
       "      <th>7</th>\n",
       "      <td>CompetitionDistance</td>\n",
       "      <td>1.570563</td>\n",
       "    </tr>\n",
       "    <tr>\n",
       "      <th>8</th>\n",
       "      <td>CompetitionOpenSinceMonth</td>\n",
       "      <td>5.941617</td>\n",
       "    </tr>\n",
       "    <tr>\n",
       "      <th>9</th>\n",
       "      <td>Promo2</td>\n",
       "      <td>2.079886</td>\n",
       "    </tr>\n",
       "    <tr>\n",
       "      <th>10</th>\n",
       "      <td>Promo2SinceWeek</td>\n",
       "      <td>4.841727</td>\n",
       "    </tr>\n",
       "    <tr>\n",
       "      <th>11</th>\n",
       "      <td>Day</td>\n",
       "      <td>3.682391</td>\n",
       "    </tr>\n",
       "    <tr>\n",
       "      <th>12</th>\n",
       "      <td>Month</td>\n",
       "      <td>4.040762</td>\n",
       "    </tr>\n",
       "  </tbody>\n",
       "</table>\n",
       "</div>"
      ],
      "text/plain": [
       "                     features        VIF\n",
       "0                       Store   3.731253\n",
       "1                   DayOfWeek   5.064199\n",
       "2                       Sales  22.718754\n",
       "3                   Customers  16.460914\n",
       "4                        Open  10.537808\n",
       "5                       Promo   2.218540\n",
       "6               SchoolHoliday   1.266183\n",
       "7         CompetitionDistance   1.570563\n",
       "8   CompetitionOpenSinceMonth   5.941617\n",
       "9                      Promo2   2.079886\n",
       "10            Promo2SinceWeek   4.841727\n",
       "11                        Day   3.682391\n",
       "12                      Month   4.040762"
      ]
     },
     "execution_count": 624,
     "metadata": {},
     "output_type": "execute_result"
    }
   ],
   "source": [
    "vif_data"
   ]
  },
  {
   "cell_type": "code",
   "execution_count": 625,
   "metadata": {},
   "outputs": [
    {
     "data": {
      "text/plain": [
       "<AxesSubplot:xlabel='VIF', ylabel='features'>"
      ]
     },
     "execution_count": 625,
     "metadata": {},
     "output_type": "execute_result"
    },
    {
     "data": {
      "image/png": "[encoded data removed]",
      "text/plain": [
       "<Figure size 648x1080 with 1 Axes>"
      ]
     },
     "metadata": {
      "needs_background": "light"
     },
     "output_type": "display_data"
    }
   ],
   "source": [
    "fig_dims = (9, 15)\n",
    "fig, ax = plt.subplots(figsize=fig_dims)\n",
    "sns.barplot(x=\"VIF\", y=\"features\", data=vif_data)"
   ]
  },
  {
   "cell_type": "code",
   "execution_count": 626,
   "metadata": {},
   "outputs": [],
   "source": [
    "vif_reduce = vif_reduce.drop(['Sales','Customers'], axis = 1)"
   ]
  },
  {
   "cell_type": "code",
   "execution_count": 627,
   "metadata": {},
   "outputs": [
    {
     "name": "stdout",
     "output_type": "stream",
     "text": [
      "<class 'pandas.core.frame.DataFrame'>\n",
      "Int64Index: 1017762 entries, 0 to 1017761\n",
      "Data columns (total 11 columns):\n",
      " #   Column                     Non-Null Count    Dtype\n",
      "---  ------                     --------------    -----\n",
      " 0   Store                      1017762 non-null  int64\n",
      " 1   DayOfWeek                  1017762 non-null  int64\n",
      " 2   Open                       1017762 non-null  int64\n",
      " 3   Promo                      1017762 non-null  int64\n",
      " 4   SchoolHoliday              1017762 non-null  int64\n",
      " 5   CompetitionDistance        1017762 non-null  int32\n",
      " 6   CompetitionOpenSinceMonth  1017762 non-null  int32\n",
      " 7   Promo2                     1017762 non-null  int32\n",
      " 8   Promo2SinceWeek            1017762 non-null  int32\n",
      " 9   Day                        1017762 non-null  int64\n",
      " 10  Month                      1017762 non-null  int64\n",
      "dtypes: int32(4), int64(7)\n",
      "memory usage: 77.6 MB\n"
     ]
    }
   ],
   "source": [
    "vif_reduce.info()"
   ]
  },
  {
   "cell_type": "code",
   "execution_count": 628,
   "metadata": {},
   "outputs": [],
   "source": [
    "from statsmodels.stats.outliers_influence import variance_inflation_factor\n",
    "\n",
    "vif_data = pd.DataFrame()\n",
    "vif_data[\"features\"] = vif_reduce.columns\n",
    "\n",
    "vif_data[\"VIF\"] = [variance_inflation_factor(vif_reduce.values, i)\n",
    "                        for i in range(len(vif_reduce.columns))]"
   ]
  },
  {
   "cell_type": "code",
   "execution_count": 629,
   "metadata": {},
   "outputs": [
    {
     "data": {
      "text/html": [
       "<div>\n",
       "<style scoped>\n",
       "    .dataframe tbody tr th:only-of-type {\n",
       "        vertical-align: middle;\n",
       "    }\n",
       "\n",
       "    .dataframe tbody tr th {\n",
       "        vertical-align: top;\n",
       "    }\n",
       "\n",
       "    .dataframe thead th {\n",
       "        text-align: right;\n",
       "    }\n",
       "</style>\n",
       "<table border=\"1\" class=\"dataframe\">\n",
       "  <thead>\n",
       "    <tr style=\"text-align: right;\">\n",
       "      <th></th>\n",
       "      <th>features</th>\n",
       "      <th>VIF</th>\n",
       "    </tr>\n",
       "  </thead>\n",
       "  <tbody>\n",
       "    <tr>\n",
       "      <th>0</th>\n",
       "      <td>Store</td>\n",
       "      <td>3.715112</td>\n",
       "    </tr>\n",
       "    <tr>\n",
       "      <th>1</th>\n",
       "      <td>DayOfWeek</td>\n",
       "      <td>5.026624</td>\n",
       "    </tr>\n",
       "    <tr>\n",
       "      <th>2</th>\n",
       "      <td>Open</td>\n",
       "      <td>6.043532</td>\n",
       "    </tr>\n",
       "    <tr>\n",
       "      <th>3</th>\n",
       "      <td>Promo</td>\n",
       "      <td>1.864973</td>\n",
       "    </tr>\n",
       "    <tr>\n",
       "      <th>4</th>\n",
       "      <td>SchoolHoliday</td>\n",
       "      <td>1.265967</td>\n",
       "    </tr>\n",
       "    <tr>\n",
       "      <th>5</th>\n",
       "      <td>CompetitionDistance</td>\n",
       "      <td>1.495068</td>\n",
       "    </tr>\n",
       "    <tr>\n",
       "      <th>6</th>\n",
       "      <td>CompetitionOpenSinceMonth</td>\n",
       "      <td>5.939049</td>\n",
       "    </tr>\n",
       "    <tr>\n",
       "      <th>7</th>\n",
       "      <td>Promo2</td>\n",
       "      <td>1.989010</td>\n",
       "    </tr>\n",
       "    <tr>\n",
       "      <th>8</th>\n",
       "      <td>Promo2SinceWeek</td>\n",
       "      <td>4.827428</td>\n",
       "    </tr>\n",
       "    <tr>\n",
       "      <th>9</th>\n",
       "      <td>Day</td>\n",
       "      <td>3.678298</td>\n",
       "    </tr>\n",
       "    <tr>\n",
       "      <th>10</th>\n",
       "      <td>Month</td>\n",
       "      <td>4.033185</td>\n",
       "    </tr>\n",
       "  </tbody>\n",
       "</table>\n",
       "</div>"
      ],
      "text/plain": [
       "                     features       VIF\n",
       "0                       Store  3.715112\n",
       "1                   DayOfWeek  5.026624\n",
       "2                        Open  6.043532\n",
       "3                       Promo  1.864973\n",
       "4               SchoolHoliday  1.265967\n",
       "5         CompetitionDistance  1.495068\n",
       "6   CompetitionOpenSinceMonth  5.939049\n",
       "7                      Promo2  1.989010\n",
       "8             Promo2SinceWeek  4.827428\n",
       "9                         Day  3.678298\n",
       "10                      Month  4.033185"
      ]
     },
     "execution_count": 629,
     "metadata": {},
     "output_type": "execute_result"
    }
   ],
   "source": [
    "vif_data"
   ]
  },
  {
   "cell_type": "code",
   "execution_count": 630,
   "metadata": {},
   "outputs": [
    {
     "data": {
      "text/plain": [
       "<AxesSubplot:xlabel='VIF', ylabel='features'>"
      ]
     },
     "execution_count": 630,
     "metadata": {},
     "output_type": "execute_result"
    },
    {
     "data": {
      "image/png": "[encoded data removed]",
      "text/plain": [
       "<Figure size 648x1080 with 1 Axes>"
      ]
     },
     "metadata": {
      "needs_background": "light"
     },
     "output_type": "display_data"
    }
   ],
   "source": [
    "fig_dims = (9, 15)\n",
    "fig, ax = plt.subplots(figsize=fig_dims)\n",
    "sns.barplot(x=\"VIF\", y=\"features\", data=vif_data)"
   ]
  },
  {
   "cell_type": "code",
   "execution_count": 631,
   "metadata": {},
   "outputs": [],
   "source": [
    "vif_reduce = vif_reduce.drop(['CompetitionOpenSinceMonth'], axis = 1)"
   ]
  },
  {
   "cell_type": "code",
   "execution_count": 632,
   "metadata": {},
   "outputs": [
    {
     "name": "stdout",
     "output_type": "stream",
     "text": [
      "<class 'pandas.core.frame.DataFrame'>\n",
      "Int64Index: 1017762 entries, 0 to 1017761\n",
      "Data columns (total 10 columns):\n",
      " #   Column               Non-Null Count    Dtype\n",
      "---  ------               --------------    -----\n",
      " 0   Store                1017762 non-null  int64\n",
      " 1   DayOfWeek            1017762 non-null  int64\n",
      " 2   Open                 1017762 non-null  int64\n",
      " 3   Promo                1017762 non-null  int64\n",
      " 4   SchoolHoliday        1017762 non-null  int64\n",
      " 5   CompetitionDistance  1017762 non-null  int32\n",
      " 6   Promo2               1017762 non-null  int32\n",
      " 7   Promo2SinceWeek      1017762 non-null  int32\n",
      " 8   Day                  1017762 non-null  int64\n",
      " 9   Month                1017762 non-null  int64\n",
      "dtypes: int32(3), int64(7)\n",
      "memory usage: 73.8 MB\n"
     ]
    }
   ],
   "source": [
    "vif_reduce.info()"
   ]
  },
  {
   "cell_type": "code",
   "execution_count": 633,
   "metadata": {},
   "outputs": [],
   "source": [
    "from statsmodels.stats.outliers_influence import variance_inflation_factor\n",
    "\n",
    "vif_data = pd.DataFrame()\n",
    "vif_data[\"features\"] = vif_reduce.columns\n",
    "\n",
    "vif_data[\"VIF\"] = [variance_inflation_factor(vif_reduce.values, i)\n",
    "                        for i in range(len(vif_reduce.columns))]"
   ]
  },
  {
   "cell_type": "code",
   "execution_count": 634,
   "metadata": {},
   "outputs": [
    {
     "data": {
      "text/html": [
       "<div>\n",
       "<style scoped>\n",
       "    .dataframe tbody tr th:only-of-type {\n",
       "        vertical-align: middle;\n",
       "    }\n",
       "\n",
       "    .dataframe tbody tr th {\n",
       "        vertical-align: top;\n",
       "    }\n",
       "\n",
       "    .dataframe thead th {\n",
       "        text-align: right;\n",
       "    }\n",
       "</style>\n",
       "<table border=\"1\" class=\"dataframe\">\n",
       "  <thead>\n",
       "    <tr style=\"text-align: right;\">\n",
       "      <th></th>\n",
       "      <th>features</th>\n",
       "      <th>VIF</th>\n",
       "    </tr>\n",
       "  </thead>\n",
       "  <tbody>\n",
       "    <tr>\n",
       "      <th>0</th>\n",
       "      <td>Store</td>\n",
       "      <td>3.694936</td>\n",
       "    </tr>\n",
       "    <tr>\n",
       "      <th>1</th>\n",
       "      <td>DayOfWeek</td>\n",
       "      <td>4.451658</td>\n",
       "    </tr>\n",
       "    <tr>\n",
       "      <th>2</th>\n",
       "      <td>Open</td>\n",
       "      <td>5.584189</td>\n",
       "    </tr>\n",
       "    <tr>\n",
       "      <th>3</th>\n",
       "      <td>Promo</td>\n",
       "      <td>1.840463</td>\n",
       "    </tr>\n",
       "    <tr>\n",
       "      <th>4</th>\n",
       "      <td>SchoolHoliday</td>\n",
       "      <td>1.262461</td>\n",
       "    </tr>\n",
       "    <tr>\n",
       "      <th>5</th>\n",
       "      <td>CompetitionDistance</td>\n",
       "      <td>1.495067</td>\n",
       "    </tr>\n",
       "    <tr>\n",
       "      <th>6</th>\n",
       "      <td>Promo2</td>\n",
       "      <td>1.985250</td>\n",
       "    </tr>\n",
       "    <tr>\n",
       "      <th>7</th>\n",
       "      <td>Promo2SinceWeek</td>\n",
       "      <td>4.794910</td>\n",
       "    </tr>\n",
       "    <tr>\n",
       "      <th>8</th>\n",
       "      <td>Day</td>\n",
       "      <td>3.620554</td>\n",
       "    </tr>\n",
       "    <tr>\n",
       "      <th>9</th>\n",
       "      <td>Month</td>\n",
       "      <td>3.958976</td>\n",
       "    </tr>\n",
       "  </tbody>\n",
       "</table>\n",
       "</div>"
      ],
      "text/plain": [
       "              features       VIF\n",
       "0                Store  3.694936\n",
       "1            DayOfWeek  4.451658\n",
       "2                 Open  5.584189\n",
       "3                Promo  1.840463\n",
       "4        SchoolHoliday  1.262461\n",
       "5  CompetitionDistance  1.495067\n",
       "6               Promo2  1.985250\n",
       "7      Promo2SinceWeek  4.794910\n",
       "8                  Day  3.620554\n",
       "9                Month  3.958976"
      ]
     },
     "execution_count": 634,
     "metadata": {},
     "output_type": "execute_result"
    }
   ],
   "source": [
    "vif_data"
   ]
  },
  {
   "cell_type": "code",
   "execution_count": 635,
   "metadata": {},
   "outputs": [
    {
     "data": {
      "text/plain": [
       "<AxesSubplot:xlabel='VIF', ylabel='features'>"
      ]
     },
     "execution_count": 635,
     "metadata": {},
     "output_type": "execute_result"
    },
    {
     "data": {
      "image/png": "[encoded data removed]",
      "text/plain": [
       "<Figure size 648x1080 with 1 Axes>"
      ]
     },
     "metadata": {
      "needs_background": "light"
     },
     "output_type": "display_data"
    }
   ],
   "source": [
    "fig_dims = (9, 15)\n",
    "fig, ax = plt.subplots(figsize=fig_dims)\n",
    "sns.barplot(x=\"VIF\", y=\"features\", data=vif_data)"
   ]
  },
  {
   "cell_type": "code",
   "execution_count": 636,
   "metadata": {},
   "outputs": [],
   "source": [
    "vif_reduce = vif_reduce.drop(['Open'], axis = 1)"
   ]
  },
  {
   "cell_type": "code",
   "execution_count": 637,
   "metadata": {},
   "outputs": [
    {
     "name": "stdout",
     "output_type": "stream",
     "text": [
      "<class 'pandas.core.frame.DataFrame'>\n",
      "Int64Index: 1017762 entries, 0 to 1017761\n",
      "Data columns (total 9 columns):\n",
      " #   Column               Non-Null Count    Dtype\n",
      "---  ------               --------------    -----\n",
      " 0   Store                1017762 non-null  int64\n",
      " 1   DayOfWeek            1017762 non-null  int64\n",
      " 2   Promo                1017762 non-null  int64\n",
      " 3   SchoolHoliday        1017762 non-null  int64\n",
      " 4   CompetitionDistance  1017762 non-null  int32\n",
      " 5   Promo2               1017762 non-null  int32\n",
      " 6   Promo2SinceWeek      1017762 non-null  int32\n",
      " 7   Day                  1017762 non-null  int64\n",
      " 8   Month                1017762 non-null  int64\n",
      "dtypes: int32(3), int64(6)\n",
      "memory usage: 66.0 MB\n"
     ]
    }
   ],
   "source": [
    "vif_reduce.info()"
   ]
  },
  {
   "cell_type": "code",
   "execution_count": 638,
   "metadata": {},
   "outputs": [],
   "source": [
    "from statsmodels.stats.outliers_influence import variance_inflation_factor\n",
    "\n",
    "vif_data = pd.DataFrame()\n",
    "vif_data[\"features\"] = vif_reduce.columns\n",
    "\n",
    "vif_data[\"VIF\"] = [variance_inflation_factor(vif_reduce.values, i)\n",
    "                        for i in range(len(vif_reduce.columns))]"
   ]
  },
  {
   "cell_type": "code",
   "execution_count": 639,
   "metadata": {},
   "outputs": [
    {
     "data": {
      "text/html": [
       "<div>\n",
       "<style scoped>\n",
       "    .dataframe tbody tr th:only-of-type {\n",
       "        vertical-align: middle;\n",
       "    }\n",
       "\n",
       "    .dataframe tbody tr th {\n",
       "        vertical-align: top;\n",
       "    }\n",
       "\n",
       "    .dataframe thead th {\n",
       "        text-align: right;\n",
       "    }\n",
       "</style>\n",
       "<table border=\"1\" class=\"dataframe\">\n",
       "  <thead>\n",
       "    <tr style=\"text-align: right;\">\n",
       "      <th></th>\n",
       "      <th>features</th>\n",
       "      <th>VIF</th>\n",
       "    </tr>\n",
       "  </thead>\n",
       "  <tbody>\n",
       "    <tr>\n",
       "      <th>0</th>\n",
       "      <td>Store</td>\n",
       "      <td>3.543462</td>\n",
       "    </tr>\n",
       "    <tr>\n",
       "      <th>1</th>\n",
       "      <td>DayOfWeek</td>\n",
       "      <td>4.358540</td>\n",
       "    </tr>\n",
       "    <tr>\n",
       "      <th>2</th>\n",
       "      <td>Promo</td>\n",
       "      <td>1.615421</td>\n",
       "    </tr>\n",
       "    <tr>\n",
       "      <th>3</th>\n",
       "      <td>SchoolHoliday</td>\n",
       "      <td>1.259057</td>\n",
       "    </tr>\n",
       "    <tr>\n",
       "      <th>4</th>\n",
       "      <td>CompetitionDistance</td>\n",
       "      <td>1.475424</td>\n",
       "    </tr>\n",
       "    <tr>\n",
       "      <th>5</th>\n",
       "      <td>Promo2</td>\n",
       "      <td>1.958005</td>\n",
       "    </tr>\n",
       "    <tr>\n",
       "      <th>6</th>\n",
       "      <td>Promo2SinceWeek</td>\n",
       "      <td>4.497930</td>\n",
       "    </tr>\n",
       "    <tr>\n",
       "      <th>7</th>\n",
       "      <td>Day</td>\n",
       "      <td>3.360732</td>\n",
       "    </tr>\n",
       "    <tr>\n",
       "      <th>8</th>\n",
       "      <td>Month</td>\n",
       "      <td>3.593811</td>\n",
       "    </tr>\n",
       "  </tbody>\n",
       "</table>\n",
       "</div>"
      ],
      "text/plain": [
       "              features       VIF\n",
       "0                Store  3.543462\n",
       "1            DayOfWeek  4.358540\n",
       "2                Promo  1.615421\n",
       "3        SchoolHoliday  1.259057\n",
       "4  CompetitionDistance  1.475424\n",
       "5               Promo2  1.958005\n",
       "6      Promo2SinceWeek  4.497930\n",
       "7                  Day  3.360732\n",
       "8                Month  3.593811"
      ]
     },
     "execution_count": 639,
     "metadata": {},
     "output_type": "execute_result"
    }
   ],
   "source": [
    "vif_data"
   ]
  },
  {
   "cell_type": "code",
   "execution_count": 640,
   "metadata": {},
   "outputs": [
    {
     "data": {
      "text/plain": [
       "<AxesSubplot:xlabel='VIF', ylabel='features'>"
      ]
     },
     "execution_count": 640,
     "metadata": {},
     "output_type": "execute_result"
    },
    {
     "data": {
      "image/png": "[encoded data removed]",
      "text/plain": [
       "<Figure size 648x1080 with 1 Axes>"
      ]
     },
     "metadata": {
      "needs_background": "light"
     },
     "output_type": "display_data"
    }
   ],
   "source": [
    "fig_dims = (9, 15)\n",
    "fig, ax = plt.subplots(figsize=fig_dims)\n",
    "sns.barplot(x=\"VIF\", y=\"features\", data=vif_data)"
   ]
  },
  {
   "cell_type": "markdown",
   "metadata": {},
   "source": [
    "#####  So to conclude from conducting VIF we have identified that: \"CompetitionOpenSinceYear\",CompetitionOpenSinceMonth\",\"Promo2SinceYear\",\"Year\" , \"Open\", \"Sales\" and \"Customers\" produce high Multicollinearity. \n",
    "\n",
    "Therefore we will remove them from further analysis. Additionally, as Sales and customers are our predictor variabels and there is not much difference betwene the two variables. Therefore, we will keep Sales and remove Customers from further analysis.  \n",
    "\n",
    "*****NOTE*****\n",
    "We have excluded categorical variables from VIF feature selection process, as these features will naturally exhibit high multicollinarity. \n",
    "\n",
    "From test below, it shows that the categoric variable have  multicillinarity score of inf(Infinity)"
   ]
  },
  {
   "cell_type": "code",
   "execution_count": 641,
   "metadata": {},
   "outputs": [],
   "source": [
    "corr_check = second_df[['StateHoliday','StoreType','Assortment','PromoInterval']]"
   ]
  },
  {
   "cell_type": "code",
   "execution_count": 642,
   "metadata": {},
   "outputs": [
    {
     "data": {
      "text/html": [
       "<div>\n",
       "<style scoped>\n",
       "    .dataframe tbody tr th:only-of-type {\n",
       "        vertical-align: middle;\n",
       "    }\n",
       "\n",
       "    .dataframe tbody tr th {\n",
       "        vertical-align: top;\n",
       "    }\n",
       "\n",
       "    .dataframe thead th {\n",
       "        text-align: right;\n",
       "    }\n",
       "</style>\n",
       "<table border=\"1\" class=\"dataframe\">\n",
       "  <thead>\n",
       "    <tr style=\"text-align: right;\">\n",
       "      <th></th>\n",
       "      <th>StateHoliday</th>\n",
       "      <th>StoreType</th>\n",
       "      <th>Assortment</th>\n",
       "      <th>PromoInterval</th>\n",
       "    </tr>\n",
       "  </thead>\n",
       "  <tbody>\n",
       "    <tr>\n",
       "      <th>0</th>\n",
       "      <td>0</td>\n",
       "      <td>c</td>\n",
       "      <td>a</td>\n",
       "      <td>Feb,May,Aug,Nov</td>\n",
       "    </tr>\n",
       "    <tr>\n",
       "      <th>1</th>\n",
       "      <td>0</td>\n",
       "      <td>c</td>\n",
       "      <td>a</td>\n",
       "      <td>Feb,May,Aug,Nov</td>\n",
       "    </tr>\n",
       "    <tr>\n",
       "      <th>2</th>\n",
       "      <td>0</td>\n",
       "      <td>c</td>\n",
       "      <td>a</td>\n",
       "      <td>Feb,May,Aug,Nov</td>\n",
       "    </tr>\n",
       "    <tr>\n",
       "      <th>3</th>\n",
       "      <td>0</td>\n",
       "      <td>c</td>\n",
       "      <td>a</td>\n",
       "      <td>Feb,May,Aug,Nov</td>\n",
       "    </tr>\n",
       "    <tr>\n",
       "      <th>4</th>\n",
       "      <td>0</td>\n",
       "      <td>c</td>\n",
       "      <td>a</td>\n",
       "      <td>Feb,May,Aug,Nov</td>\n",
       "    </tr>\n",
       "  </tbody>\n",
       "</table>\n",
       "</div>"
      ],
      "text/plain": [
       "  StateHoliday StoreType Assortment    PromoInterval\n",
       "0            0         c          a  Feb,May,Aug,Nov\n",
       "1            0         c          a  Feb,May,Aug,Nov\n",
       "2            0         c          a  Feb,May,Aug,Nov\n",
       "3            0         c          a  Feb,May,Aug,Nov\n",
       "4            0         c          a  Feb,May,Aug,Nov"
      ]
     },
     "execution_count": 642,
     "metadata": {},
     "output_type": "execute_result"
    }
   ],
   "source": [
    "corr_check.head()"
   ]
  },
  {
   "cell_type": "code",
   "execution_count": 643,
   "metadata": {},
   "outputs": [],
   "source": [
    "corr_check1 = pd.get_dummies(corr_check, columns=[\"StateHoliday\", \"StoreType\",\"Assortment\", \"PromoInterval\"])\n"
   ]
  },
  {
   "cell_type": "code",
   "execution_count": 644,
   "metadata": {},
   "outputs": [
    {
     "data": {
      "text/html": [
       "<div>\n",
       "<style scoped>\n",
       "    .dataframe tbody tr th:only-of-type {\n",
       "        vertical-align: middle;\n",
       "    }\n",
       "\n",
       "    .dataframe tbody tr th {\n",
       "        vertical-align: top;\n",
       "    }\n",
       "\n",
       "    .dataframe thead th {\n",
       "        text-align: right;\n",
       "    }\n",
       "</style>\n",
       "<table border=\"1\" class=\"dataframe\">\n",
       "  <thead>\n",
       "    <tr style=\"text-align: right;\">\n",
       "      <th></th>\n",
       "      <th>StateHoliday_0</th>\n",
       "      <th>StateHoliday_0</th>\n",
       "      <th>StateHoliday_a</th>\n",
       "      <th>StateHoliday_b</th>\n",
       "      <th>StateHoliday_c</th>\n",
       "      <th>StoreType_a</th>\n",
       "      <th>StoreType_b</th>\n",
       "      <th>StoreType_c</th>\n",
       "      <th>StoreType_d</th>\n",
       "      <th>Assortment_a</th>\n",
       "      <th>Assortment_b</th>\n",
       "      <th>Assortment_c</th>\n",
       "      <th>PromoInterval_Feb,May,Aug,Nov</th>\n",
       "      <th>PromoInterval_Jan,Apr,Jul,Oct</th>\n",
       "      <th>PromoInterval_Mar,Jun,Sept,Dec</th>\n",
       "    </tr>\n",
       "  </thead>\n",
       "  <tbody>\n",
       "    <tr>\n",
       "      <th>0</th>\n",
       "      <td>0</td>\n",
       "      <td>1</td>\n",
       "      <td>0</td>\n",
       "      <td>0</td>\n",
       "      <td>0</td>\n",
       "      <td>0</td>\n",
       "      <td>0</td>\n",
       "      <td>1</td>\n",
       "      <td>0</td>\n",
       "      <td>1</td>\n",
       "      <td>0</td>\n",
       "      <td>0</td>\n",
       "      <td>1</td>\n",
       "      <td>0</td>\n",
       "      <td>0</td>\n",
       "    </tr>\n",
       "    <tr>\n",
       "      <th>1</th>\n",
       "      <td>0</td>\n",
       "      <td>1</td>\n",
       "      <td>0</td>\n",
       "      <td>0</td>\n",
       "      <td>0</td>\n",
       "      <td>0</td>\n",
       "      <td>0</td>\n",
       "      <td>1</td>\n",
       "      <td>0</td>\n",
       "      <td>1</td>\n",
       "      <td>0</td>\n",
       "      <td>0</td>\n",
       "      <td>1</td>\n",
       "      <td>0</td>\n",
       "      <td>0</td>\n",
       "    </tr>\n",
       "    <tr>\n",
       "      <th>2</th>\n",
       "      <td>0</td>\n",
       "      <td>1</td>\n",
       "      <td>0</td>\n",
       "      <td>0</td>\n",
       "      <td>0</td>\n",
       "      <td>0</td>\n",
       "      <td>0</td>\n",
       "      <td>1</td>\n",
       "      <td>0</td>\n",
       "      <td>1</td>\n",
       "      <td>0</td>\n",
       "      <td>0</td>\n",
       "      <td>1</td>\n",
       "      <td>0</td>\n",
       "      <td>0</td>\n",
       "    </tr>\n",
       "    <tr>\n",
       "      <th>3</th>\n",
       "      <td>0</td>\n",
       "      <td>1</td>\n",
       "      <td>0</td>\n",
       "      <td>0</td>\n",
       "      <td>0</td>\n",
       "      <td>0</td>\n",
       "      <td>0</td>\n",
       "      <td>1</td>\n",
       "      <td>0</td>\n",
       "      <td>1</td>\n",
       "      <td>0</td>\n",
       "      <td>0</td>\n",
       "      <td>1</td>\n",
       "      <td>0</td>\n",
       "      <td>0</td>\n",
       "    </tr>\n",
       "    <tr>\n",
       "      <th>4</th>\n",
       "      <td>0</td>\n",
       "      <td>1</td>\n",
       "      <td>0</td>\n",
       "      <td>0</td>\n",
       "      <td>0</td>\n",
       "      <td>0</td>\n",
       "      <td>0</td>\n",
       "      <td>1</td>\n",
       "      <td>0</td>\n",
       "      <td>1</td>\n",
       "      <td>0</td>\n",
       "      <td>0</td>\n",
       "      <td>1</td>\n",
       "      <td>0</td>\n",
       "      <td>0</td>\n",
       "    </tr>\n",
       "  </tbody>\n",
       "</table>\n",
       "</div>"
      ],
      "text/plain": [
       "   StateHoliday_0  StateHoliday_0  StateHoliday_a  StateHoliday_b  \\\n",
       "0               0               1               0               0   \n",
       "1               0               1               0               0   \n",
       "2               0               1               0               0   \n",
       "3               0               1               0               0   \n",
       "4               0               1               0               0   \n",
       "\n",
       "   StateHoliday_c  StoreType_a  StoreType_b  StoreType_c  StoreType_d  \\\n",
       "0               0            0            0            1            0   \n",
       "1               0            0            0            1            0   \n",
       "2               0            0            0            1            0   \n",
       "3               0            0            0            1            0   \n",
       "4               0            0            0            1            0   \n",
       "\n",
       "   Assortment_a  Assortment_b  Assortment_c  PromoInterval_Feb,May,Aug,Nov  \\\n",
       "0             1             0             0                              1   \n",
       "1             1             0             0                              1   \n",
       "2             1             0             0                              1   \n",
       "3             1             0             0                              1   \n",
       "4             1             0             0                              1   \n",
       "\n",
       "   PromoInterval_Jan,Apr,Jul,Oct  PromoInterval_Mar,Jun,Sept,Dec  \n",
       "0                              0                               0  \n",
       "1                              0                               0  \n",
       "2                              0                               0  \n",
       "3                              0                               0  \n",
       "4                              0                               0  "
      ]
     },
     "execution_count": 644,
     "metadata": {},
     "output_type": "execute_result"
    }
   ],
   "source": [
    "corr_check1.head()"
   ]
  },
  {
   "cell_type": "code",
   "execution_count": 645,
   "metadata": {},
   "outputs": [
    {
     "data": {
      "text/html": [
       "<div>\n",
       "<style scoped>\n",
       "    .dataframe tbody tr th:only-of-type {\n",
       "        vertical-align: middle;\n",
       "    }\n",
       "\n",
       "    .dataframe tbody tr th {\n",
       "        vertical-align: top;\n",
       "    }\n",
       "\n",
       "    .dataframe thead th {\n",
       "        text-align: right;\n",
       "    }\n",
       "</style>\n",
       "<table border=\"1\" class=\"dataframe\">\n",
       "  <thead>\n",
       "    <tr style=\"text-align: right;\">\n",
       "      <th></th>\n",
       "      <th>StateHoliday_0</th>\n",
       "      <th>StateHoliday_0</th>\n",
       "      <th>StateHoliday_a</th>\n",
       "      <th>StateHoliday_b</th>\n",
       "      <th>StateHoliday_c</th>\n",
       "      <th>StoreType_a</th>\n",
       "      <th>StoreType_b</th>\n",
       "      <th>StoreType_c</th>\n",
       "      <th>StoreType_d</th>\n",
       "      <th>Assortment_a</th>\n",
       "      <th>Assortment_b</th>\n",
       "      <th>Assortment_c</th>\n",
       "      <th>PromoInterval_Feb,May,Aug,Nov</th>\n",
       "      <th>PromoInterval_Jan,Apr,Jul,Oct</th>\n",
       "      <th>PromoInterval_Mar,Jun,Sept,Dec</th>\n",
       "    </tr>\n",
       "  </thead>\n",
       "  <tbody>\n",
       "    <tr>\n",
       "      <th>StateHoliday_0</th>\n",
       "      <td>1.000000</td>\n",
       "      <td>-0.883371</td>\n",
       "      <td>-0.054850</td>\n",
       "      <td>-0.031304</td>\n",
       "      <td>-0.024493</td>\n",
       "      <td>0.003935</td>\n",
       "      <td>0.001944</td>\n",
       "      <td>0.002917</td>\n",
       "      <td>-0.006921</td>\n",
       "      <td>-0.004666</td>\n",
       "      <td>0.000722</td>\n",
       "      <td>0.004541</td>\n",
       "      <td>0.008257</td>\n",
       "      <td>-0.008896</td>\n",
       "      <td>0.001817</td>\n",
       "    </tr>\n",
       "    <tr>\n",
       "      <th>StateHoliday_0</th>\n",
       "      <td>-0.883371</td>\n",
       "      <td>1.000000</td>\n",
       "      <td>-0.327173</td>\n",
       "      <td>-0.186721</td>\n",
       "      <td>-0.146095</td>\n",
       "      <td>-0.002749</td>\n",
       "      <td>-0.001343</td>\n",
       "      <td>-0.002097</td>\n",
       "      <td>0.004875</td>\n",
       "      <td>0.003042</td>\n",
       "      <td>-0.000896</td>\n",
       "      <td>-0.002883</td>\n",
       "      <td>-0.006867</td>\n",
       "      <td>0.007477</td>\n",
       "      <td>-0.001642</td>\n",
       "    </tr>\n",
       "    <tr>\n",
       "      <th>StateHoliday_a</th>\n",
       "      <td>-0.054850</td>\n",
       "      <td>-0.327173</td>\n",
       "      <td>1.000000</td>\n",
       "      <td>-0.011594</td>\n",
       "      <td>-0.009071</td>\n",
       "      <td>-0.002246</td>\n",
       "      <td>-0.001147</td>\n",
       "      <td>-0.001511</td>\n",
       "      <td>0.003847</td>\n",
       "      <td>0.003235</td>\n",
       "      <td>0.000615</td>\n",
       "      <td>-0.003350</td>\n",
       "      <td>-0.001834</td>\n",
       "      <td>0.001770</td>\n",
       "      <td>-0.000059</td>\n",
       "    </tr>\n",
       "    <tr>\n",
       "      <th>StateHoliday_b</th>\n",
       "      <td>-0.031304</td>\n",
       "      <td>-0.186721</td>\n",
       "      <td>-0.011594</td>\n",
       "      <td>1.000000</td>\n",
       "      <td>-0.005177</td>\n",
       "      <td>-0.000430</td>\n",
       "      <td>-0.000202</td>\n",
       "      <td>-0.000323</td>\n",
       "      <td>0.000757</td>\n",
       "      <td>0.000497</td>\n",
       "      <td>-0.000070</td>\n",
       "      <td>-0.000485</td>\n",
       "      <td>-0.000901</td>\n",
       "      <td>0.000967</td>\n",
       "      <td>-0.000191</td>\n",
       "    </tr>\n",
       "    <tr>\n",
       "      <th>StateHoliday_c</th>\n",
       "      <td>-0.024493</td>\n",
       "      <td>-0.146095</td>\n",
       "      <td>-0.009071</td>\n",
       "      <td>-0.005177</td>\n",
       "      <td>1.000000</td>\n",
       "      <td>0.000570</td>\n",
       "      <td>0.000268</td>\n",
       "      <td>0.000429</td>\n",
       "      <td>-0.001003</td>\n",
       "      <td>-0.000659</td>\n",
       "      <td>0.000093</td>\n",
       "      <td>0.000643</td>\n",
       "      <td>0.001195</td>\n",
       "      <td>-0.001281</td>\n",
       "      <td>0.000254</td>\n",
       "    </tr>\n",
       "    <tr>\n",
       "      <th>StoreType_a</th>\n",
       "      <td>0.003935</td>\n",
       "      <td>-0.002749</td>\n",
       "      <td>-0.002246</td>\n",
       "      <td>-0.000430</td>\n",
       "      <td>0.000570</td>\n",
       "      <td>1.000000</td>\n",
       "      <td>-0.136887</td>\n",
       "      <td>-0.428553</td>\n",
       "      <td>-0.726229</td>\n",
       "      <td>0.216403</td>\n",
       "      <td>-0.098714</td>\n",
       "      <td>-0.198837</td>\n",
       "      <td>0.089410</td>\n",
       "      <td>-0.044908</td>\n",
       "      <td>-0.066436</td>\n",
       "    </tr>\n",
       "    <tr>\n",
       "      <th>StoreType_b</th>\n",
       "      <td>0.001944</td>\n",
       "      <td>-0.001343</td>\n",
       "      <td>-0.001147</td>\n",
       "      <td>-0.000202</td>\n",
       "      <td>0.000268</td>\n",
       "      <td>-0.136887</td>\n",
       "      <td>1.000000</td>\n",
       "      <td>-0.049463</td>\n",
       "      <td>-0.083821</td>\n",
       "      <td>-0.028263</td>\n",
       "      <td>0.721131</td>\n",
       "      <td>-0.101728</td>\n",
       "      <td>-0.037900</td>\n",
       "      <td>0.048069</td>\n",
       "      <td>-0.020450</td>\n",
       "    </tr>\n",
       "    <tr>\n",
       "      <th>StoreType_c</th>\n",
       "      <td>0.002917</td>\n",
       "      <td>-0.002097</td>\n",
       "      <td>-0.001511</td>\n",
       "      <td>-0.000323</td>\n",
       "      <td>0.000429</td>\n",
       "      <td>-0.428553</td>\n",
       "      <td>-0.049463</td>\n",
       "      <td>1.000000</td>\n",
       "      <td>-0.262418</td>\n",
       "      <td>-0.008497</td>\n",
       "      <td>-0.035670</td>\n",
       "      <td>0.014938</td>\n",
       "      <td>-0.120133</td>\n",
       "      <td>0.075438</td>\n",
       "      <td>0.063984</td>\n",
       "    </tr>\n",
       "    <tr>\n",
       "      <th>StoreType_d</th>\n",
       "      <td>-0.006921</td>\n",
       "      <td>0.004875</td>\n",
       "      <td>0.003847</td>\n",
       "      <td>0.000757</td>\n",
       "      <td>-0.001003</td>\n",
       "      <td>-0.726229</td>\n",
       "      <td>-0.083821</td>\n",
       "      <td>-0.262418</td>\n",
       "      <td>1.000000</td>\n",
       "      <td>-0.219712</td>\n",
       "      <td>-0.060446</td>\n",
       "      <td>0.230847</td>\n",
       "      <td>0.002345</td>\n",
       "      <td>-0.020107</td>\n",
       "      <td>0.029952</td>\n",
       "    </tr>\n",
       "    <tr>\n",
       "      <th>Assortment_a</th>\n",
       "      <td>-0.004666</td>\n",
       "      <td>0.003042</td>\n",
       "      <td>0.003235</td>\n",
       "      <td>0.000497</td>\n",
       "      <td>-0.000659</td>\n",
       "      <td>0.216403</td>\n",
       "      <td>-0.028263</td>\n",
       "      <td>-0.008497</td>\n",
       "      <td>-0.219712</td>\n",
       "      <td>1.000000</td>\n",
       "      <td>-0.096022</td>\n",
       "      <td>-0.983764</td>\n",
       "      <td>0.081118</td>\n",
       "      <td>-0.027531</td>\n",
       "      <td>-0.082396</td>\n",
       "    </tr>\n",
       "    <tr>\n",
       "      <th>Assortment_b</th>\n",
       "      <td>0.000722</td>\n",
       "      <td>-0.000896</td>\n",
       "      <td>0.000615</td>\n",
       "      <td>-0.000070</td>\n",
       "      <td>0.000093</td>\n",
       "      <td>-0.098714</td>\n",
       "      <td>0.721131</td>\n",
       "      <td>-0.035670</td>\n",
       "      <td>-0.060446</td>\n",
       "      <td>-0.096022</td>\n",
       "      <td>1.000000</td>\n",
       "      <td>-0.084177</td>\n",
       "      <td>-0.017874</td>\n",
       "      <td>0.017713</td>\n",
       "      <td>-0.001345</td>\n",
       "    </tr>\n",
       "    <tr>\n",
       "      <th>Assortment_c</th>\n",
       "      <td>0.004541</td>\n",
       "      <td>-0.002883</td>\n",
       "      <td>-0.003350</td>\n",
       "      <td>-0.000485</td>\n",
       "      <td>0.000643</td>\n",
       "      <td>-0.198837</td>\n",
       "      <td>-0.101728</td>\n",
       "      <td>0.014938</td>\n",
       "      <td>0.230847</td>\n",
       "      <td>-0.983764</td>\n",
       "      <td>-0.084177</td>\n",
       "      <td>1.000000</td>\n",
       "      <td>-0.077983</td>\n",
       "      <td>0.024367</td>\n",
       "      <td>0.082727</td>\n",
       "    </tr>\n",
       "    <tr>\n",
       "      <th>PromoInterval_Feb,May,Aug,Nov</th>\n",
       "      <td>0.008257</td>\n",
       "      <td>-0.006867</td>\n",
       "      <td>-0.001834</td>\n",
       "      <td>-0.000901</td>\n",
       "      <td>0.001195</td>\n",
       "      <td>0.089410</td>\n",
       "      <td>-0.037900</td>\n",
       "      <td>-0.120133</td>\n",
       "      <td>0.002345</td>\n",
       "      <td>0.081118</td>\n",
       "      <td>-0.017874</td>\n",
       "      <td>-0.077983</td>\n",
       "      <td>1.000000</td>\n",
       "      <td>-0.813014</td>\n",
       "      <td>-0.222759</td>\n",
       "    </tr>\n",
       "    <tr>\n",
       "      <th>PromoInterval_Jan,Apr,Jul,Oct</th>\n",
       "      <td>-0.008896</td>\n",
       "      <td>0.007477</td>\n",
       "      <td>0.001770</td>\n",
       "      <td>0.000967</td>\n",
       "      <td>-0.001281</td>\n",
       "      <td>-0.044908</td>\n",
       "      <td>0.048069</td>\n",
       "      <td>0.075438</td>\n",
       "      <td>-0.020107</td>\n",
       "      <td>-0.027531</td>\n",
       "      <td>0.017713</td>\n",
       "      <td>0.024367</td>\n",
       "      <td>-0.813014</td>\n",
       "      <td>1.000000</td>\n",
       "      <td>-0.386509</td>\n",
       "    </tr>\n",
       "    <tr>\n",
       "      <th>PromoInterval_Mar,Jun,Sept,Dec</th>\n",
       "      <td>0.001817</td>\n",
       "      <td>-0.001642</td>\n",
       "      <td>-0.000059</td>\n",
       "      <td>-0.000191</td>\n",
       "      <td>0.000254</td>\n",
       "      <td>-0.066436</td>\n",
       "      <td>-0.020450</td>\n",
       "      <td>0.063984</td>\n",
       "      <td>0.029952</td>\n",
       "      <td>-0.082396</td>\n",
       "      <td>-0.001345</td>\n",
       "      <td>0.082727</td>\n",
       "      <td>-0.222759</td>\n",
       "      <td>-0.386509</td>\n",
       "      <td>1.000000</td>\n",
       "    </tr>\n",
       "  </tbody>\n",
       "</table>\n",
       "</div>"
      ],
      "text/plain": [
       "                                StateHoliday_0  StateHoliday_0  \\\n",
       "StateHoliday_0                        1.000000       -0.883371   \n",
       "StateHoliday_0                       -0.883371        1.000000   \n",
       "StateHoliday_a                       -0.054850       -0.327173   \n",
       "StateHoliday_b                       -0.031304       -0.186721   \n",
       "StateHoliday_c                       -0.024493       -0.146095   \n",
       "StoreType_a                           0.003935       -0.002749   \n",
       "StoreType_b                           0.001944       -0.001343   \n",
       "StoreType_c                           0.002917       -0.002097   \n",
       "StoreType_d                          -0.006921        0.004875   \n",
       "Assortment_a                         -0.004666        0.003042   \n",
       "Assortment_b                          0.000722       -0.000896   \n",
       "Assortment_c                          0.004541       -0.002883   \n",
       "PromoInterval_Feb,May,Aug,Nov         0.008257       -0.006867   \n",
       "PromoInterval_Jan,Apr,Jul,Oct        -0.008896        0.007477   \n",
       "PromoInterval_Mar,Jun,Sept,Dec        0.001817       -0.001642   \n",
       "\n",
       "                                StateHoliday_a  StateHoliday_b  \\\n",
       "StateHoliday_0                       -0.054850       -0.031304   \n",
       "StateHoliday_0                       -0.327173       -0.186721   \n",
       "StateHoliday_a                        1.000000       -0.011594   \n",
       "StateHoliday_b                       -0.011594        1.000000   \n",
       "StateHoliday_c                       -0.009071       -0.005177   \n",
       "StoreType_a                          -0.002246       -0.000430   \n",
       "StoreType_b                          -0.001147       -0.000202   \n",
       "StoreType_c                          -0.001511       -0.000323   \n",
       "StoreType_d                           0.003847        0.000757   \n",
       "Assortment_a                          0.003235        0.000497   \n",
       "Assortment_b                          0.000615       -0.000070   \n",
       "Assortment_c                         -0.003350       -0.000485   \n",
       "PromoInterval_Feb,May,Aug,Nov        -0.001834       -0.000901   \n",
       "PromoInterval_Jan,Apr,Jul,Oct         0.001770        0.000967   \n",
       "PromoInterval_Mar,Jun,Sept,Dec       -0.000059       -0.000191   \n",
       "\n",
       "                                StateHoliday_c  StoreType_a  StoreType_b  \\\n",
       "StateHoliday_0                       -0.024493     0.003935     0.001944   \n",
       "StateHoliday_0                       -0.146095    -0.002749    -0.001343   \n",
       "StateHoliday_a                       -0.009071    -0.002246    -0.001147   \n",
       "StateHoliday_b                       -0.005177    -0.000430    -0.000202   \n",
       "StateHoliday_c                        1.000000     0.000570     0.000268   \n",
       "StoreType_a                           0.000570     1.000000    -0.136887   \n",
       "StoreType_b                           0.000268    -0.136887     1.000000   \n",
       "StoreType_c                           0.000429    -0.428553    -0.049463   \n",
       "StoreType_d                          -0.001003    -0.726229    -0.083821   \n",
       "Assortment_a                         -0.000659     0.216403    -0.028263   \n",
       "Assortment_b                          0.000093    -0.098714     0.721131   \n",
       "Assortment_c                          0.000643    -0.198837    -0.101728   \n",
       "PromoInterval_Feb,May,Aug,Nov         0.001195     0.089410    -0.037900   \n",
       "PromoInterval_Jan,Apr,Jul,Oct        -0.001281    -0.044908     0.048069   \n",
       "PromoInterval_Mar,Jun,Sept,Dec        0.000254    -0.066436    -0.020450   \n",
       "\n",
       "                                StoreType_c  StoreType_d  Assortment_a  \\\n",
       "StateHoliday_0                     0.002917    -0.006921     -0.004666   \n",
       "StateHoliday_0                    -0.002097     0.004875      0.003042   \n",
       "StateHoliday_a                    -0.001511     0.003847      0.003235   \n",
       "StateHoliday_b                    -0.000323     0.000757      0.000497   \n",
       "StateHoliday_c                     0.000429    -0.001003     -0.000659   \n",
       "StoreType_a                       -0.428553    -0.726229      0.216403   \n",
       "StoreType_b                       -0.049463    -0.083821     -0.028263   \n",
       "StoreType_c                        1.000000    -0.262418     -0.008497   \n",
       "StoreType_d                       -0.262418     1.000000     -0.219712   \n",
       "Assortment_a                      -0.008497    -0.219712      1.000000   \n",
       "Assortment_b                      -0.035670    -0.060446     -0.096022   \n",
       "Assortment_c                       0.014938     0.230847     -0.983764   \n",
       "PromoInterval_Feb,May,Aug,Nov     -0.120133     0.002345      0.081118   \n",
       "PromoInterval_Jan,Apr,Jul,Oct      0.075438    -0.020107     -0.027531   \n",
       "PromoInterval_Mar,Jun,Sept,Dec     0.063984     0.029952     -0.082396   \n",
       "\n",
       "                                Assortment_b  Assortment_c  \\\n",
       "StateHoliday_0                      0.000722      0.004541   \n",
       "StateHoliday_0                     -0.000896     -0.002883   \n",
       "StateHoliday_a                      0.000615     -0.003350   \n",
       "StateHoliday_b                     -0.000070     -0.000485   \n",
       "StateHoliday_c                      0.000093      0.000643   \n",
       "StoreType_a                        -0.098714     -0.198837   \n",
       "StoreType_b                         0.721131     -0.101728   \n",
       "StoreType_c                        -0.035670      0.014938   \n",
       "StoreType_d                        -0.060446      0.230847   \n",
       "Assortment_a                       -0.096022     -0.983764   \n",
       "Assortment_b                        1.000000     -0.084177   \n",
       "Assortment_c                       -0.084177      1.000000   \n",
       "PromoInterval_Feb,May,Aug,Nov      -0.017874     -0.077983   \n",
       "PromoInterval_Jan,Apr,Jul,Oct       0.017713      0.024367   \n",
       "PromoInterval_Mar,Jun,Sept,Dec     -0.001345      0.082727   \n",
       "\n",
       "                                PromoInterval_Feb,May,Aug,Nov  \\\n",
       "StateHoliday_0                                       0.008257   \n",
       "StateHoliday_0                                      -0.006867   \n",
       "StateHoliday_a                                      -0.001834   \n",
       "StateHoliday_b                                      -0.000901   \n",
       "StateHoliday_c                                       0.001195   \n",
       "StoreType_a                                          0.089410   \n",
       "StoreType_b                                         -0.037900   \n",
       "StoreType_c                                         -0.120133   \n",
       "StoreType_d                                          0.002345   \n",
       "Assortment_a                                         0.081118   \n",
       "Assortment_b                                        -0.017874   \n",
       "Assortment_c                                        -0.077983   \n",
       "PromoInterval_Feb,May,Aug,Nov                        1.000000   \n",
       "PromoInterval_Jan,Apr,Jul,Oct                       -0.813014   \n",
       "PromoInterval_Mar,Jun,Sept,Dec                      -0.222759   \n",
       "\n",
       "                                PromoInterval_Jan,Apr,Jul,Oct  \\\n",
       "StateHoliday_0                                      -0.008896   \n",
       "StateHoliday_0                                       0.007477   \n",
       "StateHoliday_a                                       0.001770   \n",
       "StateHoliday_b                                       0.000967   \n",
       "StateHoliday_c                                      -0.001281   \n",
       "StoreType_a                                         -0.044908   \n",
       "StoreType_b                                          0.048069   \n",
       "StoreType_c                                          0.075438   \n",
       "StoreType_d                                         -0.020107   \n",
       "Assortment_a                                        -0.027531   \n",
       "Assortment_b                                         0.017713   \n",
       "Assortment_c                                         0.024367   \n",
       "PromoInterval_Feb,May,Aug,Nov                       -0.813014   \n",
       "PromoInterval_Jan,Apr,Jul,Oct                        1.000000   \n",
       "PromoInterval_Mar,Jun,Sept,Dec                      -0.386509   \n",
       "\n",
       "                                PromoInterval_Mar,Jun,Sept,Dec  \n",
       "StateHoliday_0                                        0.001817  \n",
       "StateHoliday_0                                       -0.001642  \n",
       "StateHoliday_a                                       -0.000059  \n",
       "StateHoliday_b                                       -0.000191  \n",
       "StateHoliday_c                                        0.000254  \n",
       "StoreType_a                                          -0.066436  \n",
       "StoreType_b                                          -0.020450  \n",
       "StoreType_c                                           0.063984  \n",
       "StoreType_d                                           0.029952  \n",
       "Assortment_a                                         -0.082396  \n",
       "Assortment_b                                         -0.001345  \n",
       "Assortment_c                                          0.082727  \n",
       "PromoInterval_Feb,May,Aug,Nov                        -0.222759  \n",
       "PromoInterval_Jan,Apr,Jul,Oct                        -0.386509  \n",
       "PromoInterval_Mar,Jun,Sept,Dec                        1.000000  "
      ]
     },
     "execution_count": 645,
     "metadata": {},
     "output_type": "execute_result"
    }
   ],
   "source": [
    "corr_check1.corr(method=\"pearson\")"
   ]
  },
  {
   "cell_type": "code",
   "execution_count": 646,
   "metadata": {},
   "outputs": [
    {
     "data": {
      "text/plain": [
       "<AxesSubplot:>"
      ]
     },
     "execution_count": 646,
     "metadata": {},
     "output_type": "execute_result"
    },
    {
     "data": {
      "image/png": "[encoded data removed]",
      "text/plain": [
       "<Figure size 432x288 with 2 Axes>"
      ]
     },
     "metadata": {
      "needs_background": "light"
     },
     "output_type": "display_data"
    }
   ],
   "source": [
    "sns.heatmap(corr_check1.corr(method=\"pearson\"))"
   ]
  },
  {
   "cell_type": "markdown",
   "metadata": {},
   "source": [
    "###  Analysis of the Heat map"
   ]
  },
  {
   "cell_type": "markdown",
   "metadata": {},
   "source": [
    "From the heat map we can outline that there is an relationship between the store types and Assortments. Therefore, it might be a good idea to drop Assortment's to help reduce multicollinearity. "
   ]
  },
  {
   "cell_type": "code",
   "execution_count": null,
   "metadata": {},
   "outputs": [],
   "source": []
  },
  {
   "cell_type": "code",
   "execution_count": 647,
   "metadata": {},
   "outputs": [
    {
     "name": "stdout",
     "output_type": "stream",
     "text": [
      "<class 'pandas.core.frame.DataFrame'>\n",
      "Int64Index: 1017762 entries, 0 to 1017761\n",
      "Data columns (total 9 columns):\n",
      " #   Column               Non-Null Count    Dtype\n",
      "---  ------               --------------    -----\n",
      " 0   Store                1017762 non-null  int64\n",
      " 1   DayOfWeek            1017762 non-null  int64\n",
      " 2   Promo                1017762 non-null  int64\n",
      " 3   SchoolHoliday        1017762 non-null  int64\n",
      " 4   CompetitionDistance  1017762 non-null  int32\n",
      " 5   Promo2               1017762 non-null  int32\n",
      " 6   Promo2SinceWeek      1017762 non-null  int32\n",
      " 7   Day                  1017762 non-null  int64\n",
      " 8   Month                1017762 non-null  int64\n",
      "dtypes: int32(3), int64(6)\n",
      "memory usage: 66.0 MB\n"
     ]
    }
   ],
   "source": [
    "vif_reduce.info()"
   ]
  },
  {
   "cell_type": "code",
   "execution_count": 648,
   "metadata": {},
   "outputs": [
    {
     "name": "stdout",
     "output_type": "stream",
     "text": [
      "<class 'pandas.core.frame.DataFrame'>\n",
      "Int64Index: 1017762 entries, 0 to 1017761\n",
      "Data columns (total 21 columns):\n",
      " #   Column                     Non-Null Count    Dtype         \n",
      "---  ------                     --------------    -----         \n",
      " 0   Store                      1017762 non-null  int64         \n",
      " 1   DayOfWeek                  1017762 non-null  int64         \n",
      " 2   Date                       1017762 non-null  datetime64[ns]\n",
      " 3   Sales                      1017762 non-null  int64         \n",
      " 4   Customers                  1017762 non-null  int64         \n",
      " 5   Open                       1017762 non-null  int64         \n",
      " 6   Promo                      1017762 non-null  int64         \n",
      " 7   StateHoliday               1017762 non-null  object        \n",
      " 8   SchoolHoliday              1017762 non-null  int64         \n",
      " 9   StoreType                  1017762 non-null  object        \n",
      " 10  Assortment                 1017762 non-null  object        \n",
      " 11  CompetitionDistance        1017762 non-null  int32         \n",
      " 12  CompetitionOpenSinceMonth  1017762 non-null  int32         \n",
      " 13  CompetitionOpenSinceYear   1017762 non-null  int32         \n",
      " 14  Promo2                     1017762 non-null  int32         \n",
      " 15  Promo2SinceWeek            1017762 non-null  int32         \n",
      " 16  Promo2SinceYear            1017762 non-null  int32         \n",
      " 17  PromoInterval              1017762 non-null  object        \n",
      " 18  Day                        1017762 non-null  int64         \n",
      " 19  Month                      1017762 non-null  int64         \n",
      " 20  Year                       1017762 non-null  int64         \n",
      "dtypes: datetime64[ns](1), int32(6), int64(10), object(4)\n",
      "memory usage: 147.5+ MB\n"
     ]
    }
   ],
   "source": [
    "second_df.info()"
   ]
  },
  {
   "cell_type": "code",
   "execution_count": 649,
   "metadata": {},
   "outputs": [],
   "source": [
    "vif_reduce = second_df.drop(['CompetitionOpenSinceYear','Promo2SinceYear','Year','Customers','CompetitionOpenSinceMonth','Open','Date', 'Assortment'], axis =1)"
   ]
  },
  {
   "cell_type": "code",
   "execution_count": 650,
   "metadata": {},
   "outputs": [
    {
     "data": {
      "text/html": [
       "<div>\n",
       "<style scoped>\n",
       "    .dataframe tbody tr th:only-of-type {\n",
       "        vertical-align: middle;\n",
       "    }\n",
       "\n",
       "    .dataframe tbody tr th {\n",
       "        vertical-align: top;\n",
       "    }\n",
       "\n",
       "    .dataframe thead th {\n",
       "        text-align: right;\n",
       "    }\n",
       "</style>\n",
       "<table border=\"1\" class=\"dataframe\">\n",
       "  <thead>\n",
       "    <tr style=\"text-align: right;\">\n",
       "      <th></th>\n",
       "      <th>Store</th>\n",
       "      <th>DayOfWeek</th>\n",
       "      <th>Sales</th>\n",
       "      <th>Promo</th>\n",
       "      <th>StateHoliday</th>\n",
       "      <th>SchoolHoliday</th>\n",
       "      <th>StoreType</th>\n",
       "      <th>CompetitionDistance</th>\n",
       "      <th>Promo2</th>\n",
       "      <th>Promo2SinceWeek</th>\n",
       "      <th>PromoInterval</th>\n",
       "      <th>Day</th>\n",
       "      <th>Month</th>\n",
       "    </tr>\n",
       "  </thead>\n",
       "  <tbody>\n",
       "    <tr>\n",
       "      <th>0</th>\n",
       "      <td>1</td>\n",
       "      <td>5</td>\n",
       "      <td>5263</td>\n",
       "      <td>1</td>\n",
       "      <td>0</td>\n",
       "      <td>1</td>\n",
       "      <td>c</td>\n",
       "      <td>1270</td>\n",
       "      <td>0</td>\n",
       "      <td>14</td>\n",
       "      <td>Feb,May,Aug,Nov</td>\n",
       "      <td>31</td>\n",
       "      <td>7</td>\n",
       "    </tr>\n",
       "    <tr>\n",
       "      <th>1</th>\n",
       "      <td>1</td>\n",
       "      <td>4</td>\n",
       "      <td>5020</td>\n",
       "      <td>1</td>\n",
       "      <td>0</td>\n",
       "      <td>1</td>\n",
       "      <td>c</td>\n",
       "      <td>1270</td>\n",
       "      <td>0</td>\n",
       "      <td>14</td>\n",
       "      <td>Feb,May,Aug,Nov</td>\n",
       "      <td>30</td>\n",
       "      <td>7</td>\n",
       "    </tr>\n",
       "    <tr>\n",
       "      <th>2</th>\n",
       "      <td>1</td>\n",
       "      <td>3</td>\n",
       "      <td>4782</td>\n",
       "      <td>1</td>\n",
       "      <td>0</td>\n",
       "      <td>1</td>\n",
       "      <td>c</td>\n",
       "      <td>1270</td>\n",
       "      <td>0</td>\n",
       "      <td>14</td>\n",
       "      <td>Feb,May,Aug,Nov</td>\n",
       "      <td>29</td>\n",
       "      <td>7</td>\n",
       "    </tr>\n",
       "    <tr>\n",
       "      <th>3</th>\n",
       "      <td>1</td>\n",
       "      <td>2</td>\n",
       "      <td>5011</td>\n",
       "      <td>1</td>\n",
       "      <td>0</td>\n",
       "      <td>1</td>\n",
       "      <td>c</td>\n",
       "      <td>1270</td>\n",
       "      <td>0</td>\n",
       "      <td>14</td>\n",
       "      <td>Feb,May,Aug,Nov</td>\n",
       "      <td>28</td>\n",
       "      <td>7</td>\n",
       "    </tr>\n",
       "    <tr>\n",
       "      <th>4</th>\n",
       "      <td>1</td>\n",
       "      <td>1</td>\n",
       "      <td>6102</td>\n",
       "      <td>1</td>\n",
       "      <td>0</td>\n",
       "      <td>1</td>\n",
       "      <td>c</td>\n",
       "      <td>1270</td>\n",
       "      <td>0</td>\n",
       "      <td>14</td>\n",
       "      <td>Feb,May,Aug,Nov</td>\n",
       "      <td>27</td>\n",
       "      <td>7</td>\n",
       "    </tr>\n",
       "  </tbody>\n",
       "</table>\n",
       "</div>"
      ],
      "text/plain": [
       "   Store  DayOfWeek  Sales  Promo StateHoliday  SchoolHoliday StoreType  \\\n",
       "0      1          5   5263      1            0              1         c   \n",
       "1      1          4   5020      1            0              1         c   \n",
       "2      1          3   4782      1            0              1         c   \n",
       "3      1          2   5011      1            0              1         c   \n",
       "4      1          1   6102      1            0              1         c   \n",
       "\n",
       "   CompetitionDistance  Promo2  Promo2SinceWeek    PromoInterval  Day  Month  \n",
       "0                 1270       0               14  Feb,May,Aug,Nov   31      7  \n",
       "1                 1270       0               14  Feb,May,Aug,Nov   30      7  \n",
       "2                 1270       0               14  Feb,May,Aug,Nov   29      7  \n",
       "3                 1270       0               14  Feb,May,Aug,Nov   28      7  \n",
       "4                 1270       0               14  Feb,May,Aug,Nov   27      7  "
      ]
     },
     "execution_count": 650,
     "metadata": {},
     "output_type": "execute_result"
    }
   ],
   "source": [
    "vif_reduce.head()"
   ]
  },
  {
   "cell_type": "code",
   "execution_count": 651,
   "metadata": {},
   "outputs": [
    {
     "data": {
      "text/plain": [
       "array(['0', 'a', 'b', 'c', 0], dtype=object)"
      ]
     },
     "execution_count": 651,
     "metadata": {},
     "output_type": "execute_result"
    }
   ],
   "source": [
    "vif_reduce['StateHoliday'].unique()"
   ]
  },
  {
   "cell_type": "code",
   "execution_count": 652,
   "metadata": {},
   "outputs": [],
   "source": [
    "vif_reduce['StateHoliday'] = vif_reduce['StateHoliday'].replace('0', 0)"
   ]
  },
  {
   "cell_type": "code",
   "execution_count": 653,
   "metadata": {},
   "outputs": [
    {
     "data": {
      "text/plain": [
       "array([0, 'a', 'b', 'c'], dtype=object)"
      ]
     },
     "execution_count": 653,
     "metadata": {},
     "output_type": "execute_result"
    }
   ],
   "source": [
    "vif_reduce['StateHoliday'].unique()"
   ]
  },
  {
   "cell_type": "code",
   "execution_count": 654,
   "metadata": {},
   "outputs": [],
   "source": [
    "vif_reduced_dummy = pd.get_dummies(vif_reduce, columns=[\"StateHoliday\", \"StoreType\", \"PromoInterval\"])"
   ]
  },
  {
   "cell_type": "code",
   "execution_count": 655,
   "metadata": {},
   "outputs": [
    {
     "name": "stdout",
     "output_type": "stream",
     "text": [
      "<class 'pandas.core.frame.DataFrame'>\n",
      "Int64Index: 1017762 entries, 0 to 1017761\n",
      "Data columns (total 21 columns):\n",
      " #   Column                          Non-Null Count    Dtype\n",
      "---  ------                          --------------    -----\n",
      " 0   Store                           1017762 non-null  int64\n",
      " 1   DayOfWeek                       1017762 non-null  int64\n",
      " 2   Sales                           1017762 non-null  int64\n",
      " 3   Promo                           1017762 non-null  int64\n",
      " 4   SchoolHoliday                   1017762 non-null  int64\n",
      " 5   CompetitionDistance             1017762 non-null  int32\n",
      " 6   Promo2                          1017762 non-null  int32\n",
      " 7   Promo2SinceWeek                 1017762 non-null  int32\n",
      " 8   Day                             1017762 non-null  int64\n",
      " 9   Month                           1017762 non-null  int64\n",
      " 10  StateHoliday_0                  1017762 non-null  uint8\n",
      " 11  StateHoliday_a                  1017762 non-null  uint8\n",
      " 12  StateHoliday_b                  1017762 non-null  uint8\n",
      " 13  StateHoliday_c                  1017762 non-null  uint8\n",
      " 14  StoreType_a                     1017762 non-null  uint8\n",
      " 15  StoreType_b                     1017762 non-null  uint8\n",
      " 16  StoreType_c                     1017762 non-null  uint8\n",
      " 17  StoreType_d                     1017762 non-null  uint8\n",
      " 18  PromoInterval_Feb,May,Aug,Nov   1017762 non-null  uint8\n",
      " 19  PromoInterval_Jan,Apr,Jul,Oct   1017762 non-null  uint8\n",
      " 20  PromoInterval_Mar,Jun,Sept,Dec  1017762 non-null  uint8\n",
      "dtypes: int32(3), int64(7), uint8(11)\n",
      "memory usage: 84.4 MB\n"
     ]
    }
   ],
   "source": [
    "vif_reduced_dummy.info()"
   ]
  },
  {
   "cell_type": "code",
   "execution_count": 656,
   "metadata": {},
   "outputs": [
    {
     "data": {
      "text/html": [
       "<div>\n",
       "<style scoped>\n",
       "    .dataframe tbody tr th:only-of-type {\n",
       "        vertical-align: middle;\n",
       "    }\n",
       "\n",
       "    .dataframe tbody tr th {\n",
       "        vertical-align: top;\n",
       "    }\n",
       "\n",
       "    .dataframe thead th {\n",
       "        text-align: right;\n",
       "    }\n",
       "</style>\n",
       "<table border=\"1\" class=\"dataframe\">\n",
       "  <thead>\n",
       "    <tr style=\"text-align: right;\">\n",
       "      <th></th>\n",
       "      <th>Store</th>\n",
       "      <th>StoreType</th>\n",
       "      <th>Assortment</th>\n",
       "      <th>CompetitionDistance</th>\n",
       "      <th>CompetitionOpenSinceMonth</th>\n",
       "      <th>CompetitionOpenSinceYear</th>\n",
       "      <th>Promo2</th>\n",
       "      <th>Promo2SinceWeek</th>\n",
       "      <th>Promo2SinceYear</th>\n",
       "      <th>PromoInterval</th>\n",
       "    </tr>\n",
       "  </thead>\n",
       "  <tbody>\n",
       "    <tr>\n",
       "      <th>0</th>\n",
       "      <td>0.000000</td>\n",
       "      <td>0.666667</td>\n",
       "      <td>0.0</td>\n",
       "      <td>0.016482</td>\n",
       "      <td>0.727273</td>\n",
       "      <td>0.939130</td>\n",
       "      <td>0.0</td>\n",
       "      <td>NaN</td>\n",
       "      <td>NaN</td>\n",
       "      <td>NaN</td>\n",
       "    </tr>\n",
       "    <tr>\n",
       "      <th>1</th>\n",
       "      <td>0.000898</td>\n",
       "      <td>0.000000</td>\n",
       "      <td>0.0</td>\n",
       "      <td>0.007252</td>\n",
       "      <td>0.909091</td>\n",
       "      <td>0.930435</td>\n",
       "      <td>1.0</td>\n",
       "      <td>0.244898</td>\n",
       "      <td>0.166667</td>\n",
       "      <td>0.5</td>\n",
       "    </tr>\n",
       "    <tr>\n",
       "      <th>2</th>\n",
       "      <td>0.001795</td>\n",
       "      <td>0.000000</td>\n",
       "      <td>0.0</td>\n",
       "      <td>0.186050</td>\n",
       "      <td>1.000000</td>\n",
       "      <td>0.921739</td>\n",
       "      <td>1.0</td>\n",
       "      <td>0.265306</td>\n",
       "      <td>0.333333</td>\n",
       "      <td>0.5</td>\n",
       "    </tr>\n",
       "    <tr>\n",
       "      <th>3</th>\n",
       "      <td>0.002693</td>\n",
       "      <td>0.666667</td>\n",
       "      <td>1.0</td>\n",
       "      <td>0.007911</td>\n",
       "      <td>0.727273</td>\n",
       "      <td>0.947826</td>\n",
       "      <td>0.0</td>\n",
       "      <td>NaN</td>\n",
       "      <td>NaN</td>\n",
       "      <td>NaN</td>\n",
       "    </tr>\n",
       "    <tr>\n",
       "      <th>4</th>\n",
       "      <td>0.003591</td>\n",
       "      <td>0.000000</td>\n",
       "      <td>0.0</td>\n",
       "      <td>0.394119</td>\n",
       "      <td>0.272727</td>\n",
       "      <td>1.000000</td>\n",
       "      <td>0.0</td>\n",
       "      <td>NaN</td>\n",
       "      <td>NaN</td>\n",
       "      <td>NaN</td>\n",
       "    </tr>\n",
       "  </tbody>\n",
       "</table>\n",
       "</div>"
      ],
      "text/plain": [
       "      Store  StoreType  Assortment  CompetitionDistance  \\\n",
       "0  0.000000   0.666667         0.0             0.016482   \n",
       "1  0.000898   0.000000         0.0             0.007252   \n",
       "2  0.001795   0.000000         0.0             0.186050   \n",
       "3  0.002693   0.666667         1.0             0.007911   \n",
       "4  0.003591   0.000000         0.0             0.394119   \n",
       "\n",
       "   CompetitionOpenSinceMonth  CompetitionOpenSinceYear  Promo2  \\\n",
       "0                   0.727273                  0.939130     0.0   \n",
       "1                   0.909091                  0.930435     1.0   \n",
       "2                   1.000000                  0.921739     1.0   \n",
       "3                   0.727273                  0.947826     0.0   \n",
       "4                   0.272727                  1.000000     0.0   \n",
       "\n",
       "   Promo2SinceWeek  Promo2SinceYear  PromoInterval  \n",
       "0              NaN              NaN            NaN  \n",
       "1         0.244898         0.166667            0.5  \n",
       "2         0.265306         0.333333            0.5  \n",
       "3              NaN              NaN            NaN  \n",
       "4              NaN              NaN            NaN  "
      ]
     },
     "execution_count": 656,
     "metadata": {},
     "output_type": "execute_result"
    }
   ],
   "source": [
    "from sklearn.preprocessing import MinMaxScaler\n",
    "scaler = MinMaxScaler()\n",
    "vif_reduced_dummy = pd.DataFrame(scaler.fit_transform(vif_reduced_dummy), columns = vif_reduced_dummy.columns)\n",
    "store_scale.head()"
   ]
  },
  {
   "cell_type": "code",
   "execution_count": 657,
   "metadata": {},
   "outputs": [
    {
     "data": {
      "text/html": [
       "<div>\n",
       "<style scoped>\n",
       "    .dataframe tbody tr th:only-of-type {\n",
       "        vertical-align: middle;\n",
       "    }\n",
       "\n",
       "    .dataframe tbody tr th {\n",
       "        vertical-align: top;\n",
       "    }\n",
       "\n",
       "    .dataframe thead th {\n",
       "        text-align: right;\n",
       "    }\n",
       "</style>\n",
       "<table border=\"1\" class=\"dataframe\">\n",
       "  <thead>\n",
       "    <tr style=\"text-align: right;\">\n",
       "      <th></th>\n",
       "      <th>Store</th>\n",
       "      <th>DayOfWeek</th>\n",
       "      <th>Sales</th>\n",
       "      <th>Promo</th>\n",
       "      <th>SchoolHoliday</th>\n",
       "      <th>CompetitionDistance</th>\n",
       "      <th>Promo2</th>\n",
       "      <th>Promo2SinceWeek</th>\n",
       "      <th>Day</th>\n",
       "      <th>Month</th>\n",
       "      <th>...</th>\n",
       "      <th>StateHoliday_a</th>\n",
       "      <th>StateHoliday_b</th>\n",
       "      <th>StateHoliday_c</th>\n",
       "      <th>StoreType_a</th>\n",
       "      <th>StoreType_b</th>\n",
       "      <th>StoreType_c</th>\n",
       "      <th>StoreType_d</th>\n",
       "      <th>PromoInterval_Feb,May,Aug,Nov</th>\n",
       "      <th>PromoInterval_Jan,Apr,Jul,Oct</th>\n",
       "      <th>PromoInterval_Mar,Jun,Sept,Dec</th>\n",
       "    </tr>\n",
       "  </thead>\n",
       "  <tbody>\n",
       "    <tr>\n",
       "      <th>0</th>\n",
       "      <td>0.0</td>\n",
       "      <td>0.666667</td>\n",
       "      <td>0.126664</td>\n",
       "      <td>1.0</td>\n",
       "      <td>1.0</td>\n",
       "      <td>0.016482</td>\n",
       "      <td>0.0</td>\n",
       "      <td>0.265306</td>\n",
       "      <td>1.000000</td>\n",
       "      <td>0.545455</td>\n",
       "      <td>...</td>\n",
       "      <td>0.0</td>\n",
       "      <td>0.0</td>\n",
       "      <td>0.0</td>\n",
       "      <td>0.0</td>\n",
       "      <td>0.0</td>\n",
       "      <td>1.0</td>\n",
       "      <td>0.0</td>\n",
       "      <td>1.0</td>\n",
       "      <td>0.0</td>\n",
       "      <td>0.0</td>\n",
       "    </tr>\n",
       "    <tr>\n",
       "      <th>1</th>\n",
       "      <td>0.0</td>\n",
       "      <td>0.500000</td>\n",
       "      <td>0.120815</td>\n",
       "      <td>1.0</td>\n",
       "      <td>1.0</td>\n",
       "      <td>0.016482</td>\n",
       "      <td>0.0</td>\n",
       "      <td>0.265306</td>\n",
       "      <td>0.966667</td>\n",
       "      <td>0.545455</td>\n",
       "      <td>...</td>\n",
       "      <td>0.0</td>\n",
       "      <td>0.0</td>\n",
       "      <td>0.0</td>\n",
       "      <td>0.0</td>\n",
       "      <td>0.0</td>\n",
       "      <td>1.0</td>\n",
       "      <td>0.0</td>\n",
       "      <td>1.0</td>\n",
       "      <td>0.0</td>\n",
       "      <td>0.0</td>\n",
       "    </tr>\n",
       "    <tr>\n",
       "      <th>2</th>\n",
       "      <td>0.0</td>\n",
       "      <td>0.333333</td>\n",
       "      <td>0.115087</td>\n",
       "      <td>1.0</td>\n",
       "      <td>1.0</td>\n",
       "      <td>0.016482</td>\n",
       "      <td>0.0</td>\n",
       "      <td>0.265306</td>\n",
       "      <td>0.933333</td>\n",
       "      <td>0.545455</td>\n",
       "      <td>...</td>\n",
       "      <td>0.0</td>\n",
       "      <td>0.0</td>\n",
       "      <td>0.0</td>\n",
       "      <td>0.0</td>\n",
       "      <td>0.0</td>\n",
       "      <td>1.0</td>\n",
       "      <td>0.0</td>\n",
       "      <td>1.0</td>\n",
       "      <td>0.0</td>\n",
       "      <td>0.0</td>\n",
       "    </tr>\n",
       "    <tr>\n",
       "      <th>3</th>\n",
       "      <td>0.0</td>\n",
       "      <td>0.166667</td>\n",
       "      <td>0.120599</td>\n",
       "      <td>1.0</td>\n",
       "      <td>1.0</td>\n",
       "      <td>0.016482</td>\n",
       "      <td>0.0</td>\n",
       "      <td>0.265306</td>\n",
       "      <td>0.900000</td>\n",
       "      <td>0.545455</td>\n",
       "      <td>...</td>\n",
       "      <td>0.0</td>\n",
       "      <td>0.0</td>\n",
       "      <td>0.0</td>\n",
       "      <td>0.0</td>\n",
       "      <td>0.0</td>\n",
       "      <td>1.0</td>\n",
       "      <td>0.0</td>\n",
       "      <td>1.0</td>\n",
       "      <td>0.0</td>\n",
       "      <td>0.0</td>\n",
       "    </tr>\n",
       "    <tr>\n",
       "      <th>4</th>\n",
       "      <td>0.0</td>\n",
       "      <td>0.000000</td>\n",
       "      <td>0.146856</td>\n",
       "      <td>1.0</td>\n",
       "      <td>1.0</td>\n",
       "      <td>0.016482</td>\n",
       "      <td>0.0</td>\n",
       "      <td>0.265306</td>\n",
       "      <td>0.866667</td>\n",
       "      <td>0.545455</td>\n",
       "      <td>...</td>\n",
       "      <td>0.0</td>\n",
       "      <td>0.0</td>\n",
       "      <td>0.0</td>\n",
       "      <td>0.0</td>\n",
       "      <td>0.0</td>\n",
       "      <td>1.0</td>\n",
       "      <td>0.0</td>\n",
       "      <td>1.0</td>\n",
       "      <td>0.0</td>\n",
       "      <td>0.0</td>\n",
       "    </tr>\n",
       "  </tbody>\n",
       "</table>\n",
       "<p>5 rows × 21 columns</p>\n",
       "</div>"
      ],
      "text/plain": [
       "   Store  DayOfWeek     Sales  Promo  SchoolHoliday  CompetitionDistance  \\\n",
       "0    0.0   0.666667  0.126664    1.0            1.0             0.016482   \n",
       "1    0.0   0.500000  0.120815    1.0            1.0             0.016482   \n",
       "2    0.0   0.333333  0.115087    1.0            1.0             0.016482   \n",
       "3    0.0   0.166667  0.120599    1.0            1.0             0.016482   \n",
       "4    0.0   0.000000  0.146856    1.0            1.0             0.016482   \n",
       "\n",
       "   Promo2  Promo2SinceWeek       Day     Month  ...  StateHoliday_a  \\\n",
       "0     0.0         0.265306  1.000000  0.545455  ...             0.0   \n",
       "1     0.0         0.265306  0.966667  0.545455  ...             0.0   \n",
       "2     0.0         0.265306  0.933333  0.545455  ...             0.0   \n",
       "3     0.0         0.265306  0.900000  0.545455  ...             0.0   \n",
       "4     0.0         0.265306  0.866667  0.545455  ...             0.0   \n",
       "\n",
       "   StateHoliday_b  StateHoliday_c  StoreType_a  StoreType_b  StoreType_c  \\\n",
       "0             0.0             0.0          0.0          0.0          1.0   \n",
       "1             0.0             0.0          0.0          0.0          1.0   \n",
       "2             0.0             0.0          0.0          0.0          1.0   \n",
       "3             0.0             0.0          0.0          0.0          1.0   \n",
       "4             0.0             0.0          0.0          0.0          1.0   \n",
       "\n",
       "   StoreType_d  PromoInterval_Feb,May,Aug,Nov  PromoInterval_Jan,Apr,Jul,Oct  \\\n",
       "0          0.0                            1.0                            0.0   \n",
       "1          0.0                            1.0                            0.0   \n",
       "2          0.0                            1.0                            0.0   \n",
       "3          0.0                            1.0                            0.0   \n",
       "4          0.0                            1.0                            0.0   \n",
       "\n",
       "   PromoInterval_Mar,Jun,Sept,Dec  \n",
       "0                             0.0  \n",
       "1                             0.0  \n",
       "2                             0.0  \n",
       "3                             0.0  \n",
       "4                             0.0  \n",
       "\n",
       "[5 rows x 21 columns]"
      ]
     },
     "execution_count": 657,
     "metadata": {},
     "output_type": "execute_result"
    }
   ],
   "source": [
    "vif_reduced_dummy.head()"
   ]
  },
  {
   "cell_type": "code",
   "execution_count": 658,
   "metadata": {},
   "outputs": [],
   "source": [
    "vif_reduce.to_csv(\"vif_reduced2.csv\")\n",
    "vif_reduced_dummy.to_csv('vif_reduced_dummy2.csv')"
   ]
  },
  {
   "cell_type": "code",
   "execution_count": 659,
   "metadata": {},
   "outputs": [],
   "source": [
    "vif_reduced_dummy.to_csv('vif_reduced_dummy2.csv')"
   ]
  },
  {
   "cell_type": "code",
   "execution_count": 660,
   "metadata": {},
   "outputs": [
    {
     "name": "stdout",
     "output_type": "stream",
     "text": [
      "<class 'pandas.core.frame.DataFrame'>\n",
      "RangeIndex: 1017762 entries, 0 to 1017761\n",
      "Data columns (total 21 columns):\n",
      " #   Column                          Non-Null Count    Dtype  \n",
      "---  ------                          --------------    -----  \n",
      " 0   Store                           1017762 non-null  float64\n",
      " 1   DayOfWeek                       1017762 non-null  float64\n",
      " 2   Sales                           1017762 non-null  float64\n",
      " 3   Promo                           1017762 non-null  float64\n",
      " 4   SchoolHoliday                   1017762 non-null  float64\n",
      " 5   CompetitionDistance             1017762 non-null  float64\n",
      " 6   Promo2                          1017762 non-null  float64\n",
      " 7   Promo2SinceWeek                 1017762 non-null  float64\n",
      " 8   Day                             1017762 non-null  float64\n",
      " 9   Month                           1017762 non-null  float64\n",
      " 10  StateHoliday_0                  1017762 non-null  float64\n",
      " 11  StateHoliday_a                  1017762 non-null  float64\n",
      " 12  StateHoliday_b                  1017762 non-null  float64\n",
      " 13  StateHoliday_c                  1017762 non-null  float64\n",
      " 14  StoreType_a                     1017762 non-null  float64\n",
      " 15  StoreType_b                     1017762 non-null  float64\n",
      " 16  StoreType_c                     1017762 non-null  float64\n",
      " 17  StoreType_d                     1017762 non-null  float64\n",
      " 18  PromoInterval_Feb,May,Aug,Nov   1017762 non-null  float64\n",
      " 19  PromoInterval_Jan,Apr,Jul,Oct   1017762 non-null  float64\n",
      " 20  PromoInterval_Mar,Jun,Sept,Dec  1017762 non-null  float64\n",
      "dtypes: float64(21)\n",
      "memory usage: 163.1 MB\n"
     ]
    }
   ],
   "source": [
    "vif_reduced_dummy.info()"
   ]
  },
  {
   "cell_type": "markdown",
   "metadata": {},
   "source": [
    "## Test Dataset Data cleaning"
   ]
  },
  {
   "cell_type": "code",
   "execution_count": 661,
   "metadata": {},
   "outputs": [],
   "source": [
    "test = pd.read_csv('DA2021_test.csv')"
   ]
  },
  {
   "cell_type": "code",
   "execution_count": 662,
   "metadata": {},
   "outputs": [
    {
     "data": {
      "text/plain": [
       "Store              0.000000\n",
       "DayOfWeek          0.000000\n",
       "Date               0.000000\n",
       "Sales            100.000000\n",
       "Customers        100.000000\n",
       "Open               0.026772\n",
       "Promo              0.000000\n",
       "StateHoliday       0.000000\n",
       "SchoolHoliday      0.000000\n",
       "dtype: float64"
      ]
     },
     "execution_count": 662,
     "metadata": {},
     "output_type": "execute_result"
    }
   ],
   "source": [
    "test.isnull().mean()*100"
   ]
  },
  {
   "cell_type": "code",
   "execution_count": 663,
   "metadata": {},
   "outputs": [
    {
     "name": "stdout",
     "output_type": "stream",
     "text": [
      "<class 'pandas.core.frame.DataFrame'>\n",
      "RangeIndex: 41088 entries, 0 to 41087\n",
      "Data columns (total 9 columns):\n",
      " #   Column         Non-Null Count  Dtype  \n",
      "---  ------         --------------  -----  \n",
      " 0   Store          41088 non-null  int64  \n",
      " 1   DayOfWeek      41088 non-null  int64  \n",
      " 2   Date           41088 non-null  object \n",
      " 3   Sales          0 non-null      float64\n",
      " 4   Customers      0 non-null      float64\n",
      " 5   Open           41077 non-null  float64\n",
      " 6   Promo          41088 non-null  int64  \n",
      " 7   StateHoliday   41088 non-null  object \n",
      " 8   SchoolHoliday  41088 non-null  int64  \n",
      "dtypes: float64(3), int64(4), object(2)\n",
      "memory usage: 2.8+ MB\n"
     ]
    }
   ],
   "source": [
    "test.info()"
   ]
  },
  {
   "cell_type": "code",
   "execution_count": 664,
   "metadata": {},
   "outputs": [
    {
     "data": {
      "text/plain": [
       "array(['0', 'a'], dtype=object)"
      ]
     },
     "execution_count": 664,
     "metadata": {},
     "output_type": "execute_result"
    }
   ],
   "source": [
    "test['StateHoliday'].unique()"
   ]
  },
  {
   "cell_type": "code",
   "execution_count": 665,
   "metadata": {},
   "outputs": [],
   "source": [
    "test = pd.get_dummies(test, columns=[\"StateHoliday\"])"
   ]
  },
  {
   "cell_type": "code",
   "execution_count": 666,
   "metadata": {},
   "outputs": [
    {
     "name": "stdout",
     "output_type": "stream",
     "text": [
      "<class 'pandas.core.frame.DataFrame'>\n",
      "RangeIndex: 41088 entries, 0 to 41087\n",
      "Data columns (total 10 columns):\n",
      " #   Column          Non-Null Count  Dtype  \n",
      "---  ------          --------------  -----  \n",
      " 0   Store           41088 non-null  int64  \n",
      " 1   DayOfWeek       41088 non-null  int64  \n",
      " 2   Date            41088 non-null  object \n",
      " 3   Sales           0 non-null      float64\n",
      " 4   Customers       0 non-null      float64\n",
      " 5   Open            41077 non-null  float64\n",
      " 6   Promo           41088 non-null  int64  \n",
      " 7   SchoolHoliday   41088 non-null  int64  \n",
      " 8   StateHoliday_0  41088 non-null  uint8  \n",
      " 9   StateHoliday_a  41088 non-null  uint8  \n",
      "dtypes: float64(3), int64(4), object(1), uint8(2)\n",
      "memory usage: 2.6+ MB\n"
     ]
    }
   ],
   "source": [
    "test.info()"
   ]
  },
  {
   "cell_type": "code",
   "execution_count": 667,
   "metadata": {},
   "outputs": [],
   "source": [
    "test_date = test[['Store','Date']]"
   ]
  },
  {
   "cell_type": "code",
   "execution_count": 668,
   "metadata": {},
   "outputs": [
    {
     "data": {
      "text/html": [
       "<div>\n",
       "<style scoped>\n",
       "    .dataframe tbody tr th:only-of-type {\n",
       "        vertical-align: middle;\n",
       "    }\n",
       "\n",
       "    .dataframe tbody tr th {\n",
       "        vertical-align: top;\n",
       "    }\n",
       "\n",
       "    .dataframe thead th {\n",
       "        text-align: right;\n",
       "    }\n",
       "</style>\n",
       "<table border=\"1\" class=\"dataframe\">\n",
       "  <thead>\n",
       "    <tr style=\"text-align: right;\">\n",
       "      <th></th>\n",
       "      <th>Store</th>\n",
       "      <th>Date</th>\n",
       "    </tr>\n",
       "  </thead>\n",
       "  <tbody>\n",
       "    <tr>\n",
       "      <th>0</th>\n",
       "      <td>1</td>\n",
       "      <td>17/09/2015</td>\n",
       "    </tr>\n",
       "    <tr>\n",
       "      <th>1</th>\n",
       "      <td>3</td>\n",
       "      <td>17/09/2015</td>\n",
       "    </tr>\n",
       "    <tr>\n",
       "      <th>2</th>\n",
       "      <td>7</td>\n",
       "      <td>17/09/2015</td>\n",
       "    </tr>\n",
       "    <tr>\n",
       "      <th>3</th>\n",
       "      <td>8</td>\n",
       "      <td>17/09/2015</td>\n",
       "    </tr>\n",
       "    <tr>\n",
       "      <th>4</th>\n",
       "      <td>9</td>\n",
       "      <td>17/09/2015</td>\n",
       "    </tr>\n",
       "  </tbody>\n",
       "</table>\n",
       "</div>"
      ],
      "text/plain": [
       "   Store        Date\n",
       "0      1  17/09/2015\n",
       "1      3  17/09/2015\n",
       "2      7  17/09/2015\n",
       "3      8  17/09/2015\n",
       "4      9  17/09/2015"
      ]
     },
     "execution_count": 668,
     "metadata": {},
     "output_type": "execute_result"
    }
   ],
   "source": [
    "test_date.head()"
   ]
  },
  {
   "cell_type": "code",
   "execution_count": 669,
   "metadata": {},
   "outputs": [
    {
     "name": "stderr",
     "output_type": "stream",
     "text": [
      "<ipython-input-669-5eb9502d97b7>:1: SettingWithCopyWarning: \n",
      "A value is trying to be set on a copy of a slice from a DataFrame.\n",
      "Try using .loc[row_indexer,col_indexer] = value instead\n",
      "\n",
      "See the caveats in the documentation: https://pandas.pydata.org/pandas-docs/stable/user_guide/indexing.html#returning-a-view-versus-a-copy\n",
      "  test_date['Date'] = pd.to_datetime(test_date[\"Date\"])\n"
     ]
    }
   ],
   "source": [
    "\n",
    "test_date['Date'] = pd.to_datetime(test_date[\"Date\"])\n"
   ]
  },
  {
   "cell_type": "code",
   "execution_count": 670,
   "metadata": {},
   "outputs": [],
   "source": [
    "test['Date'] = pd.to_datetime(test[\"Date\"])"
   ]
  },
  {
   "cell_type": "code",
   "execution_count": 671,
   "metadata": {},
   "outputs": [],
   "source": [
    "#second_df['Date'] = pd.to_datetime(second_df[\"Date\"])\n",
    "test['Day'] = test['Date'].dt.day\n",
    "test['Month'] = test['Date'].dt.month\n",
    "test['Year'] = test['Date'].dt.year"
   ]
  },
  {
   "cell_type": "code",
   "execution_count": 672,
   "metadata": {},
   "outputs": [
    {
     "data": {
      "text/html": [
       "<div>\n",
       "<style scoped>\n",
       "    .dataframe tbody tr th:only-of-type {\n",
       "        vertical-align: middle;\n",
       "    }\n",
       "\n",
       "    .dataframe tbody tr th {\n",
       "        vertical-align: top;\n",
       "    }\n",
       "\n",
       "    .dataframe thead th {\n",
       "        text-align: right;\n",
       "    }\n",
       "</style>\n",
       "<table border=\"1\" class=\"dataframe\">\n",
       "  <thead>\n",
       "    <tr style=\"text-align: right;\">\n",
       "      <th></th>\n",
       "      <th>Store</th>\n",
       "      <th>DayOfWeek</th>\n",
       "      <th>Date</th>\n",
       "      <th>Sales</th>\n",
       "      <th>Customers</th>\n",
       "      <th>Open</th>\n",
       "      <th>Promo</th>\n",
       "      <th>SchoolHoliday</th>\n",
       "      <th>StateHoliday_0</th>\n",
       "      <th>StateHoliday_a</th>\n",
       "      <th>Day</th>\n",
       "      <th>Month</th>\n",
       "      <th>Year</th>\n",
       "    </tr>\n",
       "  </thead>\n",
       "  <tbody>\n",
       "    <tr>\n",
       "      <th>0</th>\n",
       "      <td>1</td>\n",
       "      <td>4</td>\n",
       "      <td>2015-09-17</td>\n",
       "      <td>NaN</td>\n",
       "      <td>NaN</td>\n",
       "      <td>1.0</td>\n",
       "      <td>1</td>\n",
       "      <td>0</td>\n",
       "      <td>1</td>\n",
       "      <td>0</td>\n",
       "      <td>17</td>\n",
       "      <td>9</td>\n",
       "      <td>2015</td>\n",
       "    </tr>\n",
       "    <tr>\n",
       "      <th>1</th>\n",
       "      <td>3</td>\n",
       "      <td>4</td>\n",
       "      <td>2015-09-17</td>\n",
       "      <td>NaN</td>\n",
       "      <td>NaN</td>\n",
       "      <td>1.0</td>\n",
       "      <td>1</td>\n",
       "      <td>0</td>\n",
       "      <td>1</td>\n",
       "      <td>0</td>\n",
       "      <td>17</td>\n",
       "      <td>9</td>\n",
       "      <td>2015</td>\n",
       "    </tr>\n",
       "    <tr>\n",
       "      <th>2</th>\n",
       "      <td>7</td>\n",
       "      <td>4</td>\n",
       "      <td>2015-09-17</td>\n",
       "      <td>NaN</td>\n",
       "      <td>NaN</td>\n",
       "      <td>1.0</td>\n",
       "      <td>1</td>\n",
       "      <td>0</td>\n",
       "      <td>1</td>\n",
       "      <td>0</td>\n",
       "      <td>17</td>\n",
       "      <td>9</td>\n",
       "      <td>2015</td>\n",
       "    </tr>\n",
       "    <tr>\n",
       "      <th>3</th>\n",
       "      <td>8</td>\n",
       "      <td>4</td>\n",
       "      <td>2015-09-17</td>\n",
       "      <td>NaN</td>\n",
       "      <td>NaN</td>\n",
       "      <td>1.0</td>\n",
       "      <td>1</td>\n",
       "      <td>0</td>\n",
       "      <td>1</td>\n",
       "      <td>0</td>\n",
       "      <td>17</td>\n",
       "      <td>9</td>\n",
       "      <td>2015</td>\n",
       "    </tr>\n",
       "    <tr>\n",
       "      <th>4</th>\n",
       "      <td>9</td>\n",
       "      <td>4</td>\n",
       "      <td>2015-09-17</td>\n",
       "      <td>NaN</td>\n",
       "      <td>NaN</td>\n",
       "      <td>1.0</td>\n",
       "      <td>1</td>\n",
       "      <td>0</td>\n",
       "      <td>1</td>\n",
       "      <td>0</td>\n",
       "      <td>17</td>\n",
       "      <td>9</td>\n",
       "      <td>2015</td>\n",
       "    </tr>\n",
       "  </tbody>\n",
       "</table>\n",
       "</div>"
      ],
      "text/plain": [
       "   Store  DayOfWeek       Date  Sales  Customers  Open  Promo  SchoolHoliday  \\\n",
       "0      1          4 2015-09-17    NaN        NaN   1.0      1              0   \n",
       "1      3          4 2015-09-17    NaN        NaN   1.0      1              0   \n",
       "2      7          4 2015-09-17    NaN        NaN   1.0      1              0   \n",
       "3      8          4 2015-09-17    NaN        NaN   1.0      1              0   \n",
       "4      9          4 2015-09-17    NaN        NaN   1.0      1              0   \n",
       "\n",
       "   StateHoliday_0  StateHoliday_a  Day  Month  Year  \n",
       "0               1               0   17      9  2015  \n",
       "1               1               0   17      9  2015  \n",
       "2               1               0   17      9  2015  \n",
       "3               1               0   17      9  2015  \n",
       "4               1               0   17      9  2015  "
      ]
     },
     "execution_count": 672,
     "metadata": {},
     "output_type": "execute_result"
    }
   ],
   "source": [
    "test.head()"
   ]
  },
  {
   "cell_type": "code",
   "execution_count": 673,
   "metadata": {},
   "outputs": [
    {
     "data": {
      "text/html": [
       "<div>\n",
       "<style scoped>\n",
       "    .dataframe tbody tr th:only-of-type {\n",
       "        vertical-align: middle;\n",
       "    }\n",
       "\n",
       "    .dataframe tbody tr th {\n",
       "        vertical-align: top;\n",
       "    }\n",
       "\n",
       "    .dataframe thead th {\n",
       "        text-align: right;\n",
       "    }\n",
       "</style>\n",
       "<table border=\"1\" class=\"dataframe\">\n",
       "  <thead>\n",
       "    <tr style=\"text-align: right;\">\n",
       "      <th></th>\n",
       "      <th>Store</th>\n",
       "      <th>DayOfWeek</th>\n",
       "      <th>Date</th>\n",
       "      <th>Open</th>\n",
       "      <th>Promo</th>\n",
       "      <th>SchoolHoliday</th>\n",
       "      <th>StateHoliday_0</th>\n",
       "      <th>StateHoliday_a</th>\n",
       "      <th>Day</th>\n",
       "      <th>Month</th>\n",
       "      <th>Year</th>\n",
       "    </tr>\n",
       "  </thead>\n",
       "  <tbody>\n",
       "    <tr>\n",
       "      <th>0</th>\n",
       "      <td>1</td>\n",
       "      <td>4</td>\n",
       "      <td>2015-09-17</td>\n",
       "      <td>1.0</td>\n",
       "      <td>1</td>\n",
       "      <td>0</td>\n",
       "      <td>1</td>\n",
       "      <td>0</td>\n",
       "      <td>17</td>\n",
       "      <td>9</td>\n",
       "      <td>2015</td>\n",
       "    </tr>\n",
       "    <tr>\n",
       "      <th>1</th>\n",
       "      <td>3</td>\n",
       "      <td>4</td>\n",
       "      <td>2015-09-17</td>\n",
       "      <td>1.0</td>\n",
       "      <td>1</td>\n",
       "      <td>0</td>\n",
       "      <td>1</td>\n",
       "      <td>0</td>\n",
       "      <td>17</td>\n",
       "      <td>9</td>\n",
       "      <td>2015</td>\n",
       "    </tr>\n",
       "    <tr>\n",
       "      <th>2</th>\n",
       "      <td>7</td>\n",
       "      <td>4</td>\n",
       "      <td>2015-09-17</td>\n",
       "      <td>1.0</td>\n",
       "      <td>1</td>\n",
       "      <td>0</td>\n",
       "      <td>1</td>\n",
       "      <td>0</td>\n",
       "      <td>17</td>\n",
       "      <td>9</td>\n",
       "      <td>2015</td>\n",
       "    </tr>\n",
       "    <tr>\n",
       "      <th>3</th>\n",
       "      <td>8</td>\n",
       "      <td>4</td>\n",
       "      <td>2015-09-17</td>\n",
       "      <td>1.0</td>\n",
       "      <td>1</td>\n",
       "      <td>0</td>\n",
       "      <td>1</td>\n",
       "      <td>0</td>\n",
       "      <td>17</td>\n",
       "      <td>9</td>\n",
       "      <td>2015</td>\n",
       "    </tr>\n",
       "    <tr>\n",
       "      <th>4</th>\n",
       "      <td>9</td>\n",
       "      <td>4</td>\n",
       "      <td>2015-09-17</td>\n",
       "      <td>1.0</td>\n",
       "      <td>1</td>\n",
       "      <td>0</td>\n",
       "      <td>1</td>\n",
       "      <td>0</td>\n",
       "      <td>17</td>\n",
       "      <td>9</td>\n",
       "      <td>2015</td>\n",
       "    </tr>\n",
       "    <tr>\n",
       "      <th>...</th>\n",
       "      <td>...</td>\n",
       "      <td>...</td>\n",
       "      <td>...</td>\n",
       "      <td>...</td>\n",
       "      <td>...</td>\n",
       "      <td>...</td>\n",
       "      <td>...</td>\n",
       "      <td>...</td>\n",
       "      <td>...</td>\n",
       "      <td>...</td>\n",
       "      <td>...</td>\n",
       "    </tr>\n",
       "    <tr>\n",
       "      <th>41083</th>\n",
       "      <td>1111</td>\n",
       "      <td>6</td>\n",
       "      <td>2015-01-08</td>\n",
       "      <td>1.0</td>\n",
       "      <td>0</td>\n",
       "      <td>0</td>\n",
       "      <td>1</td>\n",
       "      <td>0</td>\n",
       "      <td>8</td>\n",
       "      <td>1</td>\n",
       "      <td>2015</td>\n",
       "    </tr>\n",
       "    <tr>\n",
       "      <th>41084</th>\n",
       "      <td>1112</td>\n",
       "      <td>6</td>\n",
       "      <td>2015-01-08</td>\n",
       "      <td>1.0</td>\n",
       "      <td>0</td>\n",
       "      <td>0</td>\n",
       "      <td>1</td>\n",
       "      <td>0</td>\n",
       "      <td>8</td>\n",
       "      <td>1</td>\n",
       "      <td>2015</td>\n",
       "    </tr>\n",
       "    <tr>\n",
       "      <th>41085</th>\n",
       "      <td>1113</td>\n",
       "      <td>6</td>\n",
       "      <td>2015-01-08</td>\n",
       "      <td>1.0</td>\n",
       "      <td>0</td>\n",
       "      <td>0</td>\n",
       "      <td>1</td>\n",
       "      <td>0</td>\n",
       "      <td>8</td>\n",
       "      <td>1</td>\n",
       "      <td>2015</td>\n",
       "    </tr>\n",
       "    <tr>\n",
       "      <th>41086</th>\n",
       "      <td>1114</td>\n",
       "      <td>6</td>\n",
       "      <td>2015-01-08</td>\n",
       "      <td>1.0</td>\n",
       "      <td>0</td>\n",
       "      <td>0</td>\n",
       "      <td>1</td>\n",
       "      <td>0</td>\n",
       "      <td>8</td>\n",
       "      <td>1</td>\n",
       "      <td>2015</td>\n",
       "    </tr>\n",
       "    <tr>\n",
       "      <th>41087</th>\n",
       "      <td>1115</td>\n",
       "      <td>6</td>\n",
       "      <td>2015-01-08</td>\n",
       "      <td>1.0</td>\n",
       "      <td>0</td>\n",
       "      <td>1</td>\n",
       "      <td>1</td>\n",
       "      <td>0</td>\n",
       "      <td>8</td>\n",
       "      <td>1</td>\n",
       "      <td>2015</td>\n",
       "    </tr>\n",
       "  </tbody>\n",
       "</table>\n",
       "<p>41088 rows × 11 columns</p>\n",
       "</div>"
      ],
      "text/plain": [
       "       Store  DayOfWeek       Date  Open  Promo  SchoolHoliday  \\\n",
       "0          1          4 2015-09-17   1.0      1              0   \n",
       "1          3          4 2015-09-17   1.0      1              0   \n",
       "2          7          4 2015-09-17   1.0      1              0   \n",
       "3          8          4 2015-09-17   1.0      1              0   \n",
       "4          9          4 2015-09-17   1.0      1              0   \n",
       "...      ...        ...        ...   ...    ...            ...   \n",
       "41083   1111          6 2015-01-08   1.0      0              0   \n",
       "41084   1112          6 2015-01-08   1.0      0              0   \n",
       "41085   1113          6 2015-01-08   1.0      0              0   \n",
       "41086   1114          6 2015-01-08   1.0      0              0   \n",
       "41087   1115          6 2015-01-08   1.0      0              1   \n",
       "\n",
       "       StateHoliday_0  StateHoliday_a  Day  Month  Year  \n",
       "0                   1               0   17      9  2015  \n",
       "1                   1               0   17      9  2015  \n",
       "2                   1               0   17      9  2015  \n",
       "3                   1               0   17      9  2015  \n",
       "4                   1               0   17      9  2015  \n",
       "...               ...             ...  ...    ...   ...  \n",
       "41083               1               0    8      1  2015  \n",
       "41084               1               0    8      1  2015  \n",
       "41085               1               0    8      1  2015  \n",
       "41086               1               0    8      1  2015  \n",
       "41087               1               0    8      1  2015  \n",
       "\n",
       "[41088 rows x 11 columns]"
      ]
     },
     "execution_count": 673,
     "metadata": {},
     "output_type": "execute_result"
    }
   ],
   "source": [
    "test.drop(['Customers', 'Sales'], axis=1)"
   ]
  },
  {
   "cell_type": "code",
   "execution_count": 674,
   "metadata": {},
   "outputs": [],
   "source": [
    "test['Day'] = test['Day'].astype(int)\n",
    "test['Month'] = test['Month'].astype(int)\n",
    "test['Year'] = test['Year'].astype(int)"
   ]
  },
  {
   "cell_type": "code",
   "execution_count": 675,
   "metadata": {},
   "outputs": [],
   "source": [
    "test = test.drop(['Customers','Sales', 'Date'], axis =1)"
   ]
  },
  {
   "cell_type": "code",
   "execution_count": 676,
   "metadata": {},
   "outputs": [
    {
     "name": "stdout",
     "output_type": "stream",
     "text": [
      "<class 'pandas.core.frame.DataFrame'>\n",
      "RangeIndex: 41088 entries, 0 to 41087\n",
      "Data columns (total 10 columns):\n",
      " #   Column          Non-Null Count  Dtype  \n",
      "---  ------          --------------  -----  \n",
      " 0   Store           41088 non-null  int64  \n",
      " 1   DayOfWeek       41088 non-null  int64  \n",
      " 2   Open            41077 non-null  float64\n",
      " 3   Promo           41088 non-null  int64  \n",
      " 4   SchoolHoliday   41088 non-null  int64  \n",
      " 5   StateHoliday_0  41088 non-null  uint8  \n",
      " 6   StateHoliday_a  41088 non-null  uint8  \n",
      " 7   Day             41088 non-null  int32  \n",
      " 8   Month           41088 non-null  int32  \n",
      " 9   Year            41088 non-null  int32  \n",
      "dtypes: float64(1), int32(3), int64(4), uint8(2)\n",
      "memory usage: 2.1 MB\n"
     ]
    }
   ],
   "source": [
    "test.info()"
   ]
  },
  {
   "cell_type": "code",
   "execution_count": 677,
   "metadata": {},
   "outputs": [
    {
     "data": {
      "text/html": [
       "<div>\n",
       "<style scoped>\n",
       "    .dataframe tbody tr th:only-of-type {\n",
       "        vertical-align: middle;\n",
       "    }\n",
       "\n",
       "    .dataframe tbody tr th {\n",
       "        vertical-align: top;\n",
       "    }\n",
       "\n",
       "    .dataframe thead th {\n",
       "        text-align: right;\n",
       "    }\n",
       "</style>\n",
       "<table border=\"1\" class=\"dataframe\">\n",
       "  <thead>\n",
       "    <tr style=\"text-align: right;\">\n",
       "      <th></th>\n",
       "      <th>Store</th>\n",
       "      <th>DayOfWeek</th>\n",
       "      <th>Open</th>\n",
       "      <th>Promo</th>\n",
       "      <th>SchoolHoliday</th>\n",
       "      <th>StateHoliday_0</th>\n",
       "      <th>StateHoliday_a</th>\n",
       "      <th>Day</th>\n",
       "      <th>Month</th>\n",
       "      <th>Year</th>\n",
       "    </tr>\n",
       "  </thead>\n",
       "  <tbody>\n",
       "    <tr>\n",
       "      <th>0</th>\n",
       "      <td>0.000000</td>\n",
       "      <td>0.5</td>\n",
       "      <td>1.0</td>\n",
       "      <td>1.0</td>\n",
       "      <td>0.0</td>\n",
       "      <td>1.0</td>\n",
       "      <td>0.0</td>\n",
       "      <td>0.391304</td>\n",
       "      <td>0.727273</td>\n",
       "      <td>0.0</td>\n",
       "    </tr>\n",
       "    <tr>\n",
       "      <th>1</th>\n",
       "      <td>0.001795</td>\n",
       "      <td>0.5</td>\n",
       "      <td>1.0</td>\n",
       "      <td>1.0</td>\n",
       "      <td>0.0</td>\n",
       "      <td>1.0</td>\n",
       "      <td>0.0</td>\n",
       "      <td>0.391304</td>\n",
       "      <td>0.727273</td>\n",
       "      <td>0.0</td>\n",
       "    </tr>\n",
       "    <tr>\n",
       "      <th>2</th>\n",
       "      <td>0.005386</td>\n",
       "      <td>0.5</td>\n",
       "      <td>1.0</td>\n",
       "      <td>1.0</td>\n",
       "      <td>0.0</td>\n",
       "      <td>1.0</td>\n",
       "      <td>0.0</td>\n",
       "      <td>0.391304</td>\n",
       "      <td>0.727273</td>\n",
       "      <td>0.0</td>\n",
       "    </tr>\n",
       "    <tr>\n",
       "      <th>3</th>\n",
       "      <td>0.006284</td>\n",
       "      <td>0.5</td>\n",
       "      <td>1.0</td>\n",
       "      <td>1.0</td>\n",
       "      <td>0.0</td>\n",
       "      <td>1.0</td>\n",
       "      <td>0.0</td>\n",
       "      <td>0.391304</td>\n",
       "      <td>0.727273</td>\n",
       "      <td>0.0</td>\n",
       "    </tr>\n",
       "    <tr>\n",
       "      <th>4</th>\n",
       "      <td>0.007181</td>\n",
       "      <td>0.5</td>\n",
       "      <td>1.0</td>\n",
       "      <td>1.0</td>\n",
       "      <td>0.0</td>\n",
       "      <td>1.0</td>\n",
       "      <td>0.0</td>\n",
       "      <td>0.391304</td>\n",
       "      <td>0.727273</td>\n",
       "      <td>0.0</td>\n",
       "    </tr>\n",
       "  </tbody>\n",
       "</table>\n",
       "</div>"
      ],
      "text/plain": [
       "      Store  DayOfWeek  Open  Promo  SchoolHoliday  StateHoliday_0  \\\n",
       "0  0.000000        0.5   1.0    1.0            0.0             1.0   \n",
       "1  0.001795        0.5   1.0    1.0            0.0             1.0   \n",
       "2  0.005386        0.5   1.0    1.0            0.0             1.0   \n",
       "3  0.006284        0.5   1.0    1.0            0.0             1.0   \n",
       "4  0.007181        0.5   1.0    1.0            0.0             1.0   \n",
       "\n",
       "   StateHoliday_a       Day     Month  Year  \n",
       "0             0.0  0.391304  0.727273   0.0  \n",
       "1             0.0  0.391304  0.727273   0.0  \n",
       "2             0.0  0.391304  0.727273   0.0  \n",
       "3             0.0  0.391304  0.727273   0.0  \n",
       "4             0.0  0.391304  0.727273   0.0  "
      ]
     },
     "execution_count": 677,
     "metadata": {},
     "output_type": "execute_result"
    }
   ],
   "source": [
    "from sklearn.preprocessing import MinMaxScaler\n",
    "scaler = MinMaxScaler()\n",
    "store_scale = pd.DataFrame(scaler.fit_transform(test), columns = test.columns)\n",
    "store_scale.head()"
   ]
  },
  {
   "cell_type": "code",
   "execution_count": 678,
   "metadata": {},
   "outputs": [],
   "source": [
    "from sklearn.impute import KNNImputer"
   ]
  },
  {
   "cell_type": "code",
   "execution_count": 679,
   "metadata": {},
   "outputs": [],
   "source": [
    "impute_knn = KNNImputer()\n",
    "test_imputed = pd.DataFrame(impute_knn.fit_transform(store_scale))"
   ]
  },
  {
   "cell_type": "code",
   "execution_count": 680,
   "metadata": {},
   "outputs": [
    {
     "data": {
      "text/plain": [
       "0    0.0\n",
       "1    0.0\n",
       "2    0.0\n",
       "3    0.0\n",
       "4    0.0\n",
       "5    0.0\n",
       "6    0.0\n",
       "7    0.0\n",
       "8    0.0\n",
       "9    0.0\n",
       "dtype: float64"
      ]
     },
     "execution_count": 680,
     "metadata": {},
     "output_type": "execute_result"
    }
   ],
   "source": [
    "test_imputed.isnull().mean()"
   ]
  },
  {
   "cell_type": "code",
   "execution_count": 681,
   "metadata": {},
   "outputs": [
    {
     "data": {
      "text/html": [
       "<div>\n",
       "<style scoped>\n",
       "    .dataframe tbody tr th:only-of-type {\n",
       "        vertical-align: middle;\n",
       "    }\n",
       "\n",
       "    .dataframe tbody tr th {\n",
       "        vertical-align: top;\n",
       "    }\n",
       "\n",
       "    .dataframe thead th {\n",
       "        text-align: right;\n",
       "    }\n",
       "</style>\n",
       "<table border=\"1\" class=\"dataframe\">\n",
       "  <thead>\n",
       "    <tr style=\"text-align: right;\">\n",
       "      <th></th>\n",
       "      <th>0</th>\n",
       "      <th>1</th>\n",
       "      <th>2</th>\n",
       "      <th>3</th>\n",
       "      <th>4</th>\n",
       "      <th>5</th>\n",
       "      <th>6</th>\n",
       "      <th>7</th>\n",
       "      <th>8</th>\n",
       "      <th>9</th>\n",
       "    </tr>\n",
       "  </thead>\n",
       "  <tbody>\n",
       "    <tr>\n",
       "      <th>0</th>\n",
       "      <td>0.000000</td>\n",
       "      <td>0.5</td>\n",
       "      <td>1.0</td>\n",
       "      <td>1.0</td>\n",
       "      <td>0.0</td>\n",
       "      <td>1.0</td>\n",
       "      <td>0.0</td>\n",
       "      <td>0.391304</td>\n",
       "      <td>0.727273</td>\n",
       "      <td>0.0</td>\n",
       "    </tr>\n",
       "    <tr>\n",
       "      <th>1</th>\n",
       "      <td>0.001795</td>\n",
       "      <td>0.5</td>\n",
       "      <td>1.0</td>\n",
       "      <td>1.0</td>\n",
       "      <td>0.0</td>\n",
       "      <td>1.0</td>\n",
       "      <td>0.0</td>\n",
       "      <td>0.391304</td>\n",
       "      <td>0.727273</td>\n",
       "      <td>0.0</td>\n",
       "    </tr>\n",
       "    <tr>\n",
       "      <th>2</th>\n",
       "      <td>0.005386</td>\n",
       "      <td>0.5</td>\n",
       "      <td>1.0</td>\n",
       "      <td>1.0</td>\n",
       "      <td>0.0</td>\n",
       "      <td>1.0</td>\n",
       "      <td>0.0</td>\n",
       "      <td>0.391304</td>\n",
       "      <td>0.727273</td>\n",
       "      <td>0.0</td>\n",
       "    </tr>\n",
       "    <tr>\n",
       "      <th>3</th>\n",
       "      <td>0.006284</td>\n",
       "      <td>0.5</td>\n",
       "      <td>1.0</td>\n",
       "      <td>1.0</td>\n",
       "      <td>0.0</td>\n",
       "      <td>1.0</td>\n",
       "      <td>0.0</td>\n",
       "      <td>0.391304</td>\n",
       "      <td>0.727273</td>\n",
       "      <td>0.0</td>\n",
       "    </tr>\n",
       "    <tr>\n",
       "      <th>4</th>\n",
       "      <td>0.007181</td>\n",
       "      <td>0.5</td>\n",
       "      <td>1.0</td>\n",
       "      <td>1.0</td>\n",
       "      <td>0.0</td>\n",
       "      <td>1.0</td>\n",
       "      <td>0.0</td>\n",
       "      <td>0.391304</td>\n",
       "      <td>0.727273</td>\n",
       "      <td>0.0</td>\n",
       "    </tr>\n",
       "  </tbody>\n",
       "</table>\n",
       "</div>"
      ],
      "text/plain": [
       "          0    1    2    3    4    5    6         7         8    9\n",
       "0  0.000000  0.5  1.0  1.0  0.0  1.0  0.0  0.391304  0.727273  0.0\n",
       "1  0.001795  0.5  1.0  1.0  0.0  1.0  0.0  0.391304  0.727273  0.0\n",
       "2  0.005386  0.5  1.0  1.0  0.0  1.0  0.0  0.391304  0.727273  0.0\n",
       "3  0.006284  0.5  1.0  1.0  0.0  1.0  0.0  0.391304  0.727273  0.0\n",
       "4  0.007181  0.5  1.0  1.0  0.0  1.0  0.0  0.391304  0.727273  0.0"
      ]
     },
     "execution_count": 681,
     "metadata": {},
     "output_type": "execute_result"
    }
   ],
   "source": [
    "test_imputed.head()"
   ]
  },
  {
   "cell_type": "code",
   "execution_count": 682,
   "metadata": {},
   "outputs": [],
   "source": [
    "test_imputed.columns = ['Store','DayOfWeek','Open','Promo','SchoolHoliday','StateHoliday_0','StateHoliday_a','Day','Month','Year']"
   ]
  },
  {
   "cell_type": "code",
   "execution_count": 683,
   "metadata": {},
   "outputs": [
    {
     "data": {
      "text/html": [
       "<div>\n",
       "<style scoped>\n",
       "    .dataframe tbody tr th:only-of-type {\n",
       "        vertical-align: middle;\n",
       "    }\n",
       "\n",
       "    .dataframe tbody tr th {\n",
       "        vertical-align: top;\n",
       "    }\n",
       "\n",
       "    .dataframe thead th {\n",
       "        text-align: right;\n",
       "    }\n",
       "</style>\n",
       "<table border=\"1\" class=\"dataframe\">\n",
       "  <thead>\n",
       "    <tr style=\"text-align: right;\">\n",
       "      <th></th>\n",
       "      <th>Store</th>\n",
       "      <th>DayOfWeek</th>\n",
       "      <th>Open</th>\n",
       "      <th>Promo</th>\n",
       "      <th>SchoolHoliday</th>\n",
       "      <th>StateHoliday_0</th>\n",
       "      <th>StateHoliday_a</th>\n",
       "      <th>Day</th>\n",
       "      <th>Month</th>\n",
       "      <th>Year</th>\n",
       "    </tr>\n",
       "  </thead>\n",
       "  <tbody>\n",
       "    <tr>\n",
       "      <th>0</th>\n",
       "      <td>0.000000</td>\n",
       "      <td>0.5</td>\n",
       "      <td>1.0</td>\n",
       "      <td>1.0</td>\n",
       "      <td>0.0</td>\n",
       "      <td>1.0</td>\n",
       "      <td>0.0</td>\n",
       "      <td>0.391304</td>\n",
       "      <td>0.727273</td>\n",
       "      <td>0.0</td>\n",
       "    </tr>\n",
       "    <tr>\n",
       "      <th>1</th>\n",
       "      <td>0.001795</td>\n",
       "      <td>0.5</td>\n",
       "      <td>1.0</td>\n",
       "      <td>1.0</td>\n",
       "      <td>0.0</td>\n",
       "      <td>1.0</td>\n",
       "      <td>0.0</td>\n",
       "      <td>0.391304</td>\n",
       "      <td>0.727273</td>\n",
       "      <td>0.0</td>\n",
       "    </tr>\n",
       "    <tr>\n",
       "      <th>2</th>\n",
       "      <td>0.005386</td>\n",
       "      <td>0.5</td>\n",
       "      <td>1.0</td>\n",
       "      <td>1.0</td>\n",
       "      <td>0.0</td>\n",
       "      <td>1.0</td>\n",
       "      <td>0.0</td>\n",
       "      <td>0.391304</td>\n",
       "      <td>0.727273</td>\n",
       "      <td>0.0</td>\n",
       "    </tr>\n",
       "    <tr>\n",
       "      <th>3</th>\n",
       "      <td>0.006284</td>\n",
       "      <td>0.5</td>\n",
       "      <td>1.0</td>\n",
       "      <td>1.0</td>\n",
       "      <td>0.0</td>\n",
       "      <td>1.0</td>\n",
       "      <td>0.0</td>\n",
       "      <td>0.391304</td>\n",
       "      <td>0.727273</td>\n",
       "      <td>0.0</td>\n",
       "    </tr>\n",
       "    <tr>\n",
       "      <th>4</th>\n",
       "      <td>0.007181</td>\n",
       "      <td>0.5</td>\n",
       "      <td>1.0</td>\n",
       "      <td>1.0</td>\n",
       "      <td>0.0</td>\n",
       "      <td>1.0</td>\n",
       "      <td>0.0</td>\n",
       "      <td>0.391304</td>\n",
       "      <td>0.727273</td>\n",
       "      <td>0.0</td>\n",
       "    </tr>\n",
       "  </tbody>\n",
       "</table>\n",
       "</div>"
      ],
      "text/plain": [
       "      Store  DayOfWeek  Open  Promo  SchoolHoliday  StateHoliday_0  \\\n",
       "0  0.000000        0.5   1.0    1.0            0.0             1.0   \n",
       "1  0.001795        0.5   1.0    1.0            0.0             1.0   \n",
       "2  0.005386        0.5   1.0    1.0            0.0             1.0   \n",
       "3  0.006284        0.5   1.0    1.0            0.0             1.0   \n",
       "4  0.007181        0.5   1.0    1.0            0.0             1.0   \n",
       "\n",
       "   StateHoliday_a       Day     Month  Year  \n",
       "0             0.0  0.391304  0.727273   0.0  \n",
       "1             0.0  0.391304  0.727273   0.0  \n",
       "2             0.0  0.391304  0.727273   0.0  \n",
       "3             0.0  0.391304  0.727273   0.0  \n",
       "4             0.0  0.391304  0.727273   0.0  "
      ]
     },
     "execution_count": 683,
     "metadata": {},
     "output_type": "execute_result"
    }
   ],
   "source": [
    "test_imputed.head()"
   ]
  },
  {
   "cell_type": "code",
   "execution_count": 684,
   "metadata": {},
   "outputs": [],
   "source": [
    "test_imputed = pd.DataFrame(scaler.inverse_transform(test_imputed))"
   ]
  },
  {
   "cell_type": "code",
   "execution_count": 685,
   "metadata": {},
   "outputs": [
    {
     "data": {
      "text/html": [
       "<div>\n",
       "<style scoped>\n",
       "    .dataframe tbody tr th:only-of-type {\n",
       "        vertical-align: middle;\n",
       "    }\n",
       "\n",
       "    .dataframe tbody tr th {\n",
       "        vertical-align: top;\n",
       "    }\n",
       "\n",
       "    .dataframe thead th {\n",
       "        text-align: right;\n",
       "    }\n",
       "</style>\n",
       "<table border=\"1\" class=\"dataframe\">\n",
       "  <thead>\n",
       "    <tr style=\"text-align: right;\">\n",
       "      <th></th>\n",
       "      <th>0</th>\n",
       "      <th>1</th>\n",
       "      <th>2</th>\n",
       "      <th>3</th>\n",
       "      <th>4</th>\n",
       "      <th>5</th>\n",
       "      <th>6</th>\n",
       "      <th>7</th>\n",
       "      <th>8</th>\n",
       "      <th>9</th>\n",
       "    </tr>\n",
       "  </thead>\n",
       "  <tbody>\n",
       "    <tr>\n",
       "      <th>0</th>\n",
       "      <td>1.0</td>\n",
       "      <td>4.0</td>\n",
       "      <td>1.0</td>\n",
       "      <td>1.0</td>\n",
       "      <td>0.0</td>\n",
       "      <td>1.0</td>\n",
       "      <td>0.0</td>\n",
       "      <td>17.0</td>\n",
       "      <td>9.0</td>\n",
       "      <td>2015.0</td>\n",
       "    </tr>\n",
       "    <tr>\n",
       "      <th>1</th>\n",
       "      <td>3.0</td>\n",
       "      <td>4.0</td>\n",
       "      <td>1.0</td>\n",
       "      <td>1.0</td>\n",
       "      <td>0.0</td>\n",
       "      <td>1.0</td>\n",
       "      <td>0.0</td>\n",
       "      <td>17.0</td>\n",
       "      <td>9.0</td>\n",
       "      <td>2015.0</td>\n",
       "    </tr>\n",
       "    <tr>\n",
       "      <th>2</th>\n",
       "      <td>7.0</td>\n",
       "      <td>4.0</td>\n",
       "      <td>1.0</td>\n",
       "      <td>1.0</td>\n",
       "      <td>0.0</td>\n",
       "      <td>1.0</td>\n",
       "      <td>0.0</td>\n",
       "      <td>17.0</td>\n",
       "      <td>9.0</td>\n",
       "      <td>2015.0</td>\n",
       "    </tr>\n",
       "    <tr>\n",
       "      <th>3</th>\n",
       "      <td>8.0</td>\n",
       "      <td>4.0</td>\n",
       "      <td>1.0</td>\n",
       "      <td>1.0</td>\n",
       "      <td>0.0</td>\n",
       "      <td>1.0</td>\n",
       "      <td>0.0</td>\n",
       "      <td>17.0</td>\n",
       "      <td>9.0</td>\n",
       "      <td>2015.0</td>\n",
       "    </tr>\n",
       "    <tr>\n",
       "      <th>4</th>\n",
       "      <td>9.0</td>\n",
       "      <td>4.0</td>\n",
       "      <td>1.0</td>\n",
       "      <td>1.0</td>\n",
       "      <td>0.0</td>\n",
       "      <td>1.0</td>\n",
       "      <td>0.0</td>\n",
       "      <td>17.0</td>\n",
       "      <td>9.0</td>\n",
       "      <td>2015.0</td>\n",
       "    </tr>\n",
       "  </tbody>\n",
       "</table>\n",
       "</div>"
      ],
      "text/plain": [
       "     0    1    2    3    4    5    6     7    8       9\n",
       "0  1.0  4.0  1.0  1.0  0.0  1.0  0.0  17.0  9.0  2015.0\n",
       "1  3.0  4.0  1.0  1.0  0.0  1.0  0.0  17.0  9.0  2015.0\n",
       "2  7.0  4.0  1.0  1.0  0.0  1.0  0.0  17.0  9.0  2015.0\n",
       "3  8.0  4.0  1.0  1.0  0.0  1.0  0.0  17.0  9.0  2015.0\n",
       "4  9.0  4.0  1.0  1.0  0.0  1.0  0.0  17.0  9.0  2015.0"
      ]
     },
     "execution_count": 685,
     "metadata": {},
     "output_type": "execute_result"
    }
   ],
   "source": [
    "test_imputed.head()"
   ]
  },
  {
   "cell_type": "code",
   "execution_count": 686,
   "metadata": {},
   "outputs": [],
   "source": [
    "test_imputed.columns = ['Store','DayOfWeek','Open','Promo','SchoolHoliday','StateHoliday_0','StateHoliday_a','Day','Month','Year']"
   ]
  },
  {
   "cell_type": "code",
   "execution_count": 687,
   "metadata": {},
   "outputs": [
    {
     "data": {
      "text/plain": [
       "Store             0.0\n",
       "DayOfWeek         0.0\n",
       "Open              0.0\n",
       "Promo             0.0\n",
       "SchoolHoliday     0.0\n",
       "StateHoliday_0    0.0\n",
       "StateHoliday_a    0.0\n",
       "Day               0.0\n",
       "Month             0.0\n",
       "Year              0.0\n",
       "dtype: float64"
      ]
     },
     "execution_count": 687,
     "metadata": {},
     "output_type": "execute_result"
    }
   ],
   "source": [
    "test_imputed.isnull().mean()"
   ]
  },
  {
   "cell_type": "code",
   "execution_count": 688,
   "metadata": {},
   "outputs": [
    {
     "data": {
      "text/html": [
       "<div>\n",
       "<style scoped>\n",
       "    .dataframe tbody tr th:only-of-type {\n",
       "        vertical-align: middle;\n",
       "    }\n",
       "\n",
       "    .dataframe tbody tr th {\n",
       "        vertical-align: top;\n",
       "    }\n",
       "\n",
       "    .dataframe thead th {\n",
       "        text-align: right;\n",
       "    }\n",
       "</style>\n",
       "<table border=\"1\" class=\"dataframe\">\n",
       "  <thead>\n",
       "    <tr style=\"text-align: right;\">\n",
       "      <th></th>\n",
       "      <th>Store</th>\n",
       "      <th>DayOfWeek</th>\n",
       "      <th>Open</th>\n",
       "      <th>Promo</th>\n",
       "      <th>SchoolHoliday</th>\n",
       "      <th>StateHoliday_0</th>\n",
       "      <th>StateHoliday_a</th>\n",
       "      <th>Day</th>\n",
       "      <th>Month</th>\n",
       "      <th>Year</th>\n",
       "    </tr>\n",
       "  </thead>\n",
       "  <tbody>\n",
       "    <tr>\n",
       "      <th>0</th>\n",
       "      <td>1.0</td>\n",
       "      <td>4.0</td>\n",
       "      <td>1.0</td>\n",
       "      <td>1.0</td>\n",
       "      <td>0.0</td>\n",
       "      <td>1.0</td>\n",
       "      <td>0.0</td>\n",
       "      <td>17.0</td>\n",
       "      <td>9.0</td>\n",
       "      <td>2015.0</td>\n",
       "    </tr>\n",
       "    <tr>\n",
       "      <th>1</th>\n",
       "      <td>3.0</td>\n",
       "      <td>4.0</td>\n",
       "      <td>1.0</td>\n",
       "      <td>1.0</td>\n",
       "      <td>0.0</td>\n",
       "      <td>1.0</td>\n",
       "      <td>0.0</td>\n",
       "      <td>17.0</td>\n",
       "      <td>9.0</td>\n",
       "      <td>2015.0</td>\n",
       "    </tr>\n",
       "    <tr>\n",
       "      <th>2</th>\n",
       "      <td>7.0</td>\n",
       "      <td>4.0</td>\n",
       "      <td>1.0</td>\n",
       "      <td>1.0</td>\n",
       "      <td>0.0</td>\n",
       "      <td>1.0</td>\n",
       "      <td>0.0</td>\n",
       "      <td>17.0</td>\n",
       "      <td>9.0</td>\n",
       "      <td>2015.0</td>\n",
       "    </tr>\n",
       "    <tr>\n",
       "      <th>3</th>\n",
       "      <td>8.0</td>\n",
       "      <td>4.0</td>\n",
       "      <td>1.0</td>\n",
       "      <td>1.0</td>\n",
       "      <td>0.0</td>\n",
       "      <td>1.0</td>\n",
       "      <td>0.0</td>\n",
       "      <td>17.0</td>\n",
       "      <td>9.0</td>\n",
       "      <td>2015.0</td>\n",
       "    </tr>\n",
       "    <tr>\n",
       "      <th>4</th>\n",
       "      <td>9.0</td>\n",
       "      <td>4.0</td>\n",
       "      <td>1.0</td>\n",
       "      <td>1.0</td>\n",
       "      <td>0.0</td>\n",
       "      <td>1.0</td>\n",
       "      <td>0.0</td>\n",
       "      <td>17.0</td>\n",
       "      <td>9.0</td>\n",
       "      <td>2015.0</td>\n",
       "    </tr>\n",
       "  </tbody>\n",
       "</table>\n",
       "</div>"
      ],
      "text/plain": [
       "   Store  DayOfWeek  Open  Promo  SchoolHoliday  StateHoliday_0  \\\n",
       "0    1.0        4.0   1.0    1.0            0.0             1.0   \n",
       "1    3.0        4.0   1.0    1.0            0.0             1.0   \n",
       "2    7.0        4.0   1.0    1.0            0.0             1.0   \n",
       "3    8.0        4.0   1.0    1.0            0.0             1.0   \n",
       "4    9.0        4.0   1.0    1.0            0.0             1.0   \n",
       "\n",
       "   StateHoliday_a   Day  Month    Year  \n",
       "0             0.0  17.0    9.0  2015.0  \n",
       "1             0.0  17.0    9.0  2015.0  \n",
       "2             0.0  17.0    9.0  2015.0  \n",
       "3             0.0  17.0    9.0  2015.0  \n",
       "4             0.0  17.0    9.0  2015.0  "
      ]
     },
     "execution_count": 688,
     "metadata": {},
     "output_type": "execute_result"
    }
   ],
   "source": [
    "test_imputed.head()"
   ]
  },
  {
   "cell_type": "markdown",
   "metadata": {},
   "source": [
    "####  Merging the imputed store dataset with the imputed test dataset this is the testing dataset"
   ]
  },
  {
   "cell_type": "code",
   "execution_count": 689,
   "metadata": {},
   "outputs": [
    {
     "name": "stderr",
     "output_type": "stream",
     "text": [
      "C:\\Users\\ispan\\anaconda3\\lib\\site-packages\\pandas\\core\\reshape\\merge.py:1113: UserWarning: You are merging on int and float columns where the float values are not equal to their int representation\n",
      "  warnings.warn(\n"
     ]
    }
   ],
   "source": [
    "test_df = pd.merge(left=test_imputed, right=store_imputed, left_on=\"Store\", right_on=\"Store\")"
   ]
  },
  {
   "cell_type": "code",
   "execution_count": 690,
   "metadata": {},
   "outputs": [],
   "source": [
    "# Adding back the date dataset\n",
    "test_df = pd.merge(left=test_df, right=test_date, left_on=\"Store\", right_on=\"Store\")"
   ]
  },
  {
   "cell_type": "code",
   "execution_count": 691,
   "metadata": {
    "scrolled": false
   },
   "outputs": [
    {
     "name": "stdout",
     "output_type": "stream",
     "text": [
      "<class 'pandas.core.frame.DataFrame'>\n",
      "Int64Index: 1905408 entries, 0 to 1905407\n",
      "Data columns (total 20 columns):\n",
      " #   Column                     Dtype         \n",
      "---  ------                     -----         \n",
      " 0   Store                      float64       \n",
      " 1   DayOfWeek                  float64       \n",
      " 2   Open                       float64       \n",
      " 3   Promo                      float64       \n",
      " 4   SchoolHoliday              float64       \n",
      " 5   StateHoliday_0             float64       \n",
      " 6   StateHoliday_a             float64       \n",
      " 7   Day                        float64       \n",
      " 8   Month                      float64       \n",
      " 9   Year                       float64       \n",
      " 10  StoreType                  object        \n",
      " 11  Assortment                 object        \n",
      " 12  CompetitionDistance        int32         \n",
      " 13  CompetitionOpenSinceMonth  int32         \n",
      " 14  CompetitionOpenSinceYear   int32         \n",
      " 15  Promo2                     int32         \n",
      " 16  Promo2SinceWeek            int32         \n",
      " 17  Promo2SinceYear            int32         \n",
      " 18  PromoInterval              object        \n",
      " 19  Date                       datetime64[ns]\n",
      "dtypes: datetime64[ns](1), float64(10), int32(6), object(3)\n",
      "memory usage: 261.7+ MB\n"
     ]
    }
   ],
   "source": [
    "test_df.info()"
   ]
  },
  {
   "cell_type": "code",
   "execution_count": 692,
   "metadata": {},
   "outputs": [],
   "source": [
    "test_df = test_df.drop(['Assortment'], axis =1)"
   ]
  },
  {
   "cell_type": "code",
   "execution_count": 693,
   "metadata": {},
   "outputs": [
    {
     "data": {
      "text/html": [
       "<div>\n",
       "<style scoped>\n",
       "    .dataframe tbody tr th:only-of-type {\n",
       "        vertical-align: middle;\n",
       "    }\n",
       "\n",
       "    .dataframe tbody tr th {\n",
       "        vertical-align: top;\n",
       "    }\n",
       "\n",
       "    .dataframe thead th {\n",
       "        text-align: right;\n",
       "    }\n",
       "</style>\n",
       "<table border=\"1\" class=\"dataframe\">\n",
       "  <thead>\n",
       "    <tr style=\"text-align: right;\">\n",
       "      <th></th>\n",
       "      <th>Store</th>\n",
       "      <th>DayOfWeek</th>\n",
       "      <th>Open</th>\n",
       "      <th>Promo</th>\n",
       "      <th>SchoolHoliday</th>\n",
       "      <th>StateHoliday_0</th>\n",
       "      <th>StateHoliday_a</th>\n",
       "      <th>Day</th>\n",
       "      <th>Month</th>\n",
       "      <th>Year</th>\n",
       "      <th>StoreType</th>\n",
       "      <th>CompetitionDistance</th>\n",
       "      <th>CompetitionOpenSinceMonth</th>\n",
       "      <th>CompetitionOpenSinceYear</th>\n",
       "      <th>Promo2</th>\n",
       "      <th>Promo2SinceWeek</th>\n",
       "      <th>Promo2SinceYear</th>\n",
       "      <th>PromoInterval</th>\n",
       "      <th>Date</th>\n",
       "    </tr>\n",
       "  </thead>\n",
       "  <tbody>\n",
       "    <tr>\n",
       "      <th>0</th>\n",
       "      <td>1.0</td>\n",
       "      <td>4.0</td>\n",
       "      <td>1.0</td>\n",
       "      <td>1.0</td>\n",
       "      <td>0.0</td>\n",
       "      <td>1.0</td>\n",
       "      <td>0.0</td>\n",
       "      <td>17.0</td>\n",
       "      <td>9.0</td>\n",
       "      <td>2015.0</td>\n",
       "      <td>c</td>\n",
       "      <td>1270</td>\n",
       "      <td>9</td>\n",
       "      <td>2007</td>\n",
       "      <td>0</td>\n",
       "      <td>14</td>\n",
       "      <td>2010</td>\n",
       "      <td>Feb,May,Aug,Nov</td>\n",
       "      <td>2015-09-17</td>\n",
       "    </tr>\n",
       "    <tr>\n",
       "      <th>1</th>\n",
       "      <td>1.0</td>\n",
       "      <td>4.0</td>\n",
       "      <td>1.0</td>\n",
       "      <td>1.0</td>\n",
       "      <td>0.0</td>\n",
       "      <td>1.0</td>\n",
       "      <td>0.0</td>\n",
       "      <td>17.0</td>\n",
       "      <td>9.0</td>\n",
       "      <td>2015.0</td>\n",
       "      <td>c</td>\n",
       "      <td>1270</td>\n",
       "      <td>9</td>\n",
       "      <td>2007</td>\n",
       "      <td>0</td>\n",
       "      <td>14</td>\n",
       "      <td>2010</td>\n",
       "      <td>Feb,May,Aug,Nov</td>\n",
       "      <td>2015-09-16</td>\n",
       "    </tr>\n",
       "    <tr>\n",
       "      <th>2</th>\n",
       "      <td>1.0</td>\n",
       "      <td>4.0</td>\n",
       "      <td>1.0</td>\n",
       "      <td>1.0</td>\n",
       "      <td>0.0</td>\n",
       "      <td>1.0</td>\n",
       "      <td>0.0</td>\n",
       "      <td>17.0</td>\n",
       "      <td>9.0</td>\n",
       "      <td>2015.0</td>\n",
       "      <td>c</td>\n",
       "      <td>1270</td>\n",
       "      <td>9</td>\n",
       "      <td>2007</td>\n",
       "      <td>0</td>\n",
       "      <td>14</td>\n",
       "      <td>2010</td>\n",
       "      <td>Feb,May,Aug,Nov</td>\n",
       "      <td>2015-09-15</td>\n",
       "    </tr>\n",
       "    <tr>\n",
       "      <th>3</th>\n",
       "      <td>1.0</td>\n",
       "      <td>4.0</td>\n",
       "      <td>1.0</td>\n",
       "      <td>1.0</td>\n",
       "      <td>0.0</td>\n",
       "      <td>1.0</td>\n",
       "      <td>0.0</td>\n",
       "      <td>17.0</td>\n",
       "      <td>9.0</td>\n",
       "      <td>2015.0</td>\n",
       "      <td>c</td>\n",
       "      <td>1270</td>\n",
       "      <td>9</td>\n",
       "      <td>2007</td>\n",
       "      <td>0</td>\n",
       "      <td>14</td>\n",
       "      <td>2010</td>\n",
       "      <td>Feb,May,Aug,Nov</td>\n",
       "      <td>2015-09-14</td>\n",
       "    </tr>\n",
       "    <tr>\n",
       "      <th>4</th>\n",
       "      <td>1.0</td>\n",
       "      <td>4.0</td>\n",
       "      <td>1.0</td>\n",
       "      <td>1.0</td>\n",
       "      <td>0.0</td>\n",
       "      <td>1.0</td>\n",
       "      <td>0.0</td>\n",
       "      <td>17.0</td>\n",
       "      <td>9.0</td>\n",
       "      <td>2015.0</td>\n",
       "      <td>c</td>\n",
       "      <td>1270</td>\n",
       "      <td>9</td>\n",
       "      <td>2007</td>\n",
       "      <td>0</td>\n",
       "      <td>14</td>\n",
       "      <td>2010</td>\n",
       "      <td>Feb,May,Aug,Nov</td>\n",
       "      <td>2015-09-13</td>\n",
       "    </tr>\n",
       "  </tbody>\n",
       "</table>\n",
       "</div>"
      ],
      "text/plain": [
       "   Store  DayOfWeek  Open  Promo  SchoolHoliday  StateHoliday_0  \\\n",
       "0    1.0        4.0   1.0    1.0            0.0             1.0   \n",
       "1    1.0        4.0   1.0    1.0            0.0             1.0   \n",
       "2    1.0        4.0   1.0    1.0            0.0             1.0   \n",
       "3    1.0        4.0   1.0    1.0            0.0             1.0   \n",
       "4    1.0        4.0   1.0    1.0            0.0             1.0   \n",
       "\n",
       "   StateHoliday_a   Day  Month    Year StoreType  CompetitionDistance  \\\n",
       "0             0.0  17.0    9.0  2015.0         c                 1270   \n",
       "1             0.0  17.0    9.0  2015.0         c                 1270   \n",
       "2             0.0  17.0    9.0  2015.0         c                 1270   \n",
       "3             0.0  17.0    9.0  2015.0         c                 1270   \n",
       "4             0.0  17.0    9.0  2015.0         c                 1270   \n",
       "\n",
       "   CompetitionOpenSinceMonth  CompetitionOpenSinceYear  Promo2  \\\n",
       "0                          9                      2007       0   \n",
       "1                          9                      2007       0   \n",
       "2                          9                      2007       0   \n",
       "3                          9                      2007       0   \n",
       "4                          9                      2007       0   \n",
       "\n",
       "   Promo2SinceWeek  Promo2SinceYear    PromoInterval       Date  \n",
       "0               14             2010  Feb,May,Aug,Nov 2015-09-17  \n",
       "1               14             2010  Feb,May,Aug,Nov 2015-09-16  \n",
       "2               14             2010  Feb,May,Aug,Nov 2015-09-15  \n",
       "3               14             2010  Feb,May,Aug,Nov 2015-09-14  \n",
       "4               14             2010  Feb,May,Aug,Nov 2015-09-13  "
      ]
     },
     "execution_count": 693,
     "metadata": {},
     "output_type": "execute_result"
    }
   ],
   "source": [
    "test_df.head()"
   ]
  },
  {
   "cell_type": "code",
   "execution_count": 694,
   "metadata": {},
   "outputs": [],
   "source": [
    "test_df = pd.get_dummies(test_df, columns=[\"StoreType\", \"PromoInterval\"])"
   ]
  },
  {
   "cell_type": "code",
   "execution_count": 695,
   "metadata": {},
   "outputs": [
    {
     "name": "stdout",
     "output_type": "stream",
     "text": [
      "<class 'pandas.core.frame.DataFrame'>\n",
      "Int64Index: 1905408 entries, 0 to 1905407\n",
      "Data columns (total 24 columns):\n",
      " #   Column                          Dtype         \n",
      "---  ------                          -----         \n",
      " 0   Store                           float64       \n",
      " 1   DayOfWeek                       float64       \n",
      " 2   Open                            float64       \n",
      " 3   Promo                           float64       \n",
      " 4   SchoolHoliday                   float64       \n",
      " 5   StateHoliday_0                  float64       \n",
      " 6   StateHoliday_a                  float64       \n",
      " 7   Day                             float64       \n",
      " 8   Month                           float64       \n",
      " 9   Year                            float64       \n",
      " 10  CompetitionDistance             int32         \n",
      " 11  CompetitionOpenSinceMonth       int32         \n",
      " 12  CompetitionOpenSinceYear        int32         \n",
      " 13  Promo2                          int32         \n",
      " 14  Promo2SinceWeek                 int32         \n",
      " 15  Promo2SinceYear                 int32         \n",
      " 16  Date                            datetime64[ns]\n",
      " 17  StoreType_a                     uint8         \n",
      " 18  StoreType_b                     uint8         \n",
      " 19  StoreType_c                     uint8         \n",
      " 20  StoreType_d                     uint8         \n",
      " 21  PromoInterval_Feb,May,Aug,Nov   uint8         \n",
      " 22  PromoInterval_Jan,Apr,Jul,Oct   uint8         \n",
      " 23  PromoInterval_Mar,Jun,Sept,Dec  uint8         \n",
      "dtypes: datetime64[ns](1), float64(10), int32(6), uint8(7)\n",
      "memory usage: 230.8 MB\n"
     ]
    }
   ],
   "source": [
    "test_df.info()"
   ]
  },
  {
   "cell_type": "code",
   "execution_count": 696,
   "metadata": {},
   "outputs": [],
   "source": [
    "test_df.to_csv(\"test_df_KNN.csv\")"
   ]
  },
  {
   "cell_type": "code",
   "execution_count": 709,
   "metadata": {},
   "outputs": [],
   "source": [
    "test_df_vif = test_df.drop(['CompetitionOpenSinceYear','Promo2SinceYear','Year','CompetitionOpenSinceMonth','Open','Date'], axis =1)"
   ]
  },
  {
   "cell_type": "code",
   "execution_count": 710,
   "metadata": {},
   "outputs": [],
   "source": [
    "test_df_vif.to_csv(\"test_df_KNN_VIF.csv\")"
   ]
  },
  {
   "cell_type": "code",
   "execution_count": 711,
   "metadata": {},
   "outputs": [
    {
     "name": "stdout",
     "output_type": "stream",
     "text": [
      "<class 'pandas.core.frame.DataFrame'>\n",
      "Int64Index: 1905408 entries, 0 to 1905407\n",
      "Data columns (total 18 columns):\n",
      " #   Column                          Dtype  \n",
      "---  ------                          -----  \n",
      " 0   Store                           float64\n",
      " 1   DayOfWeek                       float64\n",
      " 2   Promo                           float64\n",
      " 3   SchoolHoliday                   float64\n",
      " 4   StateHoliday_0                  float64\n",
      " 5   StateHoliday_a                  float64\n",
      " 6   Day                             float64\n",
      " 7   Month                           float64\n",
      " 8   CompetitionDistance             int32  \n",
      " 9   Promo2                          int32  \n",
      " 10  Promo2SinceWeek                 int32  \n",
      " 11  StoreType_a                     uint8  \n",
      " 12  StoreType_b                     uint8  \n",
      " 13  StoreType_c                     uint8  \n",
      " 14  StoreType_d                     uint8  \n",
      " 15  PromoInterval_Feb,May,Aug,Nov   uint8  \n",
      " 16  PromoInterval_Jan,Apr,Jul,Oct   uint8  \n",
      " 17  PromoInterval_Mar,Jun,Sept,Dec  uint8  \n",
      "dtypes: float64(8), int32(3), uint8(7)\n",
      "memory usage: 165.4 MB\n"
     ]
    }
   ],
   "source": [
    "test_df_if.info()"
   ]
  },
  {
   "cell_type": "code",
   "execution_count": 712,
   "metadata": {
    "scrolled": false
   },
   "outputs": [
    {
     "name": "stdout",
     "output_type": "stream",
     "text": [
      "<class 'pandas.core.frame.DataFrame'>\n",
      "RangeIndex: 1017762 entries, 0 to 1017761\n",
      "Data columns (total 19 columns):\n",
      " #   Column                          Non-Null Count    Dtype  \n",
      "---  ------                          --------------    -----  \n",
      " 0   Store                           1017762 non-null  float64\n",
      " 1   DayOfWeek                       1017762 non-null  float64\n",
      " 2   Sales                           1017762 non-null  float64\n",
      " 3   Promo                           1017762 non-null  float64\n",
      " 4   SchoolHoliday                   1017762 non-null  float64\n",
      " 5   CompetitionDistance             1017762 non-null  float64\n",
      " 6   Promo2                          1017762 non-null  float64\n",
      " 7   Promo2SinceWeek                 1017762 non-null  float64\n",
      " 8   Day                             1017762 non-null  float64\n",
      " 9   Month                           1017762 non-null  float64\n",
      " 10  StateHoliday_0                  1017762 non-null  float64\n",
      " 11  StateHoliday_a                  1017762 non-null  float64\n",
      " 12  StoreType_a                     1017762 non-null  float64\n",
      " 13  StoreType_b                     1017762 non-null  float64\n",
      " 14  StoreType_c                     1017762 non-null  float64\n",
      " 15  StoreType_d                     1017762 non-null  float64\n",
      " 16  PromoInterval_Feb,May,Aug,Nov   1017762 non-null  float64\n",
      " 17  PromoInterval_Jan,Apr,Jul,Oct   1017762 non-null  float64\n",
      " 18  PromoInterval_Mar,Jun,Sept,Dec  1017762 non-null  float64\n",
      "dtypes: float64(19)\n",
      "memory usage: 147.5 MB\n"
     ]
    }
   ],
   "source": [
    "vif_reduced_dummy.info()"
   ]
  },
  {
   "cell_type": "markdown",
   "metadata": {},
   "source": [
    "# ANOVA results"
   ]
  },
  {
   "cell_type": "code",
   "execution_count": null,
   "metadata": {},
   "outputs": [],
   "source": [
    "second_df.info()"
   ]
  },
  {
   "cell_type": "code",
   "execution_count": 150,
   "metadata": {},
   "outputs": [],
   "source": [
    "import statsmodels.api as sm\n",
    "from statsmodels.formula.api import ols"
   ]
  },
  {
   "cell_type": "code",
   "execution_count": 151,
   "metadata": {},
   "outputs": [],
   "source": [
    "model = ols(\"Sales ~ Store+ DayOfWeek\", data=second_df).fit()"
   ]
  },
  {
   "cell_type": "code",
   "execution_count": 152,
   "metadata": {},
   "outputs": [
    {
     "data": {
      "text/html": [
       "<div>\n",
       "<style scoped>\n",
       "    .dataframe tbody tr th:only-of-type {\n",
       "        vertical-align: middle;\n",
       "    }\n",
       "\n",
       "    .dataframe tbody tr th {\n",
       "        vertical-align: top;\n",
       "    }\n",
       "\n",
       "    .dataframe thead th {\n",
       "        text-align: right;\n",
       "    }\n",
       "</style>\n",
       "<table border=\"1\" class=\"dataframe\">\n",
       "  <thead>\n",
       "    <tr style=\"text-align: right;\">\n",
       "      <th></th>\n",
       "      <th>sum_sq</th>\n",
       "      <th>df</th>\n",
       "      <th>F</th>\n",
       "      <th>PR(&gt;F)</th>\n",
       "    </tr>\n",
       "  </thead>\n",
       "  <tbody>\n",
       "    <tr>\n",
       "      <th>Store</th>\n",
       "      <td>1.372144e+08</td>\n",
       "      <td>1.0</td>\n",
       "      <td>11.661004</td>\n",
       "      <td>0.000638</td>\n",
       "    </tr>\n",
       "    <tr>\n",
       "      <th>DayOfWeek</th>\n",
       "      <td>3.270618e+12</td>\n",
       "      <td>1.0</td>\n",
       "      <td>277949.708754</td>\n",
       "      <td>0.000000</td>\n",
       "    </tr>\n",
       "    <tr>\n",
       "      <th>Residual</th>\n",
       "      <td>1.197591e+13</td>\n",
       "      <td>1017759.0</td>\n",
       "      <td>NaN</td>\n",
       "      <td>NaN</td>\n",
       "    </tr>\n",
       "  </tbody>\n",
       "</table>\n",
       "</div>"
      ],
      "text/plain": [
       "                 sum_sq         df              F    PR(>F)\n",
       "Store      1.372144e+08        1.0      11.661004  0.000638\n",
       "DayOfWeek  3.270618e+12        1.0  277949.708754  0.000000\n",
       "Residual   1.197591e+13  1017759.0            NaN       NaN"
      ]
     },
     "execution_count": 152,
     "metadata": {},
     "output_type": "execute_result"
    }
   ],
   "source": [
    "rs = sm.stats.anova_lm(model, typ=2)\n",
    "rs"
   ]
  },
  {
   "cell_type": "code",
   "execution_count": 153,
   "metadata": {},
   "outputs": [
    {
     "data": {
      "text/html": [
       "<div>\n",
       "<style scoped>\n",
       "    .dataframe tbody tr th:only-of-type {\n",
       "        vertical-align: middle;\n",
       "    }\n",
       "\n",
       "    .dataframe tbody tr th {\n",
       "        vertical-align: top;\n",
       "    }\n",
       "\n",
       "    .dataframe thead th {\n",
       "        text-align: right;\n",
       "    }\n",
       "</style>\n",
       "<table border=\"1\" class=\"dataframe\">\n",
       "  <thead>\n",
       "    <tr style=\"text-align: right;\">\n",
       "      <th></th>\n",
       "      <th>sum_sq</th>\n",
       "      <th>df</th>\n",
       "      <th>F</th>\n",
       "      <th>PR(&gt;F)</th>\n",
       "    </tr>\n",
       "  </thead>\n",
       "  <tbody>\n",
       "    <tr>\n",
       "      <th>DayOfWeek</th>\n",
       "      <td>3.270618e+12</td>\n",
       "      <td>1.0</td>\n",
       "      <td>277946.806139</td>\n",
       "      <td>0.0</td>\n",
       "    </tr>\n",
       "    <tr>\n",
       "      <th>Residual</th>\n",
       "      <td>1.197605e+13</td>\n",
       "      <td>1017760.0</td>\n",
       "      <td>NaN</td>\n",
       "      <td>NaN</td>\n",
       "    </tr>\n",
       "  </tbody>\n",
       "</table>\n",
       "</div>"
      ],
      "text/plain": [
       "                 sum_sq         df              F  PR(>F)\n",
       "DayOfWeek  3.270618e+12        1.0  277946.806139     0.0\n",
       "Residual   1.197605e+13  1017760.0            NaN     NaN"
      ]
     },
     "execution_count": 153,
     "metadata": {},
     "output_type": "execute_result"
    }
   ],
   "source": [
    "model = ols(\"Sales ~ DayOfWeek\", data=second_df).fit()\n",
    "rs = sm.stats.anova_lm(model, typ=2)\n",
    "rs"
   ]
  },
  {
   "cell_type": "code",
   "execution_count": null,
   "metadata": {},
   "outputs": [],
   "source": [
    "#model = ols(\"Sales ~ Date\", data=second_df).fit()\n",
    "#rs = sm.stats.anova_lm(model, typ=2)\n",
    "#rs"
   ]
  },
  {
   "cell_type": "code",
   "execution_count": 154,
   "metadata": {},
   "outputs": [
    {
     "data": {
      "text/html": [
       "<div>\n",
       "<style scoped>\n",
       "    .dataframe tbody tr th:only-of-type {\n",
       "        vertical-align: middle;\n",
       "    }\n",
       "\n",
       "    .dataframe tbody tr th {\n",
       "        vertical-align: top;\n",
       "    }\n",
       "\n",
       "    .dataframe thead th {\n",
       "        text-align: right;\n",
       "    }\n",
       "</style>\n",
       "<table border=\"1\" class=\"dataframe\">\n",
       "  <thead>\n",
       "    <tr style=\"text-align: right;\">\n",
       "      <th></th>\n",
       "      <th>sum_sq</th>\n",
       "      <th>df</th>\n",
       "      <th>F</th>\n",
       "      <th>PR(&gt;F)</th>\n",
       "    </tr>\n",
       "  </thead>\n",
       "  <tbody>\n",
       "    <tr>\n",
       "      <th>Customers</th>\n",
       "      <td>1.224862e+13</td>\n",
       "      <td>1.0</td>\n",
       "      <td>4.158095e+06</td>\n",
       "      <td>0.0</td>\n",
       "    </tr>\n",
       "    <tr>\n",
       "      <th>Residual</th>\n",
       "      <td>2.998045e+12</td>\n",
       "      <td>1017760.0</td>\n",
       "      <td>NaN</td>\n",
       "      <td>NaN</td>\n",
       "    </tr>\n",
       "  </tbody>\n",
       "</table>\n",
       "</div>"
      ],
      "text/plain": [
       "                 sum_sq         df             F  PR(>F)\n",
       "Customers  1.224862e+13        1.0  4.158095e+06     0.0\n",
       "Residual   2.998045e+12  1017760.0           NaN     NaN"
      ]
     },
     "execution_count": 154,
     "metadata": {},
     "output_type": "execute_result"
    }
   ],
   "source": [
    "model = ols(\"Sales ~ Customers\", data=second_df).fit()\n",
    "rs = sm.stats.anova_lm(model, typ=2)\n",
    "rs"
   ]
  },
  {
   "cell_type": "code",
   "execution_count": 155,
   "metadata": {},
   "outputs": [
    {
     "data": {
      "text/html": [
       "<div>\n",
       "<style scoped>\n",
       "    .dataframe tbody tr th:only-of-type {\n",
       "        vertical-align: middle;\n",
       "    }\n",
       "\n",
       "    .dataframe tbody tr th {\n",
       "        vertical-align: top;\n",
       "    }\n",
       "\n",
       "    .dataframe thead th {\n",
       "        text-align: right;\n",
       "    }\n",
       "</style>\n",
       "<table border=\"1\" class=\"dataframe\">\n",
       "  <thead>\n",
       "    <tr style=\"text-align: right;\">\n",
       "      <th></th>\n",
       "      <th>sum_sq</th>\n",
       "      <th>df</th>\n",
       "      <th>F</th>\n",
       "      <th>PR(&gt;F)</th>\n",
       "    </tr>\n",
       "  </thead>\n",
       "  <tbody>\n",
       "    <tr>\n",
       "      <th>Open</th>\n",
       "      <td>6.999932e+12</td>\n",
       "      <td>1.0</td>\n",
       "      <td>863887.353345</td>\n",
       "      <td>0.0</td>\n",
       "    </tr>\n",
       "    <tr>\n",
       "      <th>Residual</th>\n",
       "      <td>8.246736e+12</td>\n",
       "      <td>1017760.0</td>\n",
       "      <td>NaN</td>\n",
       "      <td>NaN</td>\n",
       "    </tr>\n",
       "  </tbody>\n",
       "</table>\n",
       "</div>"
      ],
      "text/plain": [
       "                sum_sq         df              F  PR(>F)\n",
       "Open      6.999932e+12        1.0  863887.353345     0.0\n",
       "Residual  8.246736e+12  1017760.0            NaN     NaN"
      ]
     },
     "execution_count": 155,
     "metadata": {},
     "output_type": "execute_result"
    }
   ],
   "source": [
    "model = ols(\"Sales ~ Open\", data=second_df).fit()\n",
    "rs = sm.stats.anova_lm(model, typ=2)\n",
    "rs"
   ]
  },
  {
   "cell_type": "code",
   "execution_count": 156,
   "metadata": {},
   "outputs": [
    {
     "data": {
      "text/html": [
       "<div>\n",
       "<style scoped>\n",
       "    .dataframe tbody tr th:only-of-type {\n",
       "        vertical-align: middle;\n",
       "    }\n",
       "\n",
       "    .dataframe tbody tr th {\n",
       "        vertical-align: top;\n",
       "    }\n",
       "\n",
       "    .dataframe thead th {\n",
       "        text-align: right;\n",
       "    }\n",
       "</style>\n",
       "<table border=\"1\" class=\"dataframe\">\n",
       "  <thead>\n",
       "    <tr style=\"text-align: right;\">\n",
       "      <th></th>\n",
       "      <th>sum_sq</th>\n",
       "      <th>df</th>\n",
       "      <th>F</th>\n",
       "      <th>PR(&gt;F)</th>\n",
       "    </tr>\n",
       "  </thead>\n",
       "  <tbody>\n",
       "    <tr>\n",
       "      <th>Promo</th>\n",
       "      <td>3.130777e+12</td>\n",
       "      <td>1.0</td>\n",
       "      <td>262991.759509</td>\n",
       "      <td>0.0</td>\n",
       "    </tr>\n",
       "    <tr>\n",
       "      <th>Residual</th>\n",
       "      <td>1.211589e+13</td>\n",
       "      <td>1017760.0</td>\n",
       "      <td>NaN</td>\n",
       "      <td>NaN</td>\n",
       "    </tr>\n",
       "  </tbody>\n",
       "</table>\n",
       "</div>"
      ],
      "text/plain": [
       "                sum_sq         df              F  PR(>F)\n",
       "Promo     3.130777e+12        1.0  262991.759509     0.0\n",
       "Residual  1.211589e+13  1017760.0            NaN     NaN"
      ]
     },
     "execution_count": 156,
     "metadata": {},
     "output_type": "execute_result"
    }
   ],
   "source": [
    "model = ols(\"Sales ~ Promo\", data=second_df).fit()\n",
    "rs = sm.stats.anova_lm(model, typ=2)\n",
    "rs"
   ]
  },
  {
   "cell_type": "code",
   "execution_count": 157,
   "metadata": {},
   "outputs": [
    {
     "data": {
      "text/html": [
       "<div>\n",
       "<style scoped>\n",
       "    .dataframe tbody tr th:only-of-type {\n",
       "        vertical-align: middle;\n",
       "    }\n",
       "\n",
       "    .dataframe tbody tr th {\n",
       "        vertical-align: top;\n",
       "    }\n",
       "\n",
       "    .dataframe thead th {\n",
       "        text-align: right;\n",
       "    }\n",
       "</style>\n",
       "<table border=\"1\" class=\"dataframe\">\n",
       "  <thead>\n",
       "    <tr style=\"text-align: right;\">\n",
       "      <th></th>\n",
       "      <th>sum_sq</th>\n",
       "      <th>df</th>\n",
       "      <th>F</th>\n",
       "      <th>PR(&gt;F)</th>\n",
       "    </tr>\n",
       "  </thead>\n",
       "  <tbody>\n",
       "    <tr>\n",
       "      <th>StateHoliday</th>\n",
       "      <td>9.909491e+11</td>\n",
       "      <td>4.0</td>\n",
       "      <td>17686.681946</td>\n",
       "      <td>0.0</td>\n",
       "    </tr>\n",
       "    <tr>\n",
       "      <th>Residual</th>\n",
       "      <td>1.425572e+13</td>\n",
       "      <td>1017757.0</td>\n",
       "      <td>NaN</td>\n",
       "      <td>NaN</td>\n",
       "    </tr>\n",
       "  </tbody>\n",
       "</table>\n",
       "</div>"
      ],
      "text/plain": [
       "                    sum_sq         df             F  PR(>F)\n",
       "StateHoliday  9.909491e+11        4.0  17686.681946     0.0\n",
       "Residual      1.425572e+13  1017757.0           NaN     NaN"
      ]
     },
     "execution_count": 157,
     "metadata": {},
     "output_type": "execute_result"
    }
   ],
   "source": [
    "model = ols(\"Sales ~ StateHoliday\", data=second_df).fit()\n",
    "rs = sm.stats.anova_lm(model, typ=2)\n",
    "rs"
   ]
  },
  {
   "cell_type": "code",
   "execution_count": 158,
   "metadata": {},
   "outputs": [
    {
     "data": {
      "text/html": [
       "<div>\n",
       "<style scoped>\n",
       "    .dataframe tbody tr th:only-of-type {\n",
       "        vertical-align: middle;\n",
       "    }\n",
       "\n",
       "    .dataframe tbody tr th {\n",
       "        vertical-align: top;\n",
       "    }\n",
       "\n",
       "    .dataframe thead th {\n",
       "        text-align: right;\n",
       "    }\n",
       "</style>\n",
       "<table border=\"1\" class=\"dataframe\">\n",
       "  <thead>\n",
       "    <tr style=\"text-align: right;\">\n",
       "      <th></th>\n",
       "      <th>sum_sq</th>\n",
       "      <th>df</th>\n",
       "      <th>F</th>\n",
       "      <th>PR(&gt;F)</th>\n",
       "    </tr>\n",
       "  </thead>\n",
       "  <tbody>\n",
       "    <tr>\n",
       "      <th>SchoolHoliday</th>\n",
       "      <td>1.109043e+11</td>\n",
       "      <td>1.0</td>\n",
       "      <td>7457.431464</td>\n",
       "      <td>0.0</td>\n",
       "    </tr>\n",
       "    <tr>\n",
       "      <th>Residual</th>\n",
       "      <td>1.513576e+13</td>\n",
       "      <td>1017760.0</td>\n",
       "      <td>NaN</td>\n",
       "      <td>NaN</td>\n",
       "    </tr>\n",
       "  </tbody>\n",
       "</table>\n",
       "</div>"
      ],
      "text/plain": [
       "                     sum_sq         df            F  PR(>F)\n",
       "SchoolHoliday  1.109043e+11        1.0  7457.431464     0.0\n",
       "Residual       1.513576e+13  1017760.0          NaN     NaN"
      ]
     },
     "execution_count": 158,
     "metadata": {},
     "output_type": "execute_result"
    }
   ],
   "source": [
    "model = ols(\"Sales ~ SchoolHoliday\", data=second_df).fit()\n",
    "rs = sm.stats.anova_lm(model, typ=2)\n",
    "rs"
   ]
  },
  {
   "cell_type": "code",
   "execution_count": 159,
   "metadata": {},
   "outputs": [
    {
     "data": {
      "text/html": [
       "<div>\n",
       "<style scoped>\n",
       "    .dataframe tbody tr th:only-of-type {\n",
       "        vertical-align: middle;\n",
       "    }\n",
       "\n",
       "    .dataframe tbody tr th {\n",
       "        vertical-align: top;\n",
       "    }\n",
       "\n",
       "    .dataframe thead th {\n",
       "        text-align: right;\n",
       "    }\n",
       "</style>\n",
       "<table border=\"1\" class=\"dataframe\">\n",
       "  <thead>\n",
       "    <tr style=\"text-align: right;\">\n",
       "      <th></th>\n",
       "      <th>sum_sq</th>\n",
       "      <th>df</th>\n",
       "      <th>F</th>\n",
       "      <th>PR(&gt;F)</th>\n",
       "    </tr>\n",
       "  </thead>\n",
       "  <tbody>\n",
       "    <tr>\n",
       "      <th>StoreType</th>\n",
       "      <td>2.356289e+11</td>\n",
       "      <td>3.0</td>\n",
       "      <td>5325.262861</td>\n",
       "      <td>0.0</td>\n",
       "    </tr>\n",
       "    <tr>\n",
       "      <th>Residual</th>\n",
       "      <td>1.501104e+13</td>\n",
       "      <td>1017758.0</td>\n",
       "      <td>NaN</td>\n",
       "      <td>NaN</td>\n",
       "    </tr>\n",
       "  </tbody>\n",
       "</table>\n",
       "</div>"
      ],
      "text/plain": [
       "                 sum_sq         df            F  PR(>F)\n",
       "StoreType  2.356289e+11        3.0  5325.262861     0.0\n",
       "Residual   1.501104e+13  1017758.0          NaN     NaN"
      ]
     },
     "execution_count": 159,
     "metadata": {},
     "output_type": "execute_result"
    }
   ],
   "source": [
    "model = ols(\"Sales ~ StoreType\", data=second_df).fit()\n",
    "rs = sm.stats.anova_lm(model, typ=2)\n",
    "rs"
   ]
  },
  {
   "cell_type": "code",
   "execution_count": 160,
   "metadata": {},
   "outputs": [
    {
     "data": {
      "text/html": [
       "<div>\n",
       "<style scoped>\n",
       "    .dataframe tbody tr th:only-of-type {\n",
       "        vertical-align: middle;\n",
       "    }\n",
       "\n",
       "    .dataframe tbody tr th {\n",
       "        vertical-align: top;\n",
       "    }\n",
       "\n",
       "    .dataframe thead th {\n",
       "        text-align: right;\n",
       "    }\n",
       "</style>\n",
       "<table border=\"1\" class=\"dataframe\">\n",
       "  <thead>\n",
       "    <tr style=\"text-align: right;\">\n",
       "      <th></th>\n",
       "      <th>sum_sq</th>\n",
       "      <th>df</th>\n",
       "      <th>F</th>\n",
       "      <th>PR(&gt;F)</th>\n",
       "    </tr>\n",
       "  </thead>\n",
       "  <tbody>\n",
       "    <tr>\n",
       "      <th>Assortment</th>\n",
       "      <td>1.425839e+11</td>\n",
       "      <td>2.0</td>\n",
       "      <td>4803.869467</td>\n",
       "      <td>0.0</td>\n",
       "    </tr>\n",
       "    <tr>\n",
       "      <th>Residual</th>\n",
       "      <td>1.510408e+13</td>\n",
       "      <td>1017759.0</td>\n",
       "      <td>NaN</td>\n",
       "      <td>NaN</td>\n",
       "    </tr>\n",
       "  </tbody>\n",
       "</table>\n",
       "</div>"
      ],
      "text/plain": [
       "                  sum_sq         df            F  PR(>F)\n",
       "Assortment  1.425839e+11        2.0  4803.869467     0.0\n",
       "Residual    1.510408e+13  1017759.0          NaN     NaN"
      ]
     },
     "execution_count": 160,
     "metadata": {},
     "output_type": "execute_result"
    }
   ],
   "source": [
    "model = ols(\"Sales ~ Assortment\", data=second_df).fit()\n",
    "rs = sm.stats.anova_lm(model, typ=2)\n",
    "rs"
   ]
  },
  {
   "cell_type": "code",
   "execution_count": 161,
   "metadata": {},
   "outputs": [
    {
     "data": {
      "text/html": [
       "<div>\n",
       "<style scoped>\n",
       "    .dataframe tbody tr th:only-of-type {\n",
       "        vertical-align: middle;\n",
       "    }\n",
       "\n",
       "    .dataframe tbody tr th {\n",
       "        vertical-align: top;\n",
       "    }\n",
       "\n",
       "    .dataframe thead th {\n",
       "        text-align: right;\n",
       "    }\n",
       "</style>\n",
       "<table border=\"1\" class=\"dataframe\">\n",
       "  <thead>\n",
       "    <tr style=\"text-align: right;\">\n",
       "      <th></th>\n",
       "      <th>sum_sq</th>\n",
       "      <th>df</th>\n",
       "      <th>F</th>\n",
       "      <th>PR(&gt;F)</th>\n",
       "    </tr>\n",
       "  </thead>\n",
       "  <tbody>\n",
       "    <tr>\n",
       "      <th>CompetitionDistance</th>\n",
       "      <td>4.858658e+09</td>\n",
       "      <td>1.0</td>\n",
       "      <td>324.433155</td>\n",
       "      <td>1.609088e-72</td>\n",
       "    </tr>\n",
       "    <tr>\n",
       "      <th>Residual</th>\n",
       "      <td>1.524181e+13</td>\n",
       "      <td>1017760.0</td>\n",
       "      <td>NaN</td>\n",
       "      <td>NaN</td>\n",
       "    </tr>\n",
       "  </tbody>\n",
       "</table>\n",
       "</div>"
      ],
      "text/plain": [
       "                           sum_sq         df           F        PR(>F)\n",
       "CompetitionDistance  4.858658e+09        1.0  324.433155  1.609088e-72\n",
       "Residual             1.524181e+13  1017760.0         NaN           NaN"
      ]
     },
     "execution_count": 161,
     "metadata": {},
     "output_type": "execute_result"
    }
   ],
   "source": [
    "model = ols(\"Sales ~ CompetitionDistance\", data=second_df).fit()\n",
    "rs = sm.stats.anova_lm(model, typ=2)\n",
    "rs"
   ]
  },
  {
   "cell_type": "code",
   "execution_count": 162,
   "metadata": {},
   "outputs": [
    {
     "data": {
      "text/html": [
       "<div>\n",
       "<style scoped>\n",
       "    .dataframe tbody tr th:only-of-type {\n",
       "        vertical-align: middle;\n",
       "    }\n",
       "\n",
       "    .dataframe tbody tr th {\n",
       "        vertical-align: top;\n",
       "    }\n",
       "\n",
       "    .dataframe thead th {\n",
       "        text-align: right;\n",
       "    }\n",
       "</style>\n",
       "<table border=\"1\" class=\"dataframe\">\n",
       "  <thead>\n",
       "    <tr style=\"text-align: right;\">\n",
       "      <th></th>\n",
       "      <th>sum_sq</th>\n",
       "      <th>df</th>\n",
       "      <th>F</th>\n",
       "      <th>PR(&gt;F)</th>\n",
       "    </tr>\n",
       "  </thead>\n",
       "  <tbody>\n",
       "    <tr>\n",
       "      <th>CompetitionOpenSinceMonth</th>\n",
       "      <td>8.088291e+09</td>\n",
       "      <td>1.0</td>\n",
       "      <td>540.203818</td>\n",
       "      <td>1.829480e-119</td>\n",
       "    </tr>\n",
       "    <tr>\n",
       "      <th>Residual</th>\n",
       "      <td>1.523858e+13</td>\n",
       "      <td>1017760.0</td>\n",
       "      <td>NaN</td>\n",
       "      <td>NaN</td>\n",
       "    </tr>\n",
       "  </tbody>\n",
       "</table>\n",
       "</div>"
      ],
      "text/plain": [
       "                                 sum_sq         df           F         PR(>F)\n",
       "CompetitionOpenSinceMonth  8.088291e+09        1.0  540.203818  1.829480e-119\n",
       "Residual                   1.523858e+13  1017760.0         NaN            NaN"
      ]
     },
     "execution_count": 162,
     "metadata": {},
     "output_type": "execute_result"
    }
   ],
   "source": [
    "model = ols(\"Sales ~ CompetitionOpenSinceMonth\", data=second_df).fit()\n",
    "rs = sm.stats.anova_lm(model, typ=2)\n",
    "rs"
   ]
  },
  {
   "cell_type": "code",
   "execution_count": 163,
   "metadata": {},
   "outputs": [
    {
     "data": {
      "text/html": [
       "<div>\n",
       "<style scoped>\n",
       "    .dataframe tbody tr th:only-of-type {\n",
       "        vertical-align: middle;\n",
       "    }\n",
       "\n",
       "    .dataframe tbody tr th {\n",
       "        vertical-align: top;\n",
       "    }\n",
       "\n",
       "    .dataframe thead th {\n",
       "        text-align: right;\n",
       "    }\n",
       "</style>\n",
       "<table border=\"1\" class=\"dataframe\">\n",
       "  <thead>\n",
       "    <tr style=\"text-align: right;\">\n",
       "      <th></th>\n",
       "      <th>sum_sq</th>\n",
       "      <th>df</th>\n",
       "      <th>F</th>\n",
       "      <th>PR(&gt;F)</th>\n",
       "    </tr>\n",
       "  </thead>\n",
       "  <tbody>\n",
       "    <tr>\n",
       "      <th>CompetitionOpenSinceYear</th>\n",
       "      <td>3.629010e+08</td>\n",
       "      <td>1.0</td>\n",
       "      <td>24.225286</td>\n",
       "      <td>8.571307e-07</td>\n",
       "    </tr>\n",
       "    <tr>\n",
       "      <th>Residual</th>\n",
       "      <td>1.524630e+13</td>\n",
       "      <td>1017760.0</td>\n",
       "      <td>NaN</td>\n",
       "      <td>NaN</td>\n",
       "    </tr>\n",
       "  </tbody>\n",
       "</table>\n",
       "</div>"
      ],
      "text/plain": [
       "                                sum_sq         df          F        PR(>F)\n",
       "CompetitionOpenSinceYear  3.629010e+08        1.0  24.225286  8.571307e-07\n",
       "Residual                  1.524630e+13  1017760.0        NaN           NaN"
      ]
     },
     "execution_count": 163,
     "metadata": {},
     "output_type": "execute_result"
    }
   ],
   "source": [
    "model = ols(\"Sales ~ CompetitionOpenSinceYear\", data=second_df).fit()\n",
    "rs = sm.stats.anova_lm(model, typ=2)\n",
    "rs"
   ]
  },
  {
   "cell_type": "code",
   "execution_count": 164,
   "metadata": {},
   "outputs": [
    {
     "data": {
      "text/html": [
       "<div>\n",
       "<style scoped>\n",
       "    .dataframe tbody tr th:only-of-type {\n",
       "        vertical-align: middle;\n",
       "    }\n",
       "\n",
       "    .dataframe tbody tr th {\n",
       "        vertical-align: top;\n",
       "    }\n",
       "\n",
       "    .dataframe thead th {\n",
       "        text-align: right;\n",
       "    }\n",
       "</style>\n",
       "<table border=\"1\" class=\"dataframe\">\n",
       "  <thead>\n",
       "    <tr style=\"text-align: right;\">\n",
       "      <th></th>\n",
       "      <th>sum_sq</th>\n",
       "      <th>df</th>\n",
       "      <th>F</th>\n",
       "      <th>PR(&gt;F)</th>\n",
       "    </tr>\n",
       "  </thead>\n",
       "  <tbody>\n",
       "    <tr>\n",
       "      <th>Promo2</th>\n",
       "      <td>1.186255e+11</td>\n",
       "      <td>1.0</td>\n",
       "      <td>7980.697756</td>\n",
       "      <td>0.0</td>\n",
       "    </tr>\n",
       "    <tr>\n",
       "      <th>Residual</th>\n",
       "      <td>1.512804e+13</td>\n",
       "      <td>1017760.0</td>\n",
       "      <td>NaN</td>\n",
       "      <td>NaN</td>\n",
       "    </tr>\n",
       "  </tbody>\n",
       "</table>\n",
       "</div>"
      ],
      "text/plain": [
       "                sum_sq         df            F  PR(>F)\n",
       "Promo2    1.186255e+11        1.0  7980.697756     0.0\n",
       "Residual  1.512804e+13  1017760.0          NaN     NaN"
      ]
     },
     "execution_count": 164,
     "metadata": {},
     "output_type": "execute_result"
    }
   ],
   "source": [
    "model = ols(\"Sales ~ Promo2\", data=second_df).fit()\n",
    "rs = sm.stats.anova_lm(model, typ=2)\n",
    "rs"
   ]
  },
  {
   "cell_type": "code",
   "execution_count": 165,
   "metadata": {},
   "outputs": [
    {
     "data": {
      "text/html": [
       "<div>\n",
       "<style scoped>\n",
       "    .dataframe tbody tr th:only-of-type {\n",
       "        vertical-align: middle;\n",
       "    }\n",
       "\n",
       "    .dataframe tbody tr th {\n",
       "        vertical-align: top;\n",
       "    }\n",
       "\n",
       "    .dataframe thead th {\n",
       "        text-align: right;\n",
       "    }\n",
       "</style>\n",
       "<table border=\"1\" class=\"dataframe\">\n",
       "  <thead>\n",
       "    <tr style=\"text-align: right;\">\n",
       "      <th></th>\n",
       "      <th>sum_sq</th>\n",
       "      <th>df</th>\n",
       "      <th>F</th>\n",
       "      <th>PR(&gt;F)</th>\n",
       "    </tr>\n",
       "  </thead>\n",
       "  <tbody>\n",
       "    <tr>\n",
       "      <th>Promo2SinceWeek</th>\n",
       "      <td>5.761599e+09</td>\n",
       "      <td>1.0</td>\n",
       "      <td>384.749104</td>\n",
       "      <td>1.193695e-85</td>\n",
       "    </tr>\n",
       "    <tr>\n",
       "      <th>Residual</th>\n",
       "      <td>1.524091e+13</td>\n",
       "      <td>1017760.0</td>\n",
       "      <td>NaN</td>\n",
       "      <td>NaN</td>\n",
       "    </tr>\n",
       "  </tbody>\n",
       "</table>\n",
       "</div>"
      ],
      "text/plain": [
       "                       sum_sq         df           F        PR(>F)\n",
       "Promo2SinceWeek  5.761599e+09        1.0  384.749104  1.193695e-85\n",
       "Residual         1.524091e+13  1017760.0         NaN           NaN"
      ]
     },
     "execution_count": 165,
     "metadata": {},
     "output_type": "execute_result"
    }
   ],
   "source": [
    "model = ols(\"Sales ~ Promo2SinceWeek\", data=second_df).fit()\n",
    "rs = sm.stats.anova_lm(model, typ=2)\n",
    "rs"
   ]
  },
  {
   "cell_type": "code",
   "execution_count": 166,
   "metadata": {},
   "outputs": [
    {
     "data": {
      "text/html": [
       "<div>\n",
       "<style scoped>\n",
       "    .dataframe tbody tr th:only-of-type {\n",
       "        vertical-align: middle;\n",
       "    }\n",
       "\n",
       "    .dataframe tbody tr th {\n",
       "        vertical-align: top;\n",
       "    }\n",
       "\n",
       "    .dataframe thead th {\n",
       "        text-align: right;\n",
       "    }\n",
       "</style>\n",
       "<table border=\"1\" class=\"dataframe\">\n",
       "  <thead>\n",
       "    <tr style=\"text-align: right;\">\n",
       "      <th></th>\n",
       "      <th>sum_sq</th>\n",
       "      <th>df</th>\n",
       "      <th>F</th>\n",
       "      <th>PR(&gt;F)</th>\n",
       "    </tr>\n",
       "  </thead>\n",
       "  <tbody>\n",
       "    <tr>\n",
       "      <th>Promo2SinceYear</th>\n",
       "      <td>6.316434e+09</td>\n",
       "      <td>1.0</td>\n",
       "      <td>421.815361</td>\n",
       "      <td>1.026548e-93</td>\n",
       "    </tr>\n",
       "    <tr>\n",
       "      <th>Residual</th>\n",
       "      <td>1.524035e+13</td>\n",
       "      <td>1017760.0</td>\n",
       "      <td>NaN</td>\n",
       "      <td>NaN</td>\n",
       "    </tr>\n",
       "  </tbody>\n",
       "</table>\n",
       "</div>"
      ],
      "text/plain": [
       "                       sum_sq         df           F        PR(>F)\n",
       "Promo2SinceYear  6.316434e+09        1.0  421.815361  1.026548e-93\n",
       "Residual         1.524035e+13  1017760.0         NaN           NaN"
      ]
     },
     "execution_count": 166,
     "metadata": {},
     "output_type": "execute_result"
    }
   ],
   "source": [
    "model = ols(\"Sales ~ Promo2SinceYear\", data=second_df).fit()\n",
    "rs = sm.stats.anova_lm(model, typ=2)\n",
    "rs"
   ]
  },
  {
   "cell_type": "code",
   "execution_count": 167,
   "metadata": {},
   "outputs": [
    {
     "data": {
      "text/html": [
       "<div>\n",
       "<style scoped>\n",
       "    .dataframe tbody tr th:only-of-type {\n",
       "        vertical-align: middle;\n",
       "    }\n",
       "\n",
       "    .dataframe tbody tr th {\n",
       "        vertical-align: top;\n",
       "    }\n",
       "\n",
       "    .dataframe thead th {\n",
       "        text-align: right;\n",
       "    }\n",
       "</style>\n",
       "<table border=\"1\" class=\"dataframe\">\n",
       "  <thead>\n",
       "    <tr style=\"text-align: right;\">\n",
       "      <th></th>\n",
       "      <th>sum_sq</th>\n",
       "      <th>df</th>\n",
       "      <th>F</th>\n",
       "      <th>PR(&gt;F)</th>\n",
       "    </tr>\n",
       "  </thead>\n",
       "  <tbody>\n",
       "    <tr>\n",
       "      <th>PromoInterval</th>\n",
       "      <td>4.211952e+10</td>\n",
       "      <td>2.0</td>\n",
       "      <td>1409.694043</td>\n",
       "      <td>0.0</td>\n",
       "    </tr>\n",
       "    <tr>\n",
       "      <th>Residual</th>\n",
       "      <td>1.520455e+13</td>\n",
       "      <td>1017759.0</td>\n",
       "      <td>NaN</td>\n",
       "      <td>NaN</td>\n",
       "    </tr>\n",
       "  </tbody>\n",
       "</table>\n",
       "</div>"
      ],
      "text/plain": [
       "                     sum_sq         df            F  PR(>F)\n",
       "PromoInterval  4.211952e+10        2.0  1409.694043     0.0\n",
       "Residual       1.520455e+13  1017759.0          NaN     NaN"
      ]
     },
     "execution_count": 167,
     "metadata": {},
     "output_type": "execute_result"
    }
   ],
   "source": [
    "model = ols(\"Sales ~  PromoInterval\", data=second_df).fit()\n",
    "rs = sm.stats.anova_lm(model, typ=2)\n",
    "rs"
   ]
  },
  {
   "cell_type": "code",
   "execution_count": 168,
   "metadata": {},
   "outputs": [
    {
     "data": {
      "text/html": [
       "<div>\n",
       "<style scoped>\n",
       "    .dataframe tbody tr th:only-of-type {\n",
       "        vertical-align: middle;\n",
       "    }\n",
       "\n",
       "    .dataframe tbody tr th {\n",
       "        vertical-align: top;\n",
       "    }\n",
       "\n",
       "    .dataframe thead th {\n",
       "        text-align: right;\n",
       "    }\n",
       "</style>\n",
       "<table border=\"1\" class=\"dataframe\">\n",
       "  <thead>\n",
       "    <tr style=\"text-align: right;\">\n",
       "      <th></th>\n",
       "      <th>sum_sq</th>\n",
       "      <th>df</th>\n",
       "      <th>F</th>\n",
       "      <th>PR(&gt;F)</th>\n",
       "    </tr>\n",
       "  </thead>\n",
       "  <tbody>\n",
       "    <tr>\n",
       "      <th>Day</th>\n",
       "      <td>9.444477e+08</td>\n",
       "      <td>1.0</td>\n",
       "      <td>63.048571</td>\n",
       "      <td>2.018749e-15</td>\n",
       "    </tr>\n",
       "    <tr>\n",
       "      <th>Residual</th>\n",
       "      <td>1.524572e+13</td>\n",
       "      <td>1017760.0</td>\n",
       "      <td>NaN</td>\n",
       "      <td>NaN</td>\n",
       "    </tr>\n",
       "  </tbody>\n",
       "</table>\n",
       "</div>"
      ],
      "text/plain": [
       "                sum_sq         df          F        PR(>F)\n",
       "Day       9.444477e+08        1.0  63.048571  2.018749e-15\n",
       "Residual  1.524572e+13  1017760.0        NaN           NaN"
      ]
     },
     "execution_count": 168,
     "metadata": {},
     "output_type": "execute_result"
    }
   ],
   "source": [
    "model = ols(\"Sales ~ Day\", data=second_df).fit()\n",
    "rs = sm.stats.anova_lm(model, typ=2)\n",
    "rs"
   ]
  },
  {
   "cell_type": "code",
   "execution_count": 169,
   "metadata": {},
   "outputs": [
    {
     "data": {
      "text/html": [
       "<div>\n",
       "<style scoped>\n",
       "    .dataframe tbody tr th:only-of-type {\n",
       "        vertical-align: middle;\n",
       "    }\n",
       "\n",
       "    .dataframe tbody tr th {\n",
       "        vertical-align: top;\n",
       "    }\n",
       "\n",
       "    .dataframe thead th {\n",
       "        text-align: right;\n",
       "    }\n",
       "</style>\n",
       "<table border=\"1\" class=\"dataframe\">\n",
       "  <thead>\n",
       "    <tr style=\"text-align: right;\">\n",
       "      <th></th>\n",
       "      <th>sum_sq</th>\n",
       "      <th>df</th>\n",
       "      <th>F</th>\n",
       "      <th>PR(&gt;F)</th>\n",
       "    </tr>\n",
       "  </thead>\n",
       "  <tbody>\n",
       "    <tr>\n",
       "      <th>Month</th>\n",
       "      <td>1.386090e+08</td>\n",
       "      <td>1.0</td>\n",
       "      <td>9.252642</td>\n",
       "      <td>0.002352</td>\n",
       "    </tr>\n",
       "    <tr>\n",
       "      <th>Residual</th>\n",
       "      <td>1.524653e+13</td>\n",
       "      <td>1017760.0</td>\n",
       "      <td>NaN</td>\n",
       "      <td>NaN</td>\n",
       "    </tr>\n",
       "  </tbody>\n",
       "</table>\n",
       "</div>"
      ],
      "text/plain": [
       "                sum_sq         df         F    PR(>F)\n",
       "Month     1.386090e+08        1.0  9.252642  0.002352\n",
       "Residual  1.524653e+13  1017760.0       NaN       NaN"
      ]
     },
     "execution_count": 169,
     "metadata": {},
     "output_type": "execute_result"
    }
   ],
   "source": [
    "model = ols(\"Sales ~ Month\", data=second_df).fit()\n",
    "rs = sm.stats.anova_lm(model, typ=2)\n",
    "rs"
   ]
  },
  {
   "cell_type": "code",
   "execution_count": 170,
   "metadata": {},
   "outputs": [
    {
     "data": {
      "text/html": [
       "<div>\n",
       "<style scoped>\n",
       "    .dataframe tbody tr th:only-of-type {\n",
       "        vertical-align: middle;\n",
       "    }\n",
       "\n",
       "    .dataframe tbody tr th {\n",
       "        vertical-align: top;\n",
       "    }\n",
       "\n",
       "    .dataframe thead th {\n",
       "        text-align: right;\n",
       "    }\n",
       "</style>\n",
       "<table border=\"1\" class=\"dataframe\">\n",
       "  <thead>\n",
       "    <tr style=\"text-align: right;\">\n",
       "      <th></th>\n",
       "      <th>sum_sq</th>\n",
       "      <th>df</th>\n",
       "      <th>F</th>\n",
       "      <th>PR(&gt;F)</th>\n",
       "    </tr>\n",
       "  </thead>\n",
       "  <tbody>\n",
       "    <tr>\n",
       "      <th>Year</th>\n",
       "      <td>9.068162e+09</td>\n",
       "      <td>1.0</td>\n",
       "      <td>605.68677</td>\n",
       "      <td>1.062039e-133</td>\n",
       "    </tr>\n",
       "    <tr>\n",
       "      <th>Residual</th>\n",
       "      <td>1.523760e+13</td>\n",
       "      <td>1017760.0</td>\n",
       "      <td>NaN</td>\n",
       "      <td>NaN</td>\n",
       "    </tr>\n",
       "  </tbody>\n",
       "</table>\n",
       "</div>"
      ],
      "text/plain": [
       "                sum_sq         df          F         PR(>F)\n",
       "Year      9.068162e+09        1.0  605.68677  1.062039e-133\n",
       "Residual  1.523760e+13  1017760.0        NaN            NaN"
      ]
     },
     "execution_count": 170,
     "metadata": {},
     "output_type": "execute_result"
    }
   ],
   "source": [
    "model = ols(\"Sales ~ Year\", data=second_df).fit()\n",
    "rs = sm.stats.anova_lm(model, typ=2)\n",
    "rs"
   ]
  },
  {
   "cell_type": "markdown",
   "metadata": {},
   "source": [
    "### Analysis of ANOVA test"
   ]
  },
  {
   "cell_type": "markdown",
   "metadata": {},
   "source": [
    "From looking at the siginificant level, all the variables are statistically siginificant. This means that the final dimensions of the datset is ready for the modelling and evaluation stage of the data analytics process. "
   ]
  },
  {
   "cell_type": "markdown",
   "metadata": {},
   "source": [
    "# Final Dataset "
   ]
  },
  {
   "cell_type": "markdown",
   "metadata": {},
   "source": [
    "Training Dataset = vif_reduced_dummy.\n",
    "\n",
    "Testing Dataset =  test_df_if"
   ]
  },
  {
   "cell_type": "markdown",
   "metadata": {},
   "source": [
    "# Predictive Modelling"
   ]
  },
  {
   "cell_type": "markdown",
   "metadata": {},
   "source": [
    "I will be evaluating Decision Tree, Neural Network & Multiple-linear Regreession modelling methods to evaluate how effective these models are at acccurately predicitng the sales for the different stores.    "
   ]
  },
  {
   "cell_type": "code",
   "execution_count": null,
   "metadata": {},
   "outputs": [],
   "source": []
  }
 ],
 "metadata": {
  "kernelspec": {
   "display_name": "Python 3",
   "language": "python",
   "name": "python3"
  },
  "language_info": {
   "codemirror_mode": {
    "name": "ipython",
    "version": 3
   },
   "file_extension": ".py",
   "mimetype": "text/x-python",
   "name": "python",
   "nbconvert_exporter": "python",
   "pygments_lexer": "ipython3",
   "version": "3.8.5"
  }
 },
 "nbformat": 4,
 "nbformat_minor": 4
}
